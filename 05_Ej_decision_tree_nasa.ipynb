{
  "cells": [
    {
      "cell_type": "code",
      "execution_count": 1,
      "metadata": {
        "id": "P0xLtRswK9AV"
      },
      "outputs": [],
      "source": [
        "import pandas as pd\n",
        "import seaborn as sns\n",
        "import matplotlib.pyplot as plt\n",
        "\n",
        "from sklearn.preprocessing import StandardScaler\n",
        "from sklearn.model_selection import train_test_split\n",
        "from sklearn.tree import DecisionTreeClassifier\n",
        "from sklearn.metrics import accuracy_score # métrica de evaluación\n",
        "from sklearn.metrics import classification_report\n",
        "from sklearn import metrics"
      ]
    },
    {
      "cell_type": "markdown",
      "metadata": {
        "id": "MIrmam4QK985"
      },
      "source": [
        "# Análisis Exploratorio"
      ]
    },
    {
      "cell_type": "code",
      "execution_count": null,
      "metadata": {
        "id": "5trwC-5EKCbk"
      },
      "outputs": [],
      "source": [
        "df_nasa = pd.read_csv('https://raw.githubusercontent.com/pokengineer/DataScience/main/datasets/asteroids_nasa.csv')\n",
        "df_nasa.head(5)"
      ]
    },
    {
      "cell_type": "code",
      "execution_count": null,
      "metadata": {
        "id": "F2MaDIuQK5-k"
      },
      "outputs": [],
      "source": [
        "# verificamos los tipos de datos\n",
        "df_nasa.dtypes"
      ]
    },
    {
      "cell_type": "code",
      "execution_count": null,
      "metadata": {
        "id": "5Z_MYIBPLJxL"
      },
      "outputs": [],
      "source": [
        "print(\"Tamaño del dataframe : {}\".format(df_nasa.shape))"
      ]
    },
    {
      "cell_type": "code",
      "execution_count": null,
      "metadata": {
        "id": "fOt2OYnyMu8z"
      },
      "outputs": [],
      "source": [
        "# Verificamos si hay valores nulos para imputar\n",
        "df_nasa.isnull().sum()"
      ]
    },
    {
      "cell_type": "code",
      "execution_count": null,
      "metadata": {
        "id": "lOki9Ak_LgG7"
      },
      "outputs": [],
      "source": [
        "# Analisis de la distribución de la variable target \"Hazardous\"\n",
        "print( df_nasa.Hazardous.value_counts() )\n",
        "sns.countplot(x='Hazardous', data=df_nasa, hue='Hazardous', legend=False)"
      ]
    },
    {
      "cell_type": "markdown",
      "metadata": {
        "id": "qcRRQADzNi6h"
      },
      "source": [
        "# Correlación de Variables"
      ]
    },
    {
      "cell_type": "code",
      "execution_count": null,
      "metadata": {
        "id": "tqPyTOWONRNN"
      },
      "outputs": [],
      "source": [
        "plt.figure(figsize=(14,7))\n",
        "sns.heatmap(df_nasa.drop(['Close Approach Date','Orbiting Body','Orbit Determination Date','Equinox'],axis=1).corr(), vmax=.7, cmap ='Blues', fmt=\".2f\")"
      ]
    },
    {
      "cell_type": "code",
      "execution_count": null,
      "metadata": {
        "id": "8gH15EmiORMU"
      },
      "outputs": [],
      "source": [
        "df_nasa_corr = df_nasa.drop(['Close Approach Date','Orbiting Body','Orbit Determination Date','Equinox'],axis=1).corr()[[\"Hazardous\"]]*100 # lo pasamos a porcentajes\n",
        "df_nasa_corr = df_nasa_corr.drop(\"Hazardous\", axis=0) # eliminamos la variable target\n",
        "df_nasa_corr = abs(df_nasa_corr) # nos interesa el valor absouluto\n",
        "df_nasa_corr = df_nasa_corr.sort_values([\"Hazardous\"], ascending=False) # ordenamos en forma descendente\n",
        "df_nasa_corr"
      ]
    },
    {
      "cell_type": "markdown",
      "metadata": {
        "id": "RmZa5mOdPpku"
      },
      "source": [
        "# Seleccionamos las variables que vamos a utilizar y hacemos el Split"
      ]
    },
    {
      "cell_type": "code",
      "execution_count": 9,
      "metadata": {
        "id": "_eirKez0KsCG"
      },
      "outputs": [],
      "source": [
        "# dropeo ['Orbiting Body','Equinox'] porque en todos los casos es earth y J2000\n",
        "df_nasa.drop(['Orbiting Body','Equinox'],axis=1, inplace=True)"
      ]
    },
    {
      "cell_type": "code",
      "execution_count": null,
      "metadata": {
        "id": "wAZQlfUVJjwG"
      },
      "outputs": [],
      "source": [
        "df_nasa.columns"
      ]
    },
    {
      "cell_type": "code",
      "execution_count": null,
      "metadata": {
        "id": "23lNtoIIPo_D"
      },
      "outputs": [],
      "source": [
        "df = df_nasa.drop(['Close Approach Date','Orbit Determination Date'],axis=1)\n",
        "X_nasa = df.drop(\"Hazardous\",axis=1)\n",
        "y_nasa = df[\"Hazardous\"]\n",
        "X_nasa.head()"
      ]
    },
    {
      "cell_type": "code",
      "execution_count": 12,
      "metadata": {
        "id": "drNcxQmpQhsE"
      },
      "outputs": [],
      "source": [
        "# Hacemos el Split 70-30 para train-test\n",
        "X_train, X_test, y_train, y_test = train_test_split(X_nasa, y_nasa, test_size=0.3, stratify = y_nasa, random_state=0)"
      ]
    },
    {
      "cell_type": "code",
      "execution_count": null,
      "metadata": {
        "id": "1vL8iYzvsgaB"
      },
      "outputs": [],
      "source": [
        "# Creamos y entrenamos modelo\n",
        "treeclf = DecisionTreeClassifier(max_depth=3, random_state=1) # maxima profundidad = 3\n",
        "treeclf.fit(X_train, y_train) # entrenamos el árbol"
      ]
    },
    {
      "cell_type": "code",
      "execution_count": null,
      "metadata": {
        "id": "xbUWBQPdFRJd"
      },
      "outputs": [],
      "source": [
        "# Importamos la librería que necesitamos\n",
        "from sklearn.tree import export_graphviz\n",
        "from IPython.display import Image\n",
        "import pydotplus\n",
        "\n",
        "# Visualizamos el árbol generado usando graphviz\n",
        "dot_data = export_graphviz(treeclf, out_file=None,\n",
        "                feature_names=X_nasa.columns,\n",
        "                filled=True, rounded=True,\n",
        "                special_characters=True)\n",
        "graph = pydotplus.graph_from_dot_data(dot_data)\n",
        "Image(graph.create_png())"
      ]
    },
    {
      "cell_type": "code",
      "execution_count": null,
      "metadata": {
        "id": "gkciBNHhsycS"
      },
      "outputs": [],
      "source": [
        "y_pred_tc = treeclf.predict(X_test)\n",
        "\n",
        "#Exactitud del modelo\n",
        "print('Exactitud (accuracy) del modelo: {:.2f} %'.format(accuracy_score(y_test, y_pred_tc)*100))\n",
        "print(\"-\"*100)\n",
        "\n",
        "# Reporte del clasificador\n",
        "from sklearn.metrics import classification_report\n",
        "print(classification_report(y_test,y_pred_tc))"
      ]
    },
    {
      "cell_type": "markdown",
      "metadata": {
        "id": "im1OPXM9dvth"
      },
      "source": [
        "# Comparamos por curva ROC con naive bayes"
      ]
    },
    {
      "cell_type": "code",
      "execution_count": 30,
      "metadata": {
        "id": "-pfMpiQFekUB"
      },
      "outputs": [],
      "source": [
        "from sklearn.naive_bayes import MultinomialNB\n",
        "from sklearn.naive_bayes import GaussianNB\n",
        "\n",
        "bayes_multi = MultinomialNB()\n",
        "bayes_multi.fit(X_train, y_train)\n",
        "y_pred_nb = bayes_multi.predict(X_test)"
      ]
    },
    {
      "cell_type": "code",
      "execution_count": null,
      "metadata": {
        "id": "4sLwZVvvdtOu"
      },
      "outputs": [],
      "source": [
        "def graficarCurvaRoc( y_pred, model ):\n",
        "  fpr, tpr, _ = metrics.roc_curve(y_test,  y_pred)\n",
        "  auc = metrics.roc_auc_score(y_test, y_pred)\n",
        "  # Graficamos\n",
        "  plt.plot(fpr,tpr,label= model +\" AUC=\"+str(round(auc,4))) #,label= \"AUC=\"+str(auc))\n",
        "  plt.legend(loc=4, fontsize=12)\n",
        "  return auc\n",
        "\n",
        "# Inicializamos los labels del gráfico\n",
        "plt.figure(figsize=(20, 10))\n",
        "plt.xlabel('% Not Hazardous', fontsize=14)\n",
        "plt.ylabel('% Hazardous', fontsize=14)\n",
        "\n",
        "# Graficamos la recta del azar\n",
        "it = [i/100 for i in range(100)]\n",
        "plt.plot(it,it,label=\"AZAR AUC=0.5\",color=\"black\")\n",
        "\n",
        "modelos = {'bayesMulti':y_pred_nb, 'arbol':y_pred_tc }\n",
        "for pred in modelos:\n",
        "    auc = graficarCurvaRoc( modelos[pred] , pred )\n",
        "\n",
        "# Agregamos el titulo y configuro el tamaño de letra\n",
        "plt.title(\"Curva ROC\", fontsize=14)\n",
        "plt.tick_params(labelsize=12)\n",
        "plt.show()"
      ]
    },
    {
      "cell_type": "markdown",
      "metadata": {
        "id": "fVOQIHqXmAj8"
      },
      "source": [
        "# Ejercicio\n",
        "- ¿Cómo se compara el performance del arbol con Naive bayes en este dataset?\n",
        "- usando treeclf.feature_importances_ podemos ver la importancia de cada una de las columnas de X para el modelo, ¿que sucede con los arboles con menor profundidad?\n",
        "- implementar un modelo de bosque aleatoreo ([random forest](https://scikit-learn.org/stable/modules/generated/sklearn.ensemble.RandomForestClassifier.html)) y comparar su curva ROC\n",
        "- ¿Cual es la diferencia entre los hiperparametros min_samples_split y min_samples_leaf?\n",
        "- ¿Como se compara la performance de un arbol de profundidad 1, 3 o 10?\n",
        "- ¿Afectará al modelo si escalamos las variables?"
      ]
    },
    {
      "cell_type": "code",
      "execution_count": null,
      "metadata": {
        "id": "f5ZUPk7Mgp52"
      },
      "outputs": [],
      "source": []
    }
  ],
  "metadata": {
    "colab": {
      "provenance": []
    },
    "kernelspec": {
      "display_name": "Python 3",
      "name": "python3"
    },
    "language_info": {
      "codemirror_mode": {
        "name": "ipython",
        "version": 3
      },
      "file_extension": ".py",
      "mimetype": "text/x-python",
      "name": "python",
      "nbconvert_exporter": "python",
      "pygments_lexer": "ipython3",
      "version": "3.9.1"
    }
  },
  "nbformat": 4,
  "nbformat_minor": 0
}
