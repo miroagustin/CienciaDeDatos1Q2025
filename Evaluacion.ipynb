{
  "nbformat": 4,
  "nbformat_minor": 0,
  "metadata": {
    "colab": {
      "provenance": [],
      "collapsed_sections": [
        "gLSf64ttbjzD",
        "Cu9UFBy91iL6"
      ]
    },
    "kernelspec": {
      "name": "python3",
      "display_name": "Python 3"
    },
    "language_info": {
      "name": "python"
    }
  },
  "cells": [
    {
      "cell_type": "markdown",
      "metadata": {
        "id": "oyu6waNTbjzA"
      },
      "source": [
        "# Examen Práctico"
      ]
    },
    {
      "cell_type": "markdown",
      "metadata": {
        "id": "NFbITruJbjzB"
      },
      "source": [
        "#### 01-3900 | Ciencia de datos | 2025"
      ]
    },
    {
      "cell_type": "markdown",
      "metadata": {
        "id": "eHVZLGrGbjzB"
      },
      "source": [
        "*Alumno*:"
      ]
    },
    {
      "cell_type": "markdown",
      "metadata": {
        "id": "ndyVo1lgbjzB"
      },
      "source": [
        "## Enunciado"
      ]
    },
    {
      "cell_type": "markdown",
      "metadata": {
        "id": "uyEiWR_ObjzB"
      },
      "source": [
        "Se tienen un dataset con datos de pacientes internados en un hospital (TP_Virus_Alumnos.csv). La clase de interes (1) refiere a la presencia de un virus. El virus tiene normalmente una gravedad leve/baja y el tratamiento suele ser invasivo. Datos como nombre y apellido han sido eliminados y los valores tanto en sangre (BLD), hormonales u otros análisis sobre reactivos han sido alterados en sus valores para preservar la privacidad. Se aclara que no se ha modificado su capacidad predictiva (Si es que la tienen).\n"
      ]
    },
    {
      "cell_type": "markdown",
      "metadata": {
        "id": "KvxOznkZbjzC"
      },
      "source": [
        "Para su conocimiento: </BR>\n",
        "Datos generales de Edad, Peso, Altura y condición laboral (Activo, Pasivo etc).\n",
        "Datos medidos en hospital:</BR>\n",
        "BLD: Sangre</BR>\n",
        "LVL: Hormonales</BR>\n",
        "REC: Otros análisis</BR>\n",
        "\n",
        "Se pide obtener con los datos disponibles el mejor modelo posible que prediga la presencia o ausencia del virus.\n",
        "Dado que el tratamiento es invasivo y la grevedad es moderada se requiere \"atrapar\" tantos \"1\" como sea posible y minimizar los falsos positivos para evitar que reciban un tratamiento de estas caracteristicas personas que no presentan el virus. Intente obtener el mejor modelo que maximice la métrica que considere correspondiente.\n",
        "\n"
      ]
    },
    {
      "cell_type": "markdown",
      "metadata": {
        "id": "ToUL6cxGbjzC"
      },
      "source": [
        "## Como desarrollar el exámen"
      ]
    },
    {
      "cell_type": "markdown",
      "metadata": {
        "id": "75zCPD58bjzC"
      },
      "source": [
        "A partir del dataset realice todas las acciones para poder llegar al mejor modelo, explique brevemente en los fundamentos de sus transformaciones o acciones en general."
      ]
    },
    {
      "cell_type": "markdown",
      "metadata": {
        "id": "HKZz_S56bjzC"
      },
      "source": [
        "La nota derivará de: </BR>\n",
        "1.La calidad de la clasificación realizada</BR>\n",
        "2.La fundamentación de los pasos realizados</BR>\n",
        "3.Lo sencillo de llevar a producción el desarrollo</BR>\n",
        "\n"
      ]
    },
    {
      "cell_type": "markdown",
      "metadata": {
        "id": "C08Mxqy-bjzD"
      },
      "source": [
        "Los docentes evaluaran su clasificador utilizando un conjunto de datos del dataset \"fuera de la caja\" (out of the box, al que usted no tiene acceso). Para minimizar la posible diferencia entre su medición y la medición del docente recuerde y aplique conceptos de test, validación cruzada y evite los errores comunes de sesgo de selección y fuga de datos (Sklearn \"10. Common pitfalls and recommended practices\" disponible en \"https://scikit-learn.org/stable/common_pitfalls.html)\"   "
      ]
    },
    {
      "cell_type": "markdown",
      "metadata": {
        "id": "K6dWpkL4bjzD"
      },
      "source": [
        "Al final del notebook encontrará un bloque de código que lee la muestra adicional (a la que usted no tiene acceso) si PRODUCCION==True, en caso contrario solo lee una submuestra del conjunto original para validar que el código funciona. Desarrolle el notebook como considere para finalmente asignar el mejor clasificador o pipeline que usted haya obtenido remplazando en f_clf = None, None por su clasificador o pipeline. Si no utiliza un pipeline, implemente todas las transformaciones entre esa línea y la predicción final."
      ]
    },
    {
      "cell_type": "markdown",
      "metadata": {
        "id": "F1kqp1CAbjzD"
      },
      "source": [
        "Persista modelos si realiza procesos que demoren (Mas de 10 minutos es mucho), alternativamente si quiere realizar búsquedas exhaustivas de hiperparametros o variables explicite el procedimiento y luego utilice los valores obtenidos para ajustar un clasificador/regresor y que los tiempos sean posibles en la corrección. Todas las herramientas vistas en clase están disponibles. Verifique que los docentes pueden ejecutar su clasificador / regresor usando el código adjunto y los datos \"fuera de la caja\" para validar la calidad su modelo.  "
      ]
    },
    {
      "cell_type": "markdown",
      "metadata": {
        "id": "l1hxRUtPbjzD"
      },
      "source": [
        "En materiales del MIEL/GIT se adjuntan un notebooks con algunas ideas para automatizar el proceso (Pipelines/Transformadores customizados)."
      ]
    },
    {
      "cell_type": "markdown",
      "metadata": {
        "id": "gLSf64ttbjzD"
      },
      "source": [
        "## Evaluacion final - Docente + Alumno"
      ]
    },
    {
      "cell_type": "markdown",
      "source": [
        "Enunciado:"
      ],
      "metadata": {
        "id": "epCC__lxwpt8"
      }
    },
    {
      "cell_type": "code",
      "execution_count": 9,
      "metadata": {
        "id": "nCS4XxdnbjzD"
      },
      "outputs": [],
      "source": [
        "import pandas as pd\n",
        "from sklearn.metrics import classification_report\n",
        "from sklearn.model_selection import train_test_split\n",
        "\n",
        "PRODUCCION = False\n",
        "best_clf = None #Asignar aqui el mejor clasificador/pipeline posible (previamente entrenado si es necesario)\n",
        "\n",
        "#Leemos el dataset de evaluación, simulando producción\n",
        "if PRODUCCION==False:\n",
        "    df = pd.read_csv(\"https://raw.githubusercontent.com/miroagustin/CienciaDeDatos1Q2025/main/TP_Virus_Alumnos.csv\")\n",
        "    _, df = train_test_split(df, test_size=0.3, random_state=42)\n",
        "else:\n",
        "    df = pd.read_csv(\"TP_Virus_Evaluacion.csv\")\n",
        "#Dividimos en target y predictoras\n",
        "\n",
        "X_prod = df.drop(\"target\", axis=1)\n",
        "y_prod = df[\"target\"]\n",
        "\n",
        "#Transformaciones en caso de no ser un pipeline completo. Preferiblemente, el mejor pipeline debe incluir todas las transformaciones necesarias.\n",
        "#Si es pipeline ejecutar el fit (tener en cuenta el tiempo). Si mediante exploración / busqueda exhaustiva se encontró el mejor clasificador\n",
        "#harcodear sus hiperparametros (Adjuntar código y explicación de como se encontró el mejor clasificador).\n",
        "\n",
        "#Evaluación final\n",
        "y_pred = best_clf.predict(X_prod)\n",
        "print(classification_report(y_prod, y_pred))"
      ]
    },
    {
      "cell_type": "markdown",
      "source": [
        "Fin del enunciado"
      ],
      "metadata": {
        "id": "1ANgLbfiwwT6"
      }
    },
    {
      "cell_type": "markdown",
      "source": [
        "---"
      ],
      "metadata": {
        "id": "hpafC1Z1wzJO"
      }
    },
    {
      "cell_type": "markdown",
      "source": [
        "# Solucion"
      ],
      "metadata": {
        "id": "RvtyOduHw1P2"
      }
    },
    {
      "cell_type": "markdown",
      "source": [
        "### Carga de librerias\n"
      ],
      "metadata": {
        "id": "fRPjmgE5w9E1"
      }
    },
    {
      "cell_type": "code",
      "source": [
        "import pandas as pd\n",
        "import numpy as np\n",
        "import matplotlib.pyplot as plt\n",
        "import seaborn as sns\n",
        "\n",
        "from sklearn.model_selection import train_test_split, GridSearchCV, StratifiedKFold, cross_val_score\n",
        "from sklearn.pipeline import Pipeline\n",
        "from sklearn.compose import ColumnTransformer\n",
        "from sklearn.impute import SimpleImputer\n",
        "from sklearn.preprocessing import StandardScaler, OneHotEncoder\n",
        "from sklearn.feature_selection import VarianceThreshold\n",
        "from sklearn.metrics import classification_report, precision_recall_curve, roc_auc_score, make_scorer, f1_score\n",
        "\n",
        "# Importar distintos clasificadores para comparar\n",
        "from sklearn.linear_model import LogisticRegression\n",
        "from sklearn.ensemble import RandomForestClassifier\n",
        "from sklearn.tree import DecisionTreeClassifier\n",
        "from xgboost import XGBClassifier\n",
        "\n",
        "# Fijar semilla para reproducibilidad\n",
        "SEED = 42\n",
        "np.random.seed(SEED)\n"
      ],
      "metadata": {
        "id": "70VsEbOKxriM"
      },
      "execution_count": 10,
      "outputs": []
    },
    {
      "cell_type": "markdown",
      "source": [
        "## Lectura del dataset y muestreo\n",
        "Leer el CSV, separar un 30 % para “prueba” en modo desarrollo, o cargar directamente el archivo de evaluación si estamos en producción."
      ],
      "metadata": {
        "id": "Pv5lNaAUx3iq"
      }
    },
    {
      "cell_type": "code",
      "source": [
        "PRODUCCION = False\n",
        "\n",
        "if not PRODUCCION:\n",
        "    df = pd.read_csv(\"https://raw.githubusercontent.com/miroagustin/CienciaDeDatos1Q2025/main/TP_Virus_Alumnos.csv\")\n",
        "    # Partición para simular producción: 70% para entrenamiento, 30% para evaluación “desarrollador”\n",
        "    df_train, df_eval = train_test_split(df, test_size=0.30, stratify=df[\"target\"], random_state=SEED)\n",
        "    df = df_eval.copy()    # df será la muestra de evaluación para validar que el pipeline funciona\n",
        "else:\n",
        "    df = pd.read_csv(\"TP_Virus_Evaluacion.csv\")\n",
        "\n",
        "# Separar X e y\n",
        "X = df.drop(\"target\", axis=1)\n",
        "y = df[\"target\"]\n",
        "\n",
        "# Inspección rápida de las primeras filas\n",
        "print(\"Dimensiones del dataset:\", df.shape)\n",
        "df.head()\n"
      ],
      "metadata": {
        "colab": {
          "base_uri": "https://localhost:8080/",
          "height": 224
        },
        "id": "cIwBpdALx9iC",
        "outputId": "237484b4-326e-44cc-cf8d-b2fd79bcaa06"
      },
      "execution_count": 11,
      "outputs": [
        {
          "output_type": "stream",
          "name": "stdout",
          "text": [
            "Dimensiones del dataset: (1260, 15)\n"
          ]
        },
        {
          "output_type": "execute_result",
          "data": {
            "text/plain": [
              "      Edad     Genero       Peso     Laboral  hijos     BLD01      REC1  \\\n",
              "3532  71.0  Masculino  85.784558    Inactivo      4  1.835205  3.316187   \n",
              "3221  39.0        NaN  88.417977  No_declara      2  3.137095  4.969963   \n",
              "1101  67.0        NaN  89.228598      Activo      3 -1.164004  4.818056   \n",
              "303   37.0  Masculino  98.040612    Inactivo      4  1.652134  4.301773   \n",
              "1910  33.0  Masculino  69.053571      Activo      3 -0.026018  3.107871   \n",
              "\n",
              "           REC2       REC3       REC4       REC5     BLD02     BLD03  \\\n",
              "3532  63.464743  73.234624  14.861363  90.182980  1.036246 -0.900866   \n",
              "3221  64.331526  71.837088  14.320104  89.706096  2.166211 -0.050961   \n",
              "1101  64.674380  72.352656  16.241628  92.185653  2.243227  2.881789   \n",
              "303   63.960158  73.432508  15.800844  88.827282  0.684350  0.029287   \n",
              "1910  63.031812  74.699314  14.526854  88.991991  0.716040  1.069503   \n",
              "\n",
              "                 LVL  target  \n",
              "3532      105.989545       1  \n",
              "3221  1000000.000000       1  \n",
              "1101  1000000.000000       1  \n",
              "303   1000000.000000       0  \n",
              "1910      110.497259       0  "
            ],
            "text/html": [
              "\n",
              "  <div id=\"df-9a064d1b-4908-4697-b6f3-b1cd6194a3cf\" class=\"colab-df-container\">\n",
              "    <div>\n",
              "<style scoped>\n",
              "    .dataframe tbody tr th:only-of-type {\n",
              "        vertical-align: middle;\n",
              "    }\n",
              "\n",
              "    .dataframe tbody tr th {\n",
              "        vertical-align: top;\n",
              "    }\n",
              "\n",
              "    .dataframe thead th {\n",
              "        text-align: right;\n",
              "    }\n",
              "</style>\n",
              "<table border=\"1\" class=\"dataframe\">\n",
              "  <thead>\n",
              "    <tr style=\"text-align: right;\">\n",
              "      <th></th>\n",
              "      <th>Edad</th>\n",
              "      <th>Genero</th>\n",
              "      <th>Peso</th>\n",
              "      <th>Laboral</th>\n",
              "      <th>hijos</th>\n",
              "      <th>BLD01</th>\n",
              "      <th>REC1</th>\n",
              "      <th>REC2</th>\n",
              "      <th>REC3</th>\n",
              "      <th>REC4</th>\n",
              "      <th>REC5</th>\n",
              "      <th>BLD02</th>\n",
              "      <th>BLD03</th>\n",
              "      <th>LVL</th>\n",
              "      <th>target</th>\n",
              "    </tr>\n",
              "  </thead>\n",
              "  <tbody>\n",
              "    <tr>\n",
              "      <th>3532</th>\n",
              "      <td>71.0</td>\n",
              "      <td>Masculino</td>\n",
              "      <td>85.784558</td>\n",
              "      <td>Inactivo</td>\n",
              "      <td>4</td>\n",
              "      <td>1.835205</td>\n",
              "      <td>3.316187</td>\n",
              "      <td>63.464743</td>\n",
              "      <td>73.234624</td>\n",
              "      <td>14.861363</td>\n",
              "      <td>90.182980</td>\n",
              "      <td>1.036246</td>\n",
              "      <td>-0.900866</td>\n",
              "      <td>105.989545</td>\n",
              "      <td>1</td>\n",
              "    </tr>\n",
              "    <tr>\n",
              "      <th>3221</th>\n",
              "      <td>39.0</td>\n",
              "      <td>NaN</td>\n",
              "      <td>88.417977</td>\n",
              "      <td>No_declara</td>\n",
              "      <td>2</td>\n",
              "      <td>3.137095</td>\n",
              "      <td>4.969963</td>\n",
              "      <td>64.331526</td>\n",
              "      <td>71.837088</td>\n",
              "      <td>14.320104</td>\n",
              "      <td>89.706096</td>\n",
              "      <td>2.166211</td>\n",
              "      <td>-0.050961</td>\n",
              "      <td>1000000.000000</td>\n",
              "      <td>1</td>\n",
              "    </tr>\n",
              "    <tr>\n",
              "      <th>1101</th>\n",
              "      <td>67.0</td>\n",
              "      <td>NaN</td>\n",
              "      <td>89.228598</td>\n",
              "      <td>Activo</td>\n",
              "      <td>3</td>\n",
              "      <td>-1.164004</td>\n",
              "      <td>4.818056</td>\n",
              "      <td>64.674380</td>\n",
              "      <td>72.352656</td>\n",
              "      <td>16.241628</td>\n",
              "      <td>92.185653</td>\n",
              "      <td>2.243227</td>\n",
              "      <td>2.881789</td>\n",
              "      <td>1000000.000000</td>\n",
              "      <td>1</td>\n",
              "    </tr>\n",
              "    <tr>\n",
              "      <th>303</th>\n",
              "      <td>37.0</td>\n",
              "      <td>Masculino</td>\n",
              "      <td>98.040612</td>\n",
              "      <td>Inactivo</td>\n",
              "      <td>4</td>\n",
              "      <td>1.652134</td>\n",
              "      <td>4.301773</td>\n",
              "      <td>63.960158</td>\n",
              "      <td>73.432508</td>\n",
              "      <td>15.800844</td>\n",
              "      <td>88.827282</td>\n",
              "      <td>0.684350</td>\n",
              "      <td>0.029287</td>\n",
              "      <td>1000000.000000</td>\n",
              "      <td>0</td>\n",
              "    </tr>\n",
              "    <tr>\n",
              "      <th>1910</th>\n",
              "      <td>33.0</td>\n",
              "      <td>Masculino</td>\n",
              "      <td>69.053571</td>\n",
              "      <td>Activo</td>\n",
              "      <td>3</td>\n",
              "      <td>-0.026018</td>\n",
              "      <td>3.107871</td>\n",
              "      <td>63.031812</td>\n",
              "      <td>74.699314</td>\n",
              "      <td>14.526854</td>\n",
              "      <td>88.991991</td>\n",
              "      <td>0.716040</td>\n",
              "      <td>1.069503</td>\n",
              "      <td>110.497259</td>\n",
              "      <td>0</td>\n",
              "    </tr>\n",
              "  </tbody>\n",
              "</table>\n",
              "</div>\n",
              "    <div class=\"colab-df-buttons\">\n",
              "\n",
              "  <div class=\"colab-df-container\">\n",
              "    <button class=\"colab-df-convert\" onclick=\"convertToInteractive('df-9a064d1b-4908-4697-b6f3-b1cd6194a3cf')\"\n",
              "            title=\"Convert this dataframe to an interactive table.\"\n",
              "            style=\"display:none;\">\n",
              "\n",
              "  <svg xmlns=\"http://www.w3.org/2000/svg\" height=\"24px\" viewBox=\"0 -960 960 960\">\n",
              "    <path d=\"M120-120v-720h720v720H120Zm60-500h600v-160H180v160Zm220 220h160v-160H400v160Zm0 220h160v-160H400v160ZM180-400h160v-160H180v160Zm440 0h160v-160H620v160ZM180-180h160v-160H180v160Zm440 0h160v-160H620v160Z\"/>\n",
              "  </svg>\n",
              "    </button>\n",
              "\n",
              "  <style>\n",
              "    .colab-df-container {\n",
              "      display:flex;\n",
              "      gap: 12px;\n",
              "    }\n",
              "\n",
              "    .colab-df-convert {\n",
              "      background-color: #E8F0FE;\n",
              "      border: none;\n",
              "      border-radius: 50%;\n",
              "      cursor: pointer;\n",
              "      display: none;\n",
              "      fill: #1967D2;\n",
              "      height: 32px;\n",
              "      padding: 0 0 0 0;\n",
              "      width: 32px;\n",
              "    }\n",
              "\n",
              "    .colab-df-convert:hover {\n",
              "      background-color: #E2EBFA;\n",
              "      box-shadow: 0px 1px 2px rgba(60, 64, 67, 0.3), 0px 1px 3px 1px rgba(60, 64, 67, 0.15);\n",
              "      fill: #174EA6;\n",
              "    }\n",
              "\n",
              "    .colab-df-buttons div {\n",
              "      margin-bottom: 4px;\n",
              "    }\n",
              "\n",
              "    [theme=dark] .colab-df-convert {\n",
              "      background-color: #3B4455;\n",
              "      fill: #D2E3FC;\n",
              "    }\n",
              "\n",
              "    [theme=dark] .colab-df-convert:hover {\n",
              "      background-color: #434B5C;\n",
              "      box-shadow: 0px 1px 3px 1px rgba(0, 0, 0, 0.15);\n",
              "      filter: drop-shadow(0px 1px 2px rgba(0, 0, 0, 0.3));\n",
              "      fill: #FFFFFF;\n",
              "    }\n",
              "  </style>\n",
              "\n",
              "    <script>\n",
              "      const buttonEl =\n",
              "        document.querySelector('#df-9a064d1b-4908-4697-b6f3-b1cd6194a3cf button.colab-df-convert');\n",
              "      buttonEl.style.display =\n",
              "        google.colab.kernel.accessAllowed ? 'block' : 'none';\n",
              "\n",
              "      async function convertToInteractive(key) {\n",
              "        const element = document.querySelector('#df-9a064d1b-4908-4697-b6f3-b1cd6194a3cf');\n",
              "        const dataTable =\n",
              "          await google.colab.kernel.invokeFunction('convertToInteractive',\n",
              "                                                    [key], {});\n",
              "        if (!dataTable) return;\n",
              "\n",
              "        const docLinkHtml = 'Like what you see? Visit the ' +\n",
              "          '<a target=\"_blank\" href=https://colab.research.google.com/notebooks/data_table.ipynb>data table notebook</a>'\n",
              "          + ' to learn more about interactive tables.';\n",
              "        element.innerHTML = '';\n",
              "        dataTable['output_type'] = 'display_data';\n",
              "        await google.colab.output.renderOutput(dataTable, element);\n",
              "        const docLink = document.createElement('div');\n",
              "        docLink.innerHTML = docLinkHtml;\n",
              "        element.appendChild(docLink);\n",
              "      }\n",
              "    </script>\n",
              "  </div>\n",
              "\n",
              "\n",
              "    <div id=\"df-164ec67b-5710-41b6-a784-d8d667a6a5b8\">\n",
              "      <button class=\"colab-df-quickchart\" onclick=\"quickchart('df-164ec67b-5710-41b6-a784-d8d667a6a5b8')\"\n",
              "                title=\"Suggest charts\"\n",
              "                style=\"display:none;\">\n",
              "\n",
              "<svg xmlns=\"http://www.w3.org/2000/svg\" height=\"24px\"viewBox=\"0 0 24 24\"\n",
              "     width=\"24px\">\n",
              "    <g>\n",
              "        <path d=\"M19 3H5c-1.1 0-2 .9-2 2v14c0 1.1.9 2 2 2h14c1.1 0 2-.9 2-2V5c0-1.1-.9-2-2-2zM9 17H7v-7h2v7zm4 0h-2V7h2v10zm4 0h-2v-4h2v4z\"/>\n",
              "    </g>\n",
              "</svg>\n",
              "      </button>\n",
              "\n",
              "<style>\n",
              "  .colab-df-quickchart {\n",
              "      --bg-color: #E8F0FE;\n",
              "      --fill-color: #1967D2;\n",
              "      --hover-bg-color: #E2EBFA;\n",
              "      --hover-fill-color: #174EA6;\n",
              "      --disabled-fill-color: #AAA;\n",
              "      --disabled-bg-color: #DDD;\n",
              "  }\n",
              "\n",
              "  [theme=dark] .colab-df-quickchart {\n",
              "      --bg-color: #3B4455;\n",
              "      --fill-color: #D2E3FC;\n",
              "      --hover-bg-color: #434B5C;\n",
              "      --hover-fill-color: #FFFFFF;\n",
              "      --disabled-bg-color: #3B4455;\n",
              "      --disabled-fill-color: #666;\n",
              "  }\n",
              "\n",
              "  .colab-df-quickchart {\n",
              "    background-color: var(--bg-color);\n",
              "    border: none;\n",
              "    border-radius: 50%;\n",
              "    cursor: pointer;\n",
              "    display: none;\n",
              "    fill: var(--fill-color);\n",
              "    height: 32px;\n",
              "    padding: 0;\n",
              "    width: 32px;\n",
              "  }\n",
              "\n",
              "  .colab-df-quickchart:hover {\n",
              "    background-color: var(--hover-bg-color);\n",
              "    box-shadow: 0 1px 2px rgba(60, 64, 67, 0.3), 0 1px 3px 1px rgba(60, 64, 67, 0.15);\n",
              "    fill: var(--button-hover-fill-color);\n",
              "  }\n",
              "\n",
              "  .colab-df-quickchart-complete:disabled,\n",
              "  .colab-df-quickchart-complete:disabled:hover {\n",
              "    background-color: var(--disabled-bg-color);\n",
              "    fill: var(--disabled-fill-color);\n",
              "    box-shadow: none;\n",
              "  }\n",
              "\n",
              "  .colab-df-spinner {\n",
              "    border: 2px solid var(--fill-color);\n",
              "    border-color: transparent;\n",
              "    border-bottom-color: var(--fill-color);\n",
              "    animation:\n",
              "      spin 1s steps(1) infinite;\n",
              "  }\n",
              "\n",
              "  @keyframes spin {\n",
              "    0% {\n",
              "      border-color: transparent;\n",
              "      border-bottom-color: var(--fill-color);\n",
              "      border-left-color: var(--fill-color);\n",
              "    }\n",
              "    20% {\n",
              "      border-color: transparent;\n",
              "      border-left-color: var(--fill-color);\n",
              "      border-top-color: var(--fill-color);\n",
              "    }\n",
              "    30% {\n",
              "      border-color: transparent;\n",
              "      border-left-color: var(--fill-color);\n",
              "      border-top-color: var(--fill-color);\n",
              "      border-right-color: var(--fill-color);\n",
              "    }\n",
              "    40% {\n",
              "      border-color: transparent;\n",
              "      border-right-color: var(--fill-color);\n",
              "      border-top-color: var(--fill-color);\n",
              "    }\n",
              "    60% {\n",
              "      border-color: transparent;\n",
              "      border-right-color: var(--fill-color);\n",
              "    }\n",
              "    80% {\n",
              "      border-color: transparent;\n",
              "      border-right-color: var(--fill-color);\n",
              "      border-bottom-color: var(--fill-color);\n",
              "    }\n",
              "    90% {\n",
              "      border-color: transparent;\n",
              "      border-bottom-color: var(--fill-color);\n",
              "    }\n",
              "  }\n",
              "</style>\n",
              "\n",
              "      <script>\n",
              "        async function quickchart(key) {\n",
              "          const quickchartButtonEl =\n",
              "            document.querySelector('#' + key + ' button');\n",
              "          quickchartButtonEl.disabled = true;  // To prevent multiple clicks.\n",
              "          quickchartButtonEl.classList.add('colab-df-spinner');\n",
              "          try {\n",
              "            const charts = await google.colab.kernel.invokeFunction(\n",
              "                'suggestCharts', [key], {});\n",
              "          } catch (error) {\n",
              "            console.error('Error during call to suggestCharts:', error);\n",
              "          }\n",
              "          quickchartButtonEl.classList.remove('colab-df-spinner');\n",
              "          quickchartButtonEl.classList.add('colab-df-quickchart-complete');\n",
              "        }\n",
              "        (() => {\n",
              "          let quickchartButtonEl =\n",
              "            document.querySelector('#df-164ec67b-5710-41b6-a784-d8d667a6a5b8 button');\n",
              "          quickchartButtonEl.style.display =\n",
              "            google.colab.kernel.accessAllowed ? 'block' : 'none';\n",
              "        })();\n",
              "      </script>\n",
              "    </div>\n",
              "\n",
              "    </div>\n",
              "  </div>\n"
            ],
            "application/vnd.google.colaboratory.intrinsic+json": {
              "type": "dataframe",
              "variable_name": "df",
              "summary": "{\n  \"name\": \"df\",\n  \"rows\": 1260,\n  \"fields\": [\n    {\n      \"column\": \"Edad\",\n      \"properties\": {\n        \"dtype\": \"number\",\n        \"std\": 25.145169198934838,\n        \"min\": 0.0,\n        \"max\": 79.0,\n        \"num_unique_values\": 80,\n        \"samples\": [\n          64.0,\n          71.0,\n          74.0\n        ],\n        \"semantic_type\": \"\",\n        \"description\": \"\"\n      }\n    },\n    {\n      \"column\": \"Genero\",\n      \"properties\": {\n        \"dtype\": \"category\",\n        \"num_unique_values\": 3,\n        \"samples\": [\n          \"Masculino\",\n          \"Femenino\",\n          \"Otro\"\n        ],\n        \"semantic_type\": \"\",\n        \"description\": \"\"\n      }\n    },\n    {\n      \"column\": \"Peso\",\n      \"properties\": {\n        \"dtype\": \"number\",\n        \"std\": 25.945874499415766,\n        \"min\": 8.934178194834107,\n        \"max\": 128.85029745810107,\n        \"num_unique_values\": 1248,\n        \"samples\": [\n          81.50770502265141,\n          109.49632878924515,\n          75.32455901386191\n        ],\n        \"semantic_type\": \"\",\n        \"description\": \"\"\n      }\n    },\n    {\n      \"column\": \"Laboral\",\n      \"properties\": {\n        \"dtype\": \"category\",\n        \"num_unique_values\": 3,\n        \"samples\": [\n          \"Inactivo\",\n          \"No_declara\",\n          \"Activo\"\n        ],\n        \"semantic_type\": \"\",\n        \"description\": \"\"\n      }\n    },\n    {\n      \"column\": \"hijos\",\n      \"properties\": {\n        \"dtype\": \"number\",\n        \"std\": 1,\n        \"min\": 0,\n        \"max\": 5,\n        \"num_unique_values\": 6,\n        \"samples\": [\n          4,\n          2,\n          5\n        ],\n        \"semantic_type\": \"\",\n        \"description\": \"\"\n      }\n    },\n    {\n      \"column\": \"BLD01\",\n      \"properties\": {\n        \"dtype\": \"number\",\n        \"std\": 1.1470212100165647,\n        \"min\": -2.4823066467195725,\n        \"max\": 5.171081704349622,\n        \"num_unique_values\": 1260,\n        \"samples\": [\n          -1.0792438192343576,\n          1.4897152155396136,\n          1.1668556566278678\n        ],\n        \"semantic_type\": \"\",\n        \"description\": \"\"\n      }\n    },\n    {\n      \"column\": \"REC1\",\n      \"properties\": {\n        \"dtype\": \"number\",\n        \"std\": 0.9892717993335437,\n        \"min\": 0.8906010412917578,\n        \"max\": 7.512914900254897,\n        \"num_unique_values\": 1260,\n        \"samples\": [\n          5.850853056769536,\n          4.995918881959971,\n          3.8770071839875833\n        ],\n        \"semantic_type\": \"\",\n        \"description\": \"\"\n      }\n    },\n    {\n      \"column\": \"REC2\",\n      \"properties\": {\n        \"dtype\": \"number\",\n        \"std\": 0.9882473678556504,\n        \"min\": 60.89132976792195,\n        \"max\": 67.01979743438932,\n        \"num_unique_values\": 1260,\n        \"samples\": [\n          63.73041722896806,\n          63.63251783529736,\n          64.84704394323613\n        ],\n        \"semantic_type\": \"\",\n        \"description\": \"\"\n      }\n    },\n    {\n      \"column\": \"REC3\",\n      \"properties\": {\n        \"dtype\": \"number\",\n        \"std\": 1.0405433986148518,\n        \"min\": 69.56440466826706,\n        \"max\": 76.20073166551981,\n        \"num_unique_values\": 1260,\n        \"samples\": [\n          74.15264448029289,\n          72.34629467015888,\n          71.63404963079074\n        ],\n        \"semantic_type\": \"\",\n        \"description\": \"\"\n      }\n    },\n    {\n      \"column\": \"REC4\",\n      \"properties\": {\n        \"dtype\": \"number\",\n        \"std\": 1.035904589094479,\n        \"min\": 11.788271764827565,\n        \"max\": 18.07156266385355,\n        \"num_unique_values\": 1260,\n        \"samples\": [\n          14.744515693553303,\n          15.915341652596522,\n          15.898109769374011\n        ],\n        \"semantic_type\": \"\",\n        \"description\": \"\"\n      }\n    },\n    {\n      \"column\": \"REC5\",\n      \"properties\": {\n        \"dtype\": \"number\",\n        \"std\": 1.0180662761741748,\n        \"min\": 86.89106310825294,\n        \"max\": 92.98857047857238,\n        \"num_unique_values\": 1260,\n        \"samples\": [\n          90.24038737687162,\n          91.65117293795912,\n          89.27489045720051\n        ],\n        \"semantic_type\": \"\",\n        \"description\": \"\"\n      }\n    },\n    {\n      \"column\": \"BLD02\",\n      \"properties\": {\n        \"dtype\": \"number\",\n        \"std\": 0.9853349964681549,\n        \"min\": -2.2838154030485165,\n        \"max\": 4.717948304432347,\n        \"num_unique_values\": 1260,\n        \"samples\": [\n          0.5808001455135252,\n          0.7517880162563805,\n          2.2703551698394326\n        ],\n        \"semantic_type\": \"\",\n        \"description\": \"\"\n      }\n    },\n    {\n      \"column\": \"BLD03\",\n      \"properties\": {\n        \"dtype\": \"number\",\n        \"std\": 1.0003752660053473,\n        \"min\": -2.734242783888296,\n        \"max\": 3.624145124770672,\n        \"num_unique_values\": 1260,\n        \"samples\": [\n          0.0609053398900742,\n          3.1087028899083844,\n          0.0465741684288129\n        ],\n        \"semantic_type\": \"\",\n        \"description\": \"\"\n      }\n    },\n    {\n      \"column\": \"LVL\",\n      \"properties\": {\n        \"dtype\": \"number\",\n        \"std\": 423936.3254479243,\n        \"min\": -7.517717492811514,\n        \"max\": 1000000.0,\n        \"num_unique_values\": 849,\n        \"samples\": [\n          102.36564139512348,\n          65.41072241454263,\n          26.992727993692966\n        ],\n        \"semantic_type\": \"\",\n        \"description\": \"\"\n      }\n    },\n    {\n      \"column\": \"target\",\n      \"properties\": {\n        \"dtype\": \"number\",\n        \"std\": 0,\n        \"min\": 0,\n        \"max\": 1,\n        \"num_unique_values\": 2,\n        \"samples\": [\n          0,\n          1\n        ],\n        \"semantic_type\": \"\",\n        \"description\": \"\"\n      }\n    }\n  ]\n}"
            }
          },
          "metadata": {},
          "execution_count": 11
        }
      ]
    },
    {
      "cell_type": "markdown",
      "source": [
        "##  Análisis exploratorio\n",
        "* Confirmamos cuántas filas y columnas manejamos.\n",
        "* Revisamos los tipos de datos (numéricos vs. categóricos).\n",
        "* Esto nos ayudará a diseñar las transformaciones (por ejemplo, imputación y escalado para numéricos; OneHotEncoder para categóricos, etc.)."
      ],
      "metadata": {
        "id": "iGdctqZiyY6D"
      }
    },
    {
      "cell_type": "code",
      "source": [
        "print(\"Total filas:\", X.shape[0])\n",
        "print(\"Total columnas (predictoras):\", X.shape[1])\n",
        "\n",
        "print(\"\\nTipos de datos de cada columna:\")\n",
        "display(X.dtypes.value_counts())\n",
        "\n",
        "print(\"\\nCantidad de variables numéricas vs categóricas:\")\n",
        "display(X.select_dtypes(include=[\"int64\",\"float64\"]).shape[1], \"numéricas\")\n",
        "display(X.select_dtypes(include=[\"object\",\"category\"]).shape[1], \"categóricas\")\n"
      ],
      "metadata": {
        "colab": {
          "base_uri": "https://localhost:8080/",
          "height": 360
        },
        "id": "E0AeMPP8yk9y",
        "outputId": "465ea704-74d3-41a1-bbba-6c3c9238270c"
      },
      "execution_count": 12,
      "outputs": [
        {
          "output_type": "stream",
          "name": "stdout",
          "text": [
            "Total filas: 1260\n",
            "Total columnas (predictoras): 14\n",
            "\n",
            "Tipos de datos de cada columna:\n"
          ]
        },
        {
          "output_type": "display_data",
          "data": {
            "text/plain": [
              "float64    11\n",
              "object      2\n",
              "int64       1\n",
              "Name: count, dtype: int64"
            ],
            "text/html": [
              "<div>\n",
              "<style scoped>\n",
              "    .dataframe tbody tr th:only-of-type {\n",
              "        vertical-align: middle;\n",
              "    }\n",
              "\n",
              "    .dataframe tbody tr th {\n",
              "        vertical-align: top;\n",
              "    }\n",
              "\n",
              "    .dataframe thead th {\n",
              "        text-align: right;\n",
              "    }\n",
              "</style>\n",
              "<table border=\"1\" class=\"dataframe\">\n",
              "  <thead>\n",
              "    <tr style=\"text-align: right;\">\n",
              "      <th></th>\n",
              "      <th>count</th>\n",
              "    </tr>\n",
              "  </thead>\n",
              "  <tbody>\n",
              "    <tr>\n",
              "      <th>float64</th>\n",
              "      <td>11</td>\n",
              "    </tr>\n",
              "    <tr>\n",
              "      <th>object</th>\n",
              "      <td>2</td>\n",
              "    </tr>\n",
              "    <tr>\n",
              "      <th>int64</th>\n",
              "      <td>1</td>\n",
              "    </tr>\n",
              "  </tbody>\n",
              "</table>\n",
              "</div><br><label><b>dtype:</b> int64</label>"
            ]
          },
          "metadata": {}
        },
        {
          "output_type": "stream",
          "name": "stdout",
          "text": [
            "\n",
            "Cantidad de variables numéricas vs categóricas:\n"
          ]
        },
        {
          "output_type": "display_data",
          "data": {
            "text/plain": [
              "12"
            ]
          },
          "metadata": {}
        },
        {
          "output_type": "display_data",
          "data": {
            "text/plain": [
              "'numéricas'"
            ],
            "application/vnd.google.colaboratory.intrinsic+json": {
              "type": "string"
            }
          },
          "metadata": {}
        },
        {
          "output_type": "display_data",
          "data": {
            "text/plain": [
              "2"
            ]
          },
          "metadata": {}
        },
        {
          "output_type": "display_data",
          "data": {
            "text/plain": [
              "'categóricas'"
            ],
            "application/vnd.google.colaboratory.intrinsic+json": {
              "type": "string"
            }
          },
          "metadata": {}
        }
      ]
    },
    {
      "cell_type": "markdown",
      "source": [
        "### Revisión de valores faltantes y nulos\n",
        "\n",
        "*  Obtenemos el número de nulos por columna y el porcentaje relativo.\n",
        "\n",
        "* Si alguna columna presenta demasiados nulos (por ejemplo > 50 %), podríamos considerar eliminarla o buscar imputaciones muy específicas.\n",
        "\n",
        "* Si la variable target llegara a tener nulos, debemos descartarlos o imputarlos, pero según el enunciado “Nula la variable target” implicaría que no esperamos nulos allí, porque sería información “fuera de caja”. **??** *revisar❗❗❗*\n",
        "\n"
      ],
      "metadata": {
        "id": "7qsoFkdBy9jp"
      }
    },
    {
      "cell_type": "code",
      "source": [
        "missing_counts = X.isnull().sum().sort_values(ascending=False)\n",
        "missing_perc = (missing_counts / X.shape[0]) * 100\n",
        "\n",
        "df_missing = pd.DataFrame({\n",
        "    \"nulos\": missing_counts,\n",
        "    \"pct_nulos\": missing_perc.round(2)\n",
        "}).loc[missing_perc > 0]  # solo mostrar las columnas con > 0% nulos\n",
        "\n",
        "print(\"Columnas con valores faltantes:\")\n",
        "display(df_missing)\n"
      ],
      "metadata": {
        "colab": {
          "base_uri": "https://localhost:8080/",
          "height": 161
        },
        "id": "fjHwF779zCGk",
        "outputId": "b625e644-211b-46a5-a237-0021a30cd5f8"
      },
      "execution_count": 13,
      "outputs": [
        {
          "output_type": "stream",
          "name": "stdout",
          "text": [
            "Columnas con valores faltantes:\n"
          ]
        },
        {
          "output_type": "display_data",
          "data": {
            "text/plain": [
              "        nulos  pct_nulos\n",
              "Genero    497      39.44\n",
              "Edad      261      20.71\n",
              "LVL       152      12.06"
            ],
            "text/html": [
              "\n",
              "  <div id=\"df-57681f5c-3ea3-4fc8-998a-dc5d60e5a3cb\" class=\"colab-df-container\">\n",
              "    <div>\n",
              "<style scoped>\n",
              "    .dataframe tbody tr th:only-of-type {\n",
              "        vertical-align: middle;\n",
              "    }\n",
              "\n",
              "    .dataframe tbody tr th {\n",
              "        vertical-align: top;\n",
              "    }\n",
              "\n",
              "    .dataframe thead th {\n",
              "        text-align: right;\n",
              "    }\n",
              "</style>\n",
              "<table border=\"1\" class=\"dataframe\">\n",
              "  <thead>\n",
              "    <tr style=\"text-align: right;\">\n",
              "      <th></th>\n",
              "      <th>nulos</th>\n",
              "      <th>pct_nulos</th>\n",
              "    </tr>\n",
              "  </thead>\n",
              "  <tbody>\n",
              "    <tr>\n",
              "      <th>Genero</th>\n",
              "      <td>497</td>\n",
              "      <td>39.44</td>\n",
              "    </tr>\n",
              "    <tr>\n",
              "      <th>Edad</th>\n",
              "      <td>261</td>\n",
              "      <td>20.71</td>\n",
              "    </tr>\n",
              "    <tr>\n",
              "      <th>LVL</th>\n",
              "      <td>152</td>\n",
              "      <td>12.06</td>\n",
              "    </tr>\n",
              "  </tbody>\n",
              "</table>\n",
              "</div>\n",
              "    <div class=\"colab-df-buttons\">\n",
              "\n",
              "  <div class=\"colab-df-container\">\n",
              "    <button class=\"colab-df-convert\" onclick=\"convertToInteractive('df-57681f5c-3ea3-4fc8-998a-dc5d60e5a3cb')\"\n",
              "            title=\"Convert this dataframe to an interactive table.\"\n",
              "            style=\"display:none;\">\n",
              "\n",
              "  <svg xmlns=\"http://www.w3.org/2000/svg\" height=\"24px\" viewBox=\"0 -960 960 960\">\n",
              "    <path d=\"M120-120v-720h720v720H120Zm60-500h600v-160H180v160Zm220 220h160v-160H400v160Zm0 220h160v-160H400v160ZM180-400h160v-160H180v160Zm440 0h160v-160H620v160ZM180-180h160v-160H180v160Zm440 0h160v-160H620v160Z\"/>\n",
              "  </svg>\n",
              "    </button>\n",
              "\n",
              "  <style>\n",
              "    .colab-df-container {\n",
              "      display:flex;\n",
              "      gap: 12px;\n",
              "    }\n",
              "\n",
              "    .colab-df-convert {\n",
              "      background-color: #E8F0FE;\n",
              "      border: none;\n",
              "      border-radius: 50%;\n",
              "      cursor: pointer;\n",
              "      display: none;\n",
              "      fill: #1967D2;\n",
              "      height: 32px;\n",
              "      padding: 0 0 0 0;\n",
              "      width: 32px;\n",
              "    }\n",
              "\n",
              "    .colab-df-convert:hover {\n",
              "      background-color: #E2EBFA;\n",
              "      box-shadow: 0px 1px 2px rgba(60, 64, 67, 0.3), 0px 1px 3px 1px rgba(60, 64, 67, 0.15);\n",
              "      fill: #174EA6;\n",
              "    }\n",
              "\n",
              "    .colab-df-buttons div {\n",
              "      margin-bottom: 4px;\n",
              "    }\n",
              "\n",
              "    [theme=dark] .colab-df-convert {\n",
              "      background-color: #3B4455;\n",
              "      fill: #D2E3FC;\n",
              "    }\n",
              "\n",
              "    [theme=dark] .colab-df-convert:hover {\n",
              "      background-color: #434B5C;\n",
              "      box-shadow: 0px 1px 3px 1px rgba(0, 0, 0, 0.15);\n",
              "      filter: drop-shadow(0px 1px 2px rgba(0, 0, 0, 0.3));\n",
              "      fill: #FFFFFF;\n",
              "    }\n",
              "  </style>\n",
              "\n",
              "    <script>\n",
              "      const buttonEl =\n",
              "        document.querySelector('#df-57681f5c-3ea3-4fc8-998a-dc5d60e5a3cb button.colab-df-convert');\n",
              "      buttonEl.style.display =\n",
              "        google.colab.kernel.accessAllowed ? 'block' : 'none';\n",
              "\n",
              "      async function convertToInteractive(key) {\n",
              "        const element = document.querySelector('#df-57681f5c-3ea3-4fc8-998a-dc5d60e5a3cb');\n",
              "        const dataTable =\n",
              "          await google.colab.kernel.invokeFunction('convertToInteractive',\n",
              "                                                    [key], {});\n",
              "        if (!dataTable) return;\n",
              "\n",
              "        const docLinkHtml = 'Like what you see? Visit the ' +\n",
              "          '<a target=\"_blank\" href=https://colab.research.google.com/notebooks/data_table.ipynb>data table notebook</a>'\n",
              "          + ' to learn more about interactive tables.';\n",
              "        element.innerHTML = '';\n",
              "        dataTable['output_type'] = 'display_data';\n",
              "        await google.colab.output.renderOutput(dataTable, element);\n",
              "        const docLink = document.createElement('div');\n",
              "        docLink.innerHTML = docLinkHtml;\n",
              "        element.appendChild(docLink);\n",
              "      }\n",
              "    </script>\n",
              "  </div>\n",
              "\n",
              "\n",
              "    <div id=\"df-4e6ac37b-93bd-4dea-91f4-0278ed0c5e24\">\n",
              "      <button class=\"colab-df-quickchart\" onclick=\"quickchart('df-4e6ac37b-93bd-4dea-91f4-0278ed0c5e24')\"\n",
              "                title=\"Suggest charts\"\n",
              "                style=\"display:none;\">\n",
              "\n",
              "<svg xmlns=\"http://www.w3.org/2000/svg\" height=\"24px\"viewBox=\"0 0 24 24\"\n",
              "     width=\"24px\">\n",
              "    <g>\n",
              "        <path d=\"M19 3H5c-1.1 0-2 .9-2 2v14c0 1.1.9 2 2 2h14c1.1 0 2-.9 2-2V5c0-1.1-.9-2-2-2zM9 17H7v-7h2v7zm4 0h-2V7h2v10zm4 0h-2v-4h2v4z\"/>\n",
              "    </g>\n",
              "</svg>\n",
              "      </button>\n",
              "\n",
              "<style>\n",
              "  .colab-df-quickchart {\n",
              "      --bg-color: #E8F0FE;\n",
              "      --fill-color: #1967D2;\n",
              "      --hover-bg-color: #E2EBFA;\n",
              "      --hover-fill-color: #174EA6;\n",
              "      --disabled-fill-color: #AAA;\n",
              "      --disabled-bg-color: #DDD;\n",
              "  }\n",
              "\n",
              "  [theme=dark] .colab-df-quickchart {\n",
              "      --bg-color: #3B4455;\n",
              "      --fill-color: #D2E3FC;\n",
              "      --hover-bg-color: #434B5C;\n",
              "      --hover-fill-color: #FFFFFF;\n",
              "      --disabled-bg-color: #3B4455;\n",
              "      --disabled-fill-color: #666;\n",
              "  }\n",
              "\n",
              "  .colab-df-quickchart {\n",
              "    background-color: var(--bg-color);\n",
              "    border: none;\n",
              "    border-radius: 50%;\n",
              "    cursor: pointer;\n",
              "    display: none;\n",
              "    fill: var(--fill-color);\n",
              "    height: 32px;\n",
              "    padding: 0;\n",
              "    width: 32px;\n",
              "  }\n",
              "\n",
              "  .colab-df-quickchart:hover {\n",
              "    background-color: var(--hover-bg-color);\n",
              "    box-shadow: 0 1px 2px rgba(60, 64, 67, 0.3), 0 1px 3px 1px rgba(60, 64, 67, 0.15);\n",
              "    fill: var(--button-hover-fill-color);\n",
              "  }\n",
              "\n",
              "  .colab-df-quickchart-complete:disabled,\n",
              "  .colab-df-quickchart-complete:disabled:hover {\n",
              "    background-color: var(--disabled-bg-color);\n",
              "    fill: var(--disabled-fill-color);\n",
              "    box-shadow: none;\n",
              "  }\n",
              "\n",
              "  .colab-df-spinner {\n",
              "    border: 2px solid var(--fill-color);\n",
              "    border-color: transparent;\n",
              "    border-bottom-color: var(--fill-color);\n",
              "    animation:\n",
              "      spin 1s steps(1) infinite;\n",
              "  }\n",
              "\n",
              "  @keyframes spin {\n",
              "    0% {\n",
              "      border-color: transparent;\n",
              "      border-bottom-color: var(--fill-color);\n",
              "      border-left-color: var(--fill-color);\n",
              "    }\n",
              "    20% {\n",
              "      border-color: transparent;\n",
              "      border-left-color: var(--fill-color);\n",
              "      border-top-color: var(--fill-color);\n",
              "    }\n",
              "    30% {\n",
              "      border-color: transparent;\n",
              "      border-left-color: var(--fill-color);\n",
              "      border-top-color: var(--fill-color);\n",
              "      border-right-color: var(--fill-color);\n",
              "    }\n",
              "    40% {\n",
              "      border-color: transparent;\n",
              "      border-right-color: var(--fill-color);\n",
              "      border-top-color: var(--fill-color);\n",
              "    }\n",
              "    60% {\n",
              "      border-color: transparent;\n",
              "      border-right-color: var(--fill-color);\n",
              "    }\n",
              "    80% {\n",
              "      border-color: transparent;\n",
              "      border-right-color: var(--fill-color);\n",
              "      border-bottom-color: var(--fill-color);\n",
              "    }\n",
              "    90% {\n",
              "      border-color: transparent;\n",
              "      border-bottom-color: var(--fill-color);\n",
              "    }\n",
              "  }\n",
              "</style>\n",
              "\n",
              "      <script>\n",
              "        async function quickchart(key) {\n",
              "          const quickchartButtonEl =\n",
              "            document.querySelector('#' + key + ' button');\n",
              "          quickchartButtonEl.disabled = true;  // To prevent multiple clicks.\n",
              "          quickchartButtonEl.classList.add('colab-df-spinner');\n",
              "          try {\n",
              "            const charts = await google.colab.kernel.invokeFunction(\n",
              "                'suggestCharts', [key], {});\n",
              "          } catch (error) {\n",
              "            console.error('Error during call to suggestCharts:', error);\n",
              "          }\n",
              "          quickchartButtonEl.classList.remove('colab-df-spinner');\n",
              "          quickchartButtonEl.classList.add('colab-df-quickchart-complete');\n",
              "        }\n",
              "        (() => {\n",
              "          let quickchartButtonEl =\n",
              "            document.querySelector('#df-4e6ac37b-93bd-4dea-91f4-0278ed0c5e24 button');\n",
              "          quickchartButtonEl.style.display =\n",
              "            google.colab.kernel.accessAllowed ? 'block' : 'none';\n",
              "        })();\n",
              "      </script>\n",
              "    </div>\n",
              "\n",
              "  <div id=\"id_709c9451-8d93-4916-bde3-993d439dff3c\">\n",
              "    <style>\n",
              "      .colab-df-generate {\n",
              "        background-color: #E8F0FE;\n",
              "        border: none;\n",
              "        border-radius: 50%;\n",
              "        cursor: pointer;\n",
              "        display: none;\n",
              "        fill: #1967D2;\n",
              "        height: 32px;\n",
              "        padding: 0 0 0 0;\n",
              "        width: 32px;\n",
              "      }\n",
              "\n",
              "      .colab-df-generate:hover {\n",
              "        background-color: #E2EBFA;\n",
              "        box-shadow: 0px 1px 2px rgba(60, 64, 67, 0.3), 0px 1px 3px 1px rgba(60, 64, 67, 0.15);\n",
              "        fill: #174EA6;\n",
              "      }\n",
              "\n",
              "      [theme=dark] .colab-df-generate {\n",
              "        background-color: #3B4455;\n",
              "        fill: #D2E3FC;\n",
              "      }\n",
              "\n",
              "      [theme=dark] .colab-df-generate:hover {\n",
              "        background-color: #434B5C;\n",
              "        box-shadow: 0px 1px 3px 1px rgba(0, 0, 0, 0.15);\n",
              "        filter: drop-shadow(0px 1px 2px rgba(0, 0, 0, 0.3));\n",
              "        fill: #FFFFFF;\n",
              "      }\n",
              "    </style>\n",
              "    <button class=\"colab-df-generate\" onclick=\"generateWithVariable('df_missing')\"\n",
              "            title=\"Generate code using this dataframe.\"\n",
              "            style=\"display:none;\">\n",
              "\n",
              "  <svg xmlns=\"http://www.w3.org/2000/svg\" height=\"24px\"viewBox=\"0 0 24 24\"\n",
              "       width=\"24px\">\n",
              "    <path d=\"M7,19H8.4L18.45,9,17,7.55,7,17.6ZM5,21V16.75L18.45,3.32a2,2,0,0,1,2.83,0l1.4,1.43a1.91,1.91,0,0,1,.58,1.4,1.91,1.91,0,0,1-.58,1.4L9.25,21ZM18.45,9,17,7.55Zm-12,3A5.31,5.31,0,0,0,4.9,8.1,5.31,5.31,0,0,0,1,6.5,5.31,5.31,0,0,0,4.9,4.9,5.31,5.31,0,0,0,6.5,1,5.31,5.31,0,0,0,8.1,4.9,5.31,5.31,0,0,0,12,6.5,5.46,5.46,0,0,0,6.5,12Z\"/>\n",
              "  </svg>\n",
              "    </button>\n",
              "    <script>\n",
              "      (() => {\n",
              "      const buttonEl =\n",
              "        document.querySelector('#id_709c9451-8d93-4916-bde3-993d439dff3c button.colab-df-generate');\n",
              "      buttonEl.style.display =\n",
              "        google.colab.kernel.accessAllowed ? 'block' : 'none';\n",
              "\n",
              "      buttonEl.onclick = () => {\n",
              "        google.colab.notebook.generateWithVariable('df_missing');\n",
              "      }\n",
              "      })();\n",
              "    </script>\n",
              "  </div>\n",
              "\n",
              "    </div>\n",
              "  </div>\n"
            ],
            "application/vnd.google.colaboratory.intrinsic+json": {
              "type": "dataframe",
              "variable_name": "df_missing",
              "summary": "{\n  \"name\": \"df_missing\",\n  \"rows\": 3,\n  \"fields\": [\n    {\n      \"column\": \"nulos\",\n      \"properties\": {\n        \"dtype\": \"number\",\n        \"std\": 176,\n        \"min\": 152,\n        \"max\": 497,\n        \"num_unique_values\": 3,\n        \"samples\": [\n          497,\n          261,\n          152\n        ],\n        \"semantic_type\": \"\",\n        \"description\": \"\"\n      }\n    },\n    {\n      \"column\": \"pct_nulos\",\n      \"properties\": {\n        \"dtype\": \"number\",\n        \"std\": 13.995831522278337,\n        \"min\": 12.06,\n        \"max\": 39.44,\n        \"num_unique_values\": 3,\n        \"samples\": [\n          39.44,\n          20.71,\n          12.06\n        ],\n        \"semantic_type\": \"\",\n        \"description\": \"\"\n      }\n    }\n  ]\n}"
            }
          },
          "metadata": {}
        }
      ]
    },
    {
      "cell_type": "markdown",
      "source": [
        "### Balance de clases\n",
        "Vemos si la clase “1” (virus) es minoritaria. Dado que se pide “atrapar” el mayor número posible de 1, es probable que enfrentemos un desequilibrio de clases (por ejemplo, muchos ceros y pocos unos).\n",
        "\n",
        "Esto implica usar estrategias para corregir el sesgo: ajustar class_weight en algunos clasificadores, usar muestreo estratificado, o técnicas de oversampling (SMOTE, etc.)—aunque en un entorno de producción hay que tener cuidado con overfitting."
      ],
      "metadata": {
        "id": "Mj10vTyTzoNI"
      }
    },
    {
      "cell_type": "code",
      "source": [
        "class_counts = y.value_counts()\n",
        "print(\"Recuento absoluto por clase:\\n\", class_counts)\n",
        "print(\"\\nPorcentaje por clase:\\n\", (class_counts / len(y) * 100).round(2))\n",
        "\n",
        "# Gráfico de barras para visualizar desbalance\n",
        "plt.figure(figsize=(6,4))\n",
        "sns.barplot(x=class_counts.index, y=class_counts.values, palette=\"viridis\")\n",
        "plt.title(\"Distribución de la variable target\")\n",
        "plt.xlabel(\"Clase (0 = Sin virus, 1 = Con virus)\")\n",
        "plt.ylabel(\"Cantidad de muestras\")\n",
        "plt.show()\n"
      ],
      "metadata": {
        "colab": {
          "base_uri": "https://localhost:8080/",
          "height": 701
        },
        "id": "LFk7NRfWzrsc",
        "outputId": "6f6a6514-5808-40a3-ed04-5c2a33dbdfd4"
      },
      "execution_count": 14,
      "outputs": [
        {
          "output_type": "stream",
          "name": "stdout",
          "text": [
            "Recuento absoluto por clase:\n",
            " target\n",
            "0    748\n",
            "1    512\n",
            "Name: count, dtype: int64\n",
            "\n",
            "Porcentaje por clase:\n",
            " target\n",
            "0    59.37\n",
            "1    40.63\n",
            "Name: count, dtype: float64\n"
          ]
        },
        {
          "output_type": "stream",
          "name": "stderr",
          "text": [
            "<ipython-input-14-1460722201>:7: FutureWarning: \n",
            "\n",
            "Passing `palette` without assigning `hue` is deprecated and will be removed in v0.14.0. Assign the `x` variable to `hue` and set `legend=False` for the same effect.\n",
            "\n",
            "  sns.barplot(x=class_counts.index, y=class_counts.values, palette=\"viridis\")\n"
          ]
        },
        {
          "output_type": "display_data",
          "data": {
            "text/plain": [
              "<Figure size 600x400 with 1 Axes>"
            ],
            "image/png": "[encoded data removed]"
          },
          "metadata": {}
        }
      ]
    },
    {
      "cell_type": "markdown",
      "source": [
        "### Estadísticas descriptivas de variables numéricas\n",
        "Con describe() obtenemos media, desviación, cuartiles, mínimos y máximos.\n",
        "\n",
        "El boxplot nos ayuda a identificar valores atípicos que podrían requerir imputación especial o truncamiento (capping)."
      ],
      "metadata": {
        "id": "tuYMUgMW0GIL"
      }
    },
    {
      "cell_type": "code",
      "source": [
        "import seaborn as sns\n",
        "import matplotlib.pyplot as plt\n",
        "\n",
        "# Variables numéricas\n",
        "num_vars = X.select_dtypes(include=[\"int64\", \"float64\"]).columns\n",
        "\n",
        "# Boxplots individuales\n",
        "for col in num_vars:\n",
        "    plt.figure(figsize=(8, 1.5))\n",
        "    sns.boxplot(x=X[col], color=\"skyblue\", orient=\"h\")\n",
        "    plt.title(f\"Boxplot de '{col}'\")\n",
        "    plt.xlabel(col)\n",
        "    plt.tight_layout()\n",
        "    plt.show()\n",
        "\n"
      ],
      "metadata": {
        "colab": {
          "base_uri": "https://localhost:8080/",
          "height": 1000
        },
        "id": "FMD19AC70NYN",
        "outputId": "71a729ef-2d50-4013-c565-e238ce1e58d6"
      },
      "execution_count": 30,
      "outputs": [
        {
          "output_type": "display_data",
          "data": {
            "text/plain": [
              "<Figure size 800x150 with 1 Axes>"
            ],
            "image/png": "[encoded data removed]"
          },
          "metadata": {}
        },
        {
          "output_type": "display_data",
          "data": {
            "text/plain": [
              "<Figure size 800x150 with 1 Axes>"
            ],
            "image/png": "[encoded data removed]"
          },
          "metadata": {}
        },
        {
          "output_type": "display_data",
          "data": {
            "text/plain": [
              "<Figure size 800x150 with 1 Axes>"
            ],
            "image/png": "[encoded data removed]"
          },
          "metadata": {}
        },
        {
          "output_type": "display_data",
          "data": {
            "text/plain": [
              "<Figure size 800x150 with 1 Axes>"
            ],
            "image/png": "[encoded data removed]"
          },
          "metadata": {}
        },
        {
          "output_type": "display_data",
          "data": {
            "text/plain": [
              "<Figure size 800x150 with 1 Axes>"
            ],
            "image/png": "[encoded data removed]"
          },
          "metadata": {}
        },
        {
          "output_type": "display_data",
          "data": {
            "text/plain": [
              "<Figure size 800x150 with 1 Axes>"
            ],
            "image/png": "[encoded data removed]"
          },
          "metadata": {}
        },
        {
          "output_type": "display_data",
          "data": {
            "text/plain": [
              "<Figure size 800x150 with 1 Axes>"
            ],
            "image/png": "[encoded data removed]"
          },
          "metadata": {}
        },
        {
          "output_type": "display_data",
          "data": {
            "text/plain": [
              "<Figure size 800x150 with 1 Axes>"
            ],
            "image/png": "[encoded data removed]"
          },
          "metadata": {}
        },
        {
          "output_type": "display_data",
          "data": {
            "text/plain": [
              "<Figure size 800x150 with 1 Axes>"
            ],
            "image/png": "[encoded data removed]"
          },
          "metadata": {}
        },
        {
          "output_type": "display_data",
          "data": {
            "text/plain": [
              "<Figure size 800x150 with 1 Axes>"
            ],
            "image/png": "[encoded data removed]"
          },
          "metadata": {}
        },
        {
          "output_type": "display_data",
          "data": {
            "text/plain": [
              "<Figure size 800x150 with 1 Axes>"
            ],
            "image/png": "[encoded data removed]"
          },
          "metadata": {}
        },
        {
          "output_type": "display_data",
          "data": {
            "text/plain": [
              "<Figure size 800x150 with 1 Axes>"
            ],
            "image/png": "[encoded data removed]"
          },
          "metadata": {}
        }
      ]
    },
    {
      "cell_type": "markdown",
      "source": [
        "### Correlaciones entre variables numéricas y con el target\n",
        "Vemos qué variables numéricas tienen mayor relación lineal con la clase “1”.\n",
        "\n",
        "Si detectamos variables muy correlacionadas entre sí (por ejemplo, > 0.9), podríamos descartar una para evitar redundancia."
      ],
      "metadata": {
        "id": "MsnGFh4r0W_a"
      }
    },
    {
      "cell_type": "code",
      "source": [
        "# Concatenamos X y y para incluir la correlación con target\n",
        "df_corr = pd.concat([X[num_vars], y], axis=1)\n",
        "corr_matrix = df_corr.corr()\n",
        "\n",
        "# Mostrar correlación absoluta con target, ordenada de mayor a menor\n",
        "corr_target = corr_matrix[\"target\"].abs().sort_values(ascending=False).drop(\"target\")\n",
        "print(\"Correlación ABSOLUTA de variables numéricas con el target:\")\n",
        "display(corr_target)\n",
        "\n",
        "# Heatmap de correlaciones entre las 10 variables numéricas más correlacionadas con target\n",
        "top10 = corr_target.head(10).index\n",
        "plt.figure(figsize=(8,6))\n",
        "sns.heatmap(df_corr[top10.tolist() + [\"target\"]].corr(), annot=True, fmt='.3f', cmap=\"RdBu_r\", center=0)\n",
        "plt.title(\"Correlaciones entre top10 variables numericas y target\")\n",
        "plt.show()\n"
      ],
      "metadata": {
        "colab": {
          "base_uri": "https://localhost:8080/",
          "height": 1000
        },
        "id": "4z1COCMM0dqy",
        "outputId": "263f3e18-c4c7-47f5-9c03-a4e3f61e1247"
      },
      "execution_count": 29,
      "outputs": [
        {
          "output_type": "stream",
          "name": "stdout",
          "text": [
            "Correlación ABSOLUTA de variables numéricas con el target:\n"
          ]
        },
        {
          "output_type": "display_data",
          "data": {
            "text/plain": [
              "Peso     0.338109\n",
              "BLD02    0.091003\n",
              "BLD03    0.075844\n",
              "BLD01    0.052757\n",
              "REC4     0.023852\n",
              "Edad     0.022404\n",
              "REC1     0.015952\n",
              "REC3     0.009177\n",
              "LVL      0.002872\n",
              "REC5     0.002152\n",
              "hijos    0.000967\n",
              "REC2     0.000841\n",
              "Name: target, dtype: float64"
            ],
            "text/html": [
              "<div>\n",
              "<style scoped>\n",
              "    .dataframe tbody tr th:only-of-type {\n",
              "        vertical-align: middle;\n",
              "    }\n",
              "\n",
              "    .dataframe tbody tr th {\n",
              "        vertical-align: top;\n",
              "    }\n",
              "\n",
              "    .dataframe thead th {\n",
              "        text-align: right;\n",
              "    }\n",
              "</style>\n",
              "<table border=\"1\" class=\"dataframe\">\n",
              "  <thead>\n",
              "    <tr style=\"text-align: right;\">\n",
              "      <th></th>\n",
              "      <th>target</th>\n",
              "    </tr>\n",
              "  </thead>\n",
              "  <tbody>\n",
              "    <tr>\n",
              "      <th>Peso</th>\n",
              "      <td>0.338109</td>\n",
              "    </tr>\n",
              "    <tr>\n",
              "      <th>BLD02</th>\n",
              "      <td>0.091003</td>\n",
              "    </tr>\n",
              "    <tr>\n",
              "      <th>BLD03</th>\n",
              "      <td>0.075844</td>\n",
              "    </tr>\n",
              "    <tr>\n",
              "      <th>BLD01</th>\n",
              "      <td>0.052757</td>\n",
              "    </tr>\n",
              "    <tr>\n",
              "      <th>REC4</th>\n",
              "      <td>0.023852</td>\n",
              "    </tr>\n",
              "    <tr>\n",
              "      <th>Edad</th>\n",
              "      <td>0.022404</td>\n",
              "    </tr>\n",
              "    <tr>\n",
              "      <th>REC1</th>\n",
              "      <td>0.015952</td>\n",
              "    </tr>\n",
              "    <tr>\n",
              "      <th>REC3</th>\n",
              "      <td>0.009177</td>\n",
              "    </tr>\n",
              "    <tr>\n",
              "      <th>LVL</th>\n",
              "      <td>0.002872</td>\n",
              "    </tr>\n",
              "    <tr>\n",
              "      <th>REC5</th>\n",
              "      <td>0.002152</td>\n",
              "    </tr>\n",
              "    <tr>\n",
              "      <th>hijos</th>\n",
              "      <td>0.000967</td>\n",
              "    </tr>\n",
              "    <tr>\n",
              "      <th>REC2</th>\n",
              "      <td>0.000841</td>\n",
              "    </tr>\n",
              "  </tbody>\n",
              "</table>\n",
              "</div><br><label><b>dtype:</b> float64</label>"
            ]
          },
          "metadata": {}
        },
        {
          "output_type": "display_data",
          "data": {
            "text/plain": [
              "<Figure size 800x600 with 2 Axes>"
            ],
            "image/png": "[encoded data removed]"
          },
          "metadata": {}
        }
      ]
    },
    {
      "cell_type": "markdown",
      "source": [
        "## Preprocesamiento y pipeline básico\n",
        "En esta sección vamos a preparar las transformaciones que harán falta sobre los datos. La idea es usar un `ColumnTransformer` para separar transformaciones de variables numéricas y categóricas, y luego un pipeline final que contenga:\n",
        "\n",
        "    1. Imputación (por ejemplo, media/mediana para numéricas; valor más frecuente para categóricas).\n",
        "\n",
        "    2. Escalado (solo para variables numéricas).\n",
        "\n",
        "    3. Codificación (One-Hot) para variables categóricas.\n",
        "\n",
        "    4. Reducir variables de baja varianza (opcional).\n",
        "\n",
        "    5. Classifier (LogisticRegression, RandomForest, XGBoost, etc.)."
      ],
      "metadata": {
        "id": "b8tfqMh60pce"
      }
    },
    {
      "cell_type": "code",
      "source": [
        "# Split train/test (70% train, 30% test)\n",
        "# -----------------------------------------------------------\n",
        "\n",
        "X_train, X_test, y_train, y_test = train_test_split(\n",
        "    X, y, test_size=0.30, stratify=y, random_state=42\n",
        ")"
      ],
      "metadata": {
        "id": "Qxy4mv77aTaa"
      },
      "execution_count": 17,
      "outputs": []
    },
    {
      "cell_type": "markdown",
      "source": [
        "### Identificar variables numéricas vs categóricas\n",
        "Guardamos en listas los nombres de columnas numéricas (num_features) y categóricas (cat_features).\n",
        "\n",
        "Más adelante las usamos en el ColumnTransformer."
      ],
      "metadata": {
        "id": "uH4sG7_N0_it"
      }
    },
    {
      "cell_type": "code",
      "source": [
        "num_features = X.select_dtypes(include=[\"int64\",\"float64\"]).columns.tolist()\n",
        "cat_features = X.select_dtypes(include=[\"object\",\"category\"]).columns.tolist()\n",
        "\n",
        "print(\"Variables numéricas:\", num_features)\n",
        "print(\"Variables categóricas:\", cat_features)\n"
      ],
      "metadata": {
        "colab": {
          "base_uri": "https://localhost:8080/"
        },
        "id": "ugrxqKt61Fve",
        "outputId": "c2ef2973-b4c6-43e3-e103-7ed12a8d3b85"
      },
      "execution_count": 18,
      "outputs": [
        {
          "output_type": "stream",
          "name": "stdout",
          "text": [
            "Variables numéricas: ['Edad', 'Peso', 'hijos', 'BLD01', 'REC1', 'REC2', 'REC3', 'REC4', 'REC5', 'BLD02', 'BLD03', 'LVL']\n",
            "Variables categóricas: ['Genero', 'Laboral']\n"
          ]
        }
      ]
    },
    {
      "cell_type": "markdown",
      "source": [
        "### Definir transformaciones para numéricas y categóricas\n",
        "Imputación:\n",
        "\n",
        "    Numéricas → mediana (más robusta frente a outliers).\n",
        "\n",
        "    Categóricas → la categoría más frecuente.\n",
        "\n",
        "Escalado: StandardScaler para centrar en 0 y desviación 1.\n",
        "\n",
        "OneHotEncoder: codifica variables categóricas, ignorando categorías nuevas durante la inferencia (handle_unknown=\"ignore\"). Si una variable categórica fuera binaria (solo dos categorías), drop='if_binary' elimina una de ellas para no generar variables linealmente dependientes.\n",
        "\n",
        "Luego el ColumnTransformer aplicará cada pipeline solo a sus variables correspondientes."
      ],
      "metadata": {
        "id": "TnwOpCz21R1m"
      }
    },
    {
      "cell_type": "code",
      "source": [
        "# Para variables numéricas: imputar (mediana si hay outliers), luego escalar (StandardScaler)\n",
        "numeric_transformer = Pipeline(steps=[\n",
        "    (\"imputer\", SimpleImputer(strategy=\"median\")),   # si hay outliers, mediana es más robusta\n",
        "    (\"scaler\", StandardScaler())\n",
        "])\n",
        "\n",
        "# Para variables categóricas: imputar la categoría más frecuente, luego OneHotEncoder (drop='if_binary' para evitar multicolinealidad)\n",
        "categorical_transformer = Pipeline(steps=[\n",
        "    (\"imputer\", SimpleImputer(strategy=\"most_frequent\")),\n",
        "    (\"onehot\", OneHotEncoder(handle_unknown=\"ignore\", drop=\"if_binary\"))\n",
        "])\n",
        "\n",
        "# ColumnTransformer para aplicar cada pipeline a las columnas correspondientes\n",
        "preprocessor = ColumnTransformer(transformers=[\n",
        "    (\"num\", numeric_transformer, num_features),\n",
        "    (\"cat\", categorical_transformer, cat_features)\n",
        "])\n"
      ],
      "metadata": {
        "id": "90lPs0a-1Xwz"
      },
      "execution_count": 19,
      "outputs": []
    },
    {
      "cell_type": "markdown",
      "source": [
        "### Construir un pipeline completo con un clasificador dummy\n",
        "Creamos pipeline_base que aplica las transformaciones y luego entrena una Regresión Logística con class_weight=\"balanced\" (para corregir desbalance de clases).\n",
        "\n",
        "Hacemos un fit/predict en el mismo conjunto solo para verificar que no haya errores de código. En la práctica, esto sobrestima el desempeño, pero nos asegura que el pipeline entra en “no entra en error”."
      ],
      "metadata": {
        "id": "Cu9UFBy91iL6"
      }
    },
    {
      "cell_type": "code",
      "source": [
        "## NO EJECUTAR\n",
        "from sklearn.naive_bayes import GaussianNB\n",
        "\n",
        "# Ejemplo de clasificador: Logistic Regression (se podrá cambiar más adelante)\n",
        "clf_base = LogisticRegression(random_state=SEED, max_iter=1000, class_weight=\"balanced\")\n",
        "\n",
        "# Pipeline completo: preprocesamiento + clasificador\n",
        "pipeline_base = Pipeline(steps=[\n",
        "    (\"preprocessor\", preprocessor),\n",
        "    (\"classifier\", clf_base)\n",
        "])\n",
        "\n",
        "# Entrenamos el pipeline en el conjunto “df” (muestra de evaluación)\n",
        "pipeline_base.fit(X, y)\n",
        "\n",
        "# Predecir sobre el mismo X (solo para comprobar que no da errores)\n",
        "y_pred_base = pipeline_base.predict(X)\n",
        "print(classification_report(y, y_pred_base))\n"
      ],
      "metadata": {
        "colab": {
          "base_uri": "https://localhost:8080/"
        },
        "id": "m6HAc2v11okd",
        "outputId": "d53c2757-f682-4a04-ee5a-2941ae5ce9d2"
      },
      "execution_count": 20,
      "outputs": [
        {
          "output_type": "stream",
          "name": "stdout",
          "text": [
            "              precision    recall  f1-score   support\n",
            "\n",
            "           0       0.79      0.74      0.77       748\n",
            "           1       0.66      0.72      0.69       512\n",
            "\n",
            "    accuracy                           0.73      1260\n",
            "   macro avg       0.72      0.73      0.73      1260\n",
            "weighted avg       0.74      0.73      0.73      1260\n",
            "\n"
          ]
        }
      ]
    },
    {
      "cell_type": "markdown",
      "source": [
        "## Selección de métrica y estrategia de validación\n",
        "Dado que queremos “atrapar” la mayor cantidad posible de positivos (clase 1) y al mismo tiempo minimizar falsos positivos, conviene centrarse en:\n",
        "\n",
        "    Recall de la clase 1 (para no dejar pasar casos con virus).\n",
        "\n",
        "    Precision de la clase 1 (para no marear con tratamientos invasivos a gente sana).\n",
        "\n",
        "    O bien una métrica que combine ambos (por ejemplo, F1-score de la clase 1).\n"
      ],
      "metadata": {
        "id": "LyzCTbDL11es"
      }
    },
    {
      "cell_type": "markdown",
      "source": [
        "### Definir un scorer personalizado (F1 solo para la clase 1)\n",
        "make_scorer(f1_score, pos_label=1) nos devuelve un objeto que calcula el F1-score exclusivamente para la clase “1”.\n",
        "\n",
        "Durante el GridSearchCV, podremos usar este scorer para optimizar hiperparámetros que maximicen F1 en la detección de virus."
      ],
      "metadata": {
        "id": "MbllYGQW19np"
      }
    },
    {
      "cell_type": "code",
      "source": [
        "f1_class1 = make_scorer(f1_score, pos_label=1)"
      ],
      "metadata": {
        "id": "T9lybeoY2Bsn"
      },
      "execution_count": 21,
      "outputs": []
    },
    {
      "cell_type": "markdown",
      "source": [
        "### Definir validación cruzada estratificada\n",
        "Usamos validación cruzada estratificada con 5 pliegues, para mantener la proporción de cada clase en cada fold.\n",
        "\n",
        "shuffle=True asegura que las muestras se mezclen antes del split; random_state=SEED hace reproducible la división."
      ],
      "metadata": {
        "id": "161e43Od2LPP"
      }
    },
    {
      "cell_type": "code",
      "source": [
        "cv = StratifiedKFold(n_splits=5, shuffle=True, random_state=SEED) #42"
      ],
      "metadata": {
        "id": "knc-mHRn2O42"
      },
      "execution_count": 22,
      "outputs": []
    },
    {
      "cell_type": "markdown",
      "source": [
        "## Búsqueda de hiperparámetros (GridSearchCV)\n",
        "Ahora vamos a establecer un pipeline “genérico” donde reemplazaremos el clasificador según queramos probar varios modelos. A continuación te muestro cómo hacerlo para tres algoritmos distintos: Regresión Logística, Random Forest y XGBoost. Puedes elegir el que mejor funcione según la métrica (F1 clase 1).\n",
        "\n",
        "    Nota: dado el límite de tiempo en Colab, recomendamos buscar hiperparámetros en un grid pequeño o, si prefieres, hacer una búsqueda en dos etapas (primero coarse, luego fine-tune). Aquí va un ejemplo de cada uno."
      ],
      "metadata": {
        "id": "x1tXxPuv2W94"
      }
    },
    {
      "cell_type": "code",
      "source": [
        "from sklearn.neighbors import KNeighborsClassifier\n",
        "from sklearn.ensemble import RandomForestClassifier\n",
        "from sklearn.naive_bayes import GaussianNB\n",
        "from sklearn.tree import DecisionTreeClassifier\n",
        "from sklearn.linear_model import LogisticRegression\n",
        "# Pipelines\n",
        "# Configurar pipelines y parámetros para cada modelo\n",
        "# -----------------------------------------------------------\n",
        "\n",
        "models_and_params = {\n",
        "    \"KNN\": {\n",
        "        \"model\": KNeighborsClassifier(),\n",
        "        \"params\": {\n",
        "            \"clf__n_neighbors\": [3, 5, 7],\n",
        "            \"clf__weights\": [\"uniform\", \"distance\"]\n",
        "        }\n",
        "    },\n",
        "    \"RandomForest\": {\n",
        "        \"model\": RandomForestClassifier(random_state=42),\n",
        "        \"params\": {\n",
        "            \"clf__n_estimators\": [100, 200],\n",
        "            \"clf__max_depth\": [None, 10],\n",
        "            \"clf__class_weight\": [\"balanced\", \"balanced_subsample\"]\n",
        "        }\n",
        "    },\n",
        "    \"NaiveBayes\": {\n",
        "        \"model\": GaussianNB(),\n",
        "        \"params\": {\n",
        "            # GaussianNB apenas requiere ajustar var_smoothing\n",
        "            \"clf__var_smoothing\": [1e-9, 1e-8, 1e-7]\n",
        "        }\n",
        "    },\n",
        "    \"DecisionTree\": {\n",
        "        \"model\": DecisionTreeClassifier(random_state=42),\n",
        "        \"params\": {\n",
        "            \"clf__max_depth\": [None, 10, 20],\n",
        "            \"clf__min_samples_split\": [2, 5],\n",
        "            \"clf__class_weight\": [\"balanced\", None]\n",
        "        }\n",
        "    },\n",
        "    \"LogisticRegression\": {\n",
        "        \"model\": LogisticRegression(random_state=42, solver=\"liblinear\", max_iter=1000),\n",
        "        \"params\": {\n",
        "            \"clf__penalty\": [\"l1\", \"l2\"],\n",
        "            \"clf__C\": [0.1, 1, 10],\n",
        "            \"clf__class_weight\": [\"balanced\", None]\n",
        "        }\n",
        "    }\n",
        "}\n",
        "\n",
        "# -----------------------------------------------------------\n",
        "# Para cada clasificador: armar Pipeline, hacer GridSearchCV y guardar resultados\n",
        "# -----------------------------------------------------------\n",
        "\n",
        "results = []\n",
        "\n",
        "for name, mp in models_and_params.items():\n",
        "    pipe = Pipeline(steps=[\n",
        "        (\"preprocessor\", preprocessor),\n",
        "        (\"clf\", mp[\"model\"])\n",
        "    ])\n",
        "\n",
        "    grid = GridSearchCV(\n",
        "        estimator=pipe,\n",
        "        param_grid=mp[\"params\"],\n",
        "        scoring=f1_class1,\n",
        "        cv=cv,\n",
        "        n_jobs=-1,\n",
        "        verbose=1\n",
        "    )\n",
        "\n",
        "    print(f\"\\n--- Ajustando {name} ---\")\n",
        "    grid.fit(X_train, y_train)\n",
        "\n",
        "    # Esto me lo guarddop por que me dio mejor pero esta villero no se hace asi\n",
        "    if name == \"RandomForest\":\n",
        "      grid_rf = grid\n",
        "\n",
        "    print(f\"Mejores parámetros para {name}: {grid.best_params_}\")\n",
        "    print(f\"Mejor F1 (clase 1) para {name}: {grid.best_score_:.4f}\\n\")\n",
        "\n",
        "    results.append({\n",
        "        \"Modelo\": name,\n",
        "        \"Best_F1_1\": grid.best_score_,\n",
        "        \"Best_Params\": grid.best_params_\n",
        "    })"
      ],
      "metadata": {
        "colab": {
          "base_uri": "https://localhost:8080/"
        },
        "id": "VaR8q6hZZE7k",
        "outputId": "a9fc8a76-a73e-486c-de50-63ed7662a6e5"
      },
      "execution_count": 23,
      "outputs": [
        {
          "output_type": "stream",
          "name": "stdout",
          "text": [
            "\n",
            "--- Ajustando KNN ---\n",
            "Fitting 5 folds for each of 6 candidates, totalling 30 fits\n",
            "Mejores parámetros para KNN: {'clf__n_neighbors': 5, 'clf__weights': 'uniform'}\n",
            "Mejor F1 (clase 1) para KNN: 0.5915\n",
            "\n",
            "\n",
            "--- Ajustando RandomForest ---\n",
            "Fitting 5 folds for each of 8 candidates, totalling 40 fits\n",
            "Mejores parámetros para RandomForest: {'clf__class_weight': 'balanced', 'clf__max_depth': 10, 'clf__n_estimators': 100}\n",
            "Mejor F1 (clase 1) para RandomForest: 0.7122\n",
            "\n",
            "\n",
            "--- Ajustando NaiveBayes ---\n",
            "Fitting 5 folds for each of 3 candidates, totalling 15 fits\n",
            "Mejores parámetros para NaiveBayes: {'clf__var_smoothing': 1e-09}\n",
            "Mejor F1 (clase 1) para NaiveBayes: 0.6112\n",
            "\n",
            "\n",
            "--- Ajustando DecisionTree ---\n",
            "Fitting 5 folds for each of 12 candidates, totalling 60 fits\n",
            "Mejores parámetros para DecisionTree: {'clf__class_weight': None, 'clf__max_depth': 10, 'clf__min_samples_split': 2}\n",
            "Mejor F1 (clase 1) para DecisionTree: 0.6514\n",
            "\n",
            "\n",
            "--- Ajustando LogisticRegression ---\n",
            "Fitting 5 folds for each of 12 candidates, totalling 60 fits\n",
            "Mejores parámetros para LogisticRegression: {'clf__C': 0.1, 'clf__class_weight': 'balanced', 'clf__penalty': 'l1'}\n",
            "Mejor F1 (clase 1) para LogisticRegression: 0.6765\n",
            "\n"
          ]
        }
      ]
    },
    {
      "cell_type": "markdown",
      "source": [
        "## Comparación de resultados y elección del mejor modelo\n",
        "Tras ejecutar los tres GridSearchCV, comparamos las mejores puntuaciones (best_score_) de cada uno.\n",
        "\n",
        "Decidimos quedarnos con el modelo que maximice F1 en la clase 1 (que captura mejor el compromiso entre precision y recall para detectar virus).\n",
        "\n",
        "Si hubiera dos modelos con valores muy cercanos, podríamos comparar sus curvas de precision-recall o incluso medir roc_auc_score."
      ],
      "metadata": {
        "id": "vYWyAAUp3A68"
      }
    },
    {
      "cell_type": "code",
      "source": [
        "results_df = pd.DataFrame(results).sort_values(by=\"Best_F1_1\", ascending=False)\n",
        "print(\"=== Resumen comparativo de F1 (clase 1) ===\")\n",
        "display(results_df)\n"
      ],
      "metadata": {
        "colab": {
          "base_uri": "https://localhost:8080/",
          "height": 224
        },
        "id": "TCE41Mhi3STp",
        "outputId": "817d022c-d435-42a6-a71b-1334613c2700"
      },
      "execution_count": 24,
      "outputs": [
        {
          "output_type": "stream",
          "name": "stdout",
          "text": [
            "=== Resumen comparativo de F1 (clase 1) ===\n"
          ]
        },
        {
          "output_type": "display_data",
          "data": {
            "text/plain": [
              "               Modelo  Best_F1_1  \\\n",
              "1        RandomForest   0.712249   \n",
              "4  LogisticRegression   0.676464   \n",
              "3        DecisionTree   0.651400   \n",
              "2          NaiveBayes   0.611173   \n",
              "0                 KNN   0.591533   \n",
              "\n",
              "                                         Best_Params  \n",
              "1  {'clf__class_weight': 'balanced', 'clf__max_de...  \n",
              "4  {'clf__C': 0.1, 'clf__class_weight': 'balanced...  \n",
              "3  {'clf__class_weight': None, 'clf__max_depth': ...  \n",
              "2                      {'clf__var_smoothing': 1e-09}  \n",
              "0  {'clf__n_neighbors': 5, 'clf__weights': 'unifo...  "
            ],
            "text/html": [
              "\n",
              "  <div id=\"df-d80cc50f-24aa-4c7f-97c0-972808425a6a\" class=\"colab-df-container\">\n",
              "    <div>\n",
              "<style scoped>\n",
              "    .dataframe tbody tr th:only-of-type {\n",
              "        vertical-align: middle;\n",
              "    }\n",
              "\n",
              "    .dataframe tbody tr th {\n",
              "        vertical-align: top;\n",
              "    }\n",
              "\n",
              "    .dataframe thead th {\n",
              "        text-align: right;\n",
              "    }\n",
              "</style>\n",
              "<table border=\"1\" class=\"dataframe\">\n",
              "  <thead>\n",
              "    <tr style=\"text-align: right;\">\n",
              "      <th></th>\n",
              "      <th>Modelo</th>\n",
              "      <th>Best_F1_1</th>\n",
              "      <th>Best_Params</th>\n",
              "    </tr>\n",
              "  </thead>\n",
              "  <tbody>\n",
              "    <tr>\n",
              "      <th>1</th>\n",
              "      <td>RandomForest</td>\n",
              "      <td>0.712249</td>\n",
              "      <td>{'clf__class_weight': 'balanced', 'clf__max_de...</td>\n",
              "    </tr>\n",
              "    <tr>\n",
              "      <th>4</th>\n",
              "      <td>LogisticRegression</td>\n",
              "      <td>0.676464</td>\n",
              "      <td>{'clf__C': 0.1, 'clf__class_weight': 'balanced...</td>\n",
              "    </tr>\n",
              "    <tr>\n",
              "      <th>3</th>\n",
              "      <td>DecisionTree</td>\n",
              "      <td>0.651400</td>\n",
              "      <td>{'clf__class_weight': None, 'clf__max_depth': ...</td>\n",
              "    </tr>\n",
              "    <tr>\n",
              "      <th>2</th>\n",
              "      <td>NaiveBayes</td>\n",
              "      <td>0.611173</td>\n",
              "      <td>{'clf__var_smoothing': 1e-09}</td>\n",
              "    </tr>\n",
              "    <tr>\n",
              "      <th>0</th>\n",
              "      <td>KNN</td>\n",
              "      <td>0.591533</td>\n",
              "      <td>{'clf__n_neighbors': 5, 'clf__weights': 'unifo...</td>\n",
              "    </tr>\n",
              "  </tbody>\n",
              "</table>\n",
              "</div>\n",
              "    <div class=\"colab-df-buttons\">\n",
              "\n",
              "  <div class=\"colab-df-container\">\n",
              "    <button class=\"colab-df-convert\" onclick=\"convertToInteractive('df-d80cc50f-24aa-4c7f-97c0-972808425a6a')\"\n",
              "            title=\"Convert this dataframe to an interactive table.\"\n",
              "            style=\"display:none;\">\n",
              "\n",
              "  <svg xmlns=\"http://www.w3.org/2000/svg\" height=\"24px\" viewBox=\"0 -960 960 960\">\n",
              "    <path d=\"M120-120v-720h720v720H120Zm60-500h600v-160H180v160Zm220 220h160v-160H400v160Zm0 220h160v-160H400v160ZM180-400h160v-160H180v160Zm440 0h160v-160H620v160ZM180-180h160v-160H180v160Zm440 0h160v-160H620v160Z\"/>\n",
              "  </svg>\n",
              "    </button>\n",
              "\n",
              "  <style>\n",
              "    .colab-df-container {\n",
              "      display:flex;\n",
              "      gap: 12px;\n",
              "    }\n",
              "\n",
              "    .colab-df-convert {\n",
              "      background-color: #E8F0FE;\n",
              "      border: none;\n",
              "      border-radius: 50%;\n",
              "      cursor: pointer;\n",
              "      display: none;\n",
              "      fill: #1967D2;\n",
              "      height: 32px;\n",
              "      padding: 0 0 0 0;\n",
              "      width: 32px;\n",
              "    }\n",
              "\n",
              "    .colab-df-convert:hover {\n",
              "      background-color: #E2EBFA;\n",
              "      box-shadow: 0px 1px 2px rgba(60, 64, 67, 0.3), 0px 1px 3px 1px rgba(60, 64, 67, 0.15);\n",
              "      fill: #174EA6;\n",
              "    }\n",
              "\n",
              "    .colab-df-buttons div {\n",
              "      margin-bottom: 4px;\n",
              "    }\n",
              "\n",
              "    [theme=dark] .colab-df-convert {\n",
              "      background-color: #3B4455;\n",
              "      fill: #D2E3FC;\n",
              "    }\n",
              "\n",
              "    [theme=dark] .colab-df-convert:hover {\n",
              "      background-color: #434B5C;\n",
              "      box-shadow: 0px 1px 3px 1px rgba(0, 0, 0, 0.15);\n",
              "      filter: drop-shadow(0px 1px 2px rgba(0, 0, 0, 0.3));\n",
              "      fill: #FFFFFF;\n",
              "    }\n",
              "  </style>\n",
              "\n",
              "    <script>\n",
              "      const buttonEl =\n",
              "        document.querySelector('#df-d80cc50f-24aa-4c7f-97c0-972808425a6a button.colab-df-convert');\n",
              "      buttonEl.style.display =\n",
              "        google.colab.kernel.accessAllowed ? 'block' : 'none';\n",
              "\n",
              "      async function convertToInteractive(key) {\n",
              "        const element = document.querySelector('#df-d80cc50f-24aa-4c7f-97c0-972808425a6a');\n",
              "        const dataTable =\n",
              "          await google.colab.kernel.invokeFunction('convertToInteractive',\n",
              "                                                    [key], {});\n",
              "        if (!dataTable) return;\n",
              "\n",
              "        const docLinkHtml = 'Like what you see? Visit the ' +\n",
              "          '<a target=\"_blank\" href=https://colab.research.google.com/notebooks/data_table.ipynb>data table notebook</a>'\n",
              "          + ' to learn more about interactive tables.';\n",
              "        element.innerHTML = '';\n",
              "        dataTable['output_type'] = 'display_data';\n",
              "        await google.colab.output.renderOutput(dataTable, element);\n",
              "        const docLink = document.createElement('div');\n",
              "        docLink.innerHTML = docLinkHtml;\n",
              "        element.appendChild(docLink);\n",
              "      }\n",
              "    </script>\n",
              "  </div>\n",
              "\n",
              "\n",
              "    <div id=\"df-0aa0dfcc-d9b5-4d5f-84ef-4acd209e75ec\">\n",
              "      <button class=\"colab-df-quickchart\" onclick=\"quickchart('df-0aa0dfcc-d9b5-4d5f-84ef-4acd209e75ec')\"\n",
              "                title=\"Suggest charts\"\n",
              "                style=\"display:none;\">\n",
              "\n",
              "<svg xmlns=\"http://www.w3.org/2000/svg\" height=\"24px\"viewBox=\"0 0 24 24\"\n",
              "     width=\"24px\">\n",
              "    <g>\n",
              "        <path d=\"M19 3H5c-1.1 0-2 .9-2 2v14c0 1.1.9 2 2 2h14c1.1 0 2-.9 2-2V5c0-1.1-.9-2-2-2zM9 17H7v-7h2v7zm4 0h-2V7h2v10zm4 0h-2v-4h2v4z\"/>\n",
              "    </g>\n",
              "</svg>\n",
              "      </button>\n",
              "\n",
              "<style>\n",
              "  .colab-df-quickchart {\n",
              "      --bg-color: #E8F0FE;\n",
              "      --fill-color: #1967D2;\n",
              "      --hover-bg-color: #E2EBFA;\n",
              "      --hover-fill-color: #174EA6;\n",
              "      --disabled-fill-color: #AAA;\n",
              "      --disabled-bg-color: #DDD;\n",
              "  }\n",
              "\n",
              "  [theme=dark] .colab-df-quickchart {\n",
              "      --bg-color: #3B4455;\n",
              "      --fill-color: #D2E3FC;\n",
              "      --hover-bg-color: #434B5C;\n",
              "      --hover-fill-color: #FFFFFF;\n",
              "      --disabled-bg-color: #3B4455;\n",
              "      --disabled-fill-color: #666;\n",
              "  }\n",
              "\n",
              "  .colab-df-quickchart {\n",
              "    background-color: var(--bg-color);\n",
              "    border: none;\n",
              "    border-radius: 50%;\n",
              "    cursor: pointer;\n",
              "    display: none;\n",
              "    fill: var(--fill-color);\n",
              "    height: 32px;\n",
              "    padding: 0;\n",
              "    width: 32px;\n",
              "  }\n",
              "\n",
              "  .colab-df-quickchart:hover {\n",
              "    background-color: var(--hover-bg-color);\n",
              "    box-shadow: 0 1px 2px rgba(60, 64, 67, 0.3), 0 1px 3px 1px rgba(60, 64, 67, 0.15);\n",
              "    fill: var(--button-hover-fill-color);\n",
              "  }\n",
              "\n",
              "  .colab-df-quickchart-complete:disabled,\n",
              "  .colab-df-quickchart-complete:disabled:hover {\n",
              "    background-color: var(--disabled-bg-color);\n",
              "    fill: var(--disabled-fill-color);\n",
              "    box-shadow: none;\n",
              "  }\n",
              "\n",
              "  .colab-df-spinner {\n",
              "    border: 2px solid var(--fill-color);\n",
              "    border-color: transparent;\n",
              "    border-bottom-color: var(--fill-color);\n",
              "    animation:\n",
              "      spin 1s steps(1) infinite;\n",
              "  }\n",
              "\n",
              "  @keyframes spin {\n",
              "    0% {\n",
              "      border-color: transparent;\n",
              "      border-bottom-color: var(--fill-color);\n",
              "      border-left-color: var(--fill-color);\n",
              "    }\n",
              "    20% {\n",
              "      border-color: transparent;\n",
              "      border-left-color: var(--fill-color);\n",
              "      border-top-color: var(--fill-color);\n",
              "    }\n",
              "    30% {\n",
              "      border-color: transparent;\n",
              "      border-left-color: var(--fill-color);\n",
              "      border-top-color: var(--fill-color);\n",
              "      border-right-color: var(--fill-color);\n",
              "    }\n",
              "    40% {\n",
              "      border-color: transparent;\n",
              "      border-right-color: var(--fill-color);\n",
              "      border-top-color: var(--fill-color);\n",
              "    }\n",
              "    60% {\n",
              "      border-color: transparent;\n",
              "      border-right-color: var(--fill-color);\n",
              "    }\n",
              "    80% {\n",
              "      border-color: transparent;\n",
              "      border-right-color: var(--fill-color);\n",
              "      border-bottom-color: var(--fill-color);\n",
              "    }\n",
              "    90% {\n",
              "      border-color: transparent;\n",
              "      border-bottom-color: var(--fill-color);\n",
              "    }\n",
              "  }\n",
              "</style>\n",
              "\n",
              "      <script>\n",
              "        async function quickchart(key) {\n",
              "          const quickchartButtonEl =\n",
              "            document.querySelector('#' + key + ' button');\n",
              "          quickchartButtonEl.disabled = true;  // To prevent multiple clicks.\n",
              "          quickchartButtonEl.classList.add('colab-df-spinner');\n",
              "          try {\n",
              "            const charts = await google.colab.kernel.invokeFunction(\n",
              "                'suggestCharts', [key], {});\n",
              "          } catch (error) {\n",
              "            console.error('Error during call to suggestCharts:', error);\n",
              "          }\n",
              "          quickchartButtonEl.classList.remove('colab-df-spinner');\n",
              "          quickchartButtonEl.classList.add('colab-df-quickchart-complete');\n",
              "        }\n",
              "        (() => {\n",
              "          let quickchartButtonEl =\n",
              "            document.querySelector('#df-0aa0dfcc-d9b5-4d5f-84ef-4acd209e75ec button');\n",
              "          quickchartButtonEl.style.display =\n",
              "            google.colab.kernel.accessAllowed ? 'block' : 'none';\n",
              "        })();\n",
              "      </script>\n",
              "    </div>\n",
              "\n",
              "  <div id=\"id_dda0238f-6492-4aa8-8f9e-1d49baf6442b\">\n",
              "    <style>\n",
              "      .colab-df-generate {\n",
              "        background-color: #E8F0FE;\n",
              "        border: none;\n",
              "        border-radius: 50%;\n",
              "        cursor: pointer;\n",
              "        display: none;\n",
              "        fill: #1967D2;\n",
              "        height: 32px;\n",
              "        padding: 0 0 0 0;\n",
              "        width: 32px;\n",
              "      }\n",
              "\n",
              "      .colab-df-generate:hover {\n",
              "        background-color: #E2EBFA;\n",
              "        box-shadow: 0px 1px 2px rgba(60, 64, 67, 0.3), 0px 1px 3px 1px rgba(60, 64, 67, 0.15);\n",
              "        fill: #174EA6;\n",
              "      }\n",
              "\n",
              "      [theme=dark] .colab-df-generate {\n",
              "        background-color: #3B4455;\n",
              "        fill: #D2E3FC;\n",
              "      }\n",
              "\n",
              "      [theme=dark] .colab-df-generate:hover {\n",
              "        background-color: #434B5C;\n",
              "        box-shadow: 0px 1px 3px 1px rgba(0, 0, 0, 0.15);\n",
              "        filter: drop-shadow(0px 1px 2px rgba(0, 0, 0, 0.3));\n",
              "        fill: #FFFFFF;\n",
              "      }\n",
              "    </style>\n",
              "    <button class=\"colab-df-generate\" onclick=\"generateWithVariable('results_df')\"\n",
              "            title=\"Generate code using this dataframe.\"\n",
              "            style=\"display:none;\">\n",
              "\n",
              "  <svg xmlns=\"http://www.w3.org/2000/svg\" height=\"24px\"viewBox=\"0 0 24 24\"\n",
              "       width=\"24px\">\n",
              "    <path d=\"M7,19H8.4L18.45,9,17,7.55,7,17.6ZM5,21V16.75L18.45,3.32a2,2,0,0,1,2.83,0l1.4,1.43a1.91,1.91,0,0,1,.58,1.4,1.91,1.91,0,0,1-.58,1.4L9.25,21ZM18.45,9,17,7.55Zm-12,3A5.31,5.31,0,0,0,4.9,8.1,5.31,5.31,0,0,0,1,6.5,5.31,5.31,0,0,0,4.9,4.9,5.31,5.31,0,0,0,6.5,1,5.31,5.31,0,0,0,8.1,4.9,5.31,5.31,0,0,0,12,6.5,5.46,5.46,0,0,0,6.5,12Z\"/>\n",
              "  </svg>\n",
              "    </button>\n",
              "    <script>\n",
              "      (() => {\n",
              "      const buttonEl =\n",
              "        document.querySelector('#id_dda0238f-6492-4aa8-8f9e-1d49baf6442b button.colab-df-generate');\n",
              "      buttonEl.style.display =\n",
              "        google.colab.kernel.accessAllowed ? 'block' : 'none';\n",
              "\n",
              "      buttonEl.onclick = () => {\n",
              "        google.colab.notebook.generateWithVariable('results_df');\n",
              "      }\n",
              "      })();\n",
              "    </script>\n",
              "  </div>\n",
              "\n",
              "    </div>\n",
              "  </div>\n"
            ],
            "application/vnd.google.colaboratory.intrinsic+json": {
              "type": "dataframe",
              "variable_name": "results_df",
              "summary": "{\n  \"name\": \"results_df\",\n  \"rows\": 5,\n  \"fields\": [\n    {\n      \"column\": \"Modelo\",\n      \"properties\": {\n        \"dtype\": \"string\",\n        \"num_unique_values\": 5,\n        \"samples\": [\n          \"LogisticRegression\",\n          \"KNN\",\n          \"DecisionTree\"\n        ],\n        \"semantic_type\": \"\",\n        \"description\": \"\"\n      }\n    },\n    {\n      \"column\": \"Best_F1_1\",\n      \"properties\": {\n        \"dtype\": \"number\",\n        \"std\": 0.04871571679119074,\n        \"min\": 0.5915332490739578,\n        \"max\": 0.7122491370055163,\n        \"num_unique_values\": 5,\n        \"samples\": [\n          0.6764642533737263,\n          0.5915332490739578,\n          0.6514004985152582\n        ],\n        \"semantic_type\": \"\",\n        \"description\": \"\"\n      }\n    },\n    {\n      \"column\": \"Best_Params\",\n      \"properties\": {\n        \"dtype\": \"object\",\n        \"semantic_type\": \"\",\n        \"description\": \"\"\n      }\n    }\n  ]\n}"
            }
          },
          "metadata": {}
        }
      ]
    },
    {
      "cell_type": "markdown",
      "source": [
        "## Evaluación final sobre el conjunto de evaluación “out-of-the-box”\n",
        "Ahora que tenemos el mejor modelo (best_clf), hay que:\n",
        "\n",
        "    Reentrenarlo con todo el dataset (si PRODUCCION=False, idealmente lo hubiéramos entrenado en df_train completo).\n",
        "\n",
        "    Si PRODUCCION=True, directamente hacemos predict sobre df (porque ya es el dataset de evaluación “real”).\n",
        "\n",
        "    Calcular el reporte de clasificación (classification_report) para ver precision, recall y F1 en cada clase, además de accuracy global."
      ],
      "metadata": {
        "id": "I95CNtfI3i-L"
      }
    },
    {
      "cell_type": "markdown",
      "source": [
        "### Reentrenamiento con todo el set (modo NO producción)\n",
        "reentrenamos mejor modelo con todo el dataset original (TP_Virus_Alumnos.csv), usando los mejores hiperparámetros encontrados. Así tenemos el modelo “definitivo” antes de evaluarlo “fuera de caja”.\n",
        "\n",
        "Modo PRODUCCIÓN: X y y ya vienen de “TP_Virus_Evaluacion.csv”, por lo que grid_xgb.best_estimator_ está entrenado en esos datos y solo hace falta asignarlo a best_clf.\n"
      ],
      "metadata": {
        "id": "xdorkilk34ir"
      }
    },
    {
      "cell_type": "code",
      "source": [
        "# **** Entrenar best_clf sobre todo df_train (cuando PRODUCCION=False) ****\n",
        "if not PRODUCCION:\n",
        "    # Carga completa del dataset original\n",
        "    df_full = pd.read_csv(\"https://raw.githubusercontent.com/miroagustin/CienciaDeDatos1Q2025/main/TP_Virus_Alumnos.csv\")\n",
        "    X_full = df_full.drop(\"target\", axis=1)\n",
        "    y_full = df_full[\"target\"]\n",
        "\n",
        "    # Supongamos que 'grid_rf' es tu GridSearchCV para RandomForest\n",
        "    best_params = grid_rf.best_params_\n",
        "\n",
        "    # Reconstruimos el RandomForest con esos parámetros\n",
        "    best_rf = RandomForestClassifier(\n",
        "        random_state=SEED,\n",
        "        n_estimators=best_params[\"clf__n_estimators\"],\n",
        "        max_depth=best_params[\"clf__max_depth\"],\n",
        "        class_weight=best_params[\"clf__class_weight\"]\n",
        "    )\n",
        "\n",
        "    # Pipeline final: preprocesamiento + RandomForest\n",
        "    best_clf = Pipeline(steps=[\n",
        "        (\"preprocessor\", preprocessor),\n",
        "        (\"clf\", best_rf)\n",
        "    ])\n",
        "    best_clf.fit(X_full, y_full)\n",
        "\n",
        "else:\n",
        "    # En modo producción, suponiendo que 'grid_rf' ya se entrenó sobre X_prod/y_prod:\n",
        "    best_clf = grid_rf.best_estimator_\n",
        "\n"
      ],
      "metadata": {
        "id": "4ZuKgQtG3iyb"
      },
      "execution_count": 26,
      "outputs": []
    },
    {
      "cell_type": "markdown",
      "source": [
        "### Predicción y reporte de clasificación final"
      ],
      "metadata": {
        "id": "CoZyUryv4LEB"
      }
    },
    {
      "cell_type": "code",
      "source": [
        "# Si PRODUCCION=False → X, y estábamos usando df_eval (muestra del 30%)\n",
        "# Si PRODUCCION=True  → X, y vienen del TP_Virus_Evaluacion real.\n",
        "\n",
        "y_pred = best_clf.predict(X)\n",
        "print(\"Reporte de clasificación final (muestra evaluación):\")\n",
        "print(classification_report(y, y_pred, digits=4))\n"
      ],
      "metadata": {
        "colab": {
          "base_uri": "https://localhost:8080/"
        },
        "id": "IWcSsXIm3g3I",
        "outputId": "46721d2f-0f12-4f20-b158-907f18f132e4"
      },
      "execution_count": 27,
      "outputs": [
        {
          "output_type": "stream",
          "name": "stdout",
          "text": [
            "Reporte de clasificación final (muestra evaluación):\n",
            "              precision    recall  f1-score   support\n",
            "\n",
            "           0     0.8872    0.9465    0.9159       748\n",
            "           1     0.9134    0.8242    0.8665       512\n",
            "\n",
            "    accuracy                         0.8968      1260\n",
            "   macro avg     0.9003    0.8854    0.8912      1260\n",
            "weighted avg     0.8979    0.8968    0.8958      1260\n",
            "\n"
          ]
        }
      ]
    },
    {
      "cell_type": "markdown",
      "source": [
        "## Analizar curvas Precision–Recall y ROC\n",
        "PR AUC: el área bajo la curva precision–recall. Para desequilibrio de clases, es más informativo que ROC AUC, porque se centra en la clase positiva.\n",
        "\n",
        "ROC AUC: área bajo la curva TPR vs FPR."
      ],
      "metadata": {
        "id": "posygz8T5nHD"
      }
    },
    {
      "cell_type": "code",
      "source": [
        "# **** BLOQUE 9: Curvas Precision–Recall y ROC ****\n",
        "from sklearn.metrics import precision_recall_curve, roc_curve, auc\n",
        "\n",
        "# Obtener probabilidades (score) para la clase 1\n",
        "y_scores = best_clf.predict_proba(X)[:, 1]\n",
        "\n",
        "# Curva Precision–Recall\n",
        "precision, recall, thresholds_pr = precision_recall_curve(y, y_scores, pos_label=1)\n",
        "pr_auc = auc(recall, precision)\n",
        "\n",
        "plt.figure(figsize=(6,5))\n",
        "plt.plot(recall, precision, label=f\"PR AUC = {pr_auc:.4f}\")\n",
        "plt.xlabel(\"Recall\")\n",
        "plt.ylabel(\"Precision\")\n",
        "plt.title(\"Curva Precision–Recall (clase 1)\")\n",
        "plt.legend()\n",
        "plt.show()\n",
        "\n",
        "# Curva ROC\n",
        "fpr, tpr, thresholds_roc = roc_curve(y, y_scores, pos_label=1)\n",
        "roc_auc = auc(fpr, tpr)\n",
        "\n",
        "plt.figure(figsize=(6,5))\n",
        "plt.plot(fpr, tpr, label=f\"ROC AUC = {roc_auc:.4f}\")\n",
        "plt.plot([0,1],[0,1],\"--\", color=\"gray\")\n",
        "plt.xlabel(\"False Positive Rate\")\n",
        "plt.ylabel(\"True Positive Rate\")\n",
        "plt.title(\"Curva ROC\")\n",
        "plt.legend()\n",
        "plt.show()\n"
      ],
      "metadata": {
        "colab": {
          "base_uri": "https://localhost:8080/",
          "height": 957
        },
        "id": "Xajf-k0J5p08",
        "outputId": "eb81e0c7-fd19-482d-bf78-2063bc199396"
      },
      "execution_count": 28,
      "outputs": [
        {
          "output_type": "display_data",
          "data": {
            "text/plain": [
              "<Figure size 600x500 with 1 Axes>"
            ],
            "image/png": "[encoded data removed]"
          },
          "metadata": {}
        },
        {
          "output_type": "display_data",
          "data": {
            "text/plain": [
              "<Figure size 600x500 with 1 Axes>"
            ],
            "image/png": "[encoded data removed]"
          },
          "metadata": {}
        }
      ]
    },
    {
      "cell_type": "markdown",
      "source": [
        "---"
      ],
      "metadata": {
        "id": "YIvNsTxr4aHy"
      }
    },
    {
      "cell_type": "markdown",
      "source": [
        "# **Como Guardar modelo**\n",
        "\n",
        "Si el modelo tarda más de 10 minutos en entrenar, conviene guardarlo con joblib o pickle. Esto permite recargarlo sin volver a ajustarlo.\n",
        "```\n",
        "import joblib\n",
        "\n",
        "# Nombre de archivo donde persistiremos el pipeline\n",
        "joblib.dump(best_clf, \"best_clf_virus.pkl\")\n",
        "print(\"Modelo guardado en best_clf_virus.pkl\")\n",
        "```\n",
        "Con joblib.dump, se guarda el Pipeline completo (incluye preprocesamiento y clasificador).\n",
        "\n",
        "Si más adelante lo queremos usar:\n",
        "\n",
        "    loaded_clf = joblib.load(\"best_clf_virus.pkl\")\n",
        "    y_pred_new = loaded_clf.predict(X_new)\n"
      ],
      "metadata": {
        "id": "LBuvEpvX4bfN"
      }
    }
  ]
}