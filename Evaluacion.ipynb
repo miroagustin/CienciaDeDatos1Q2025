{
  "nbformat": 4,
  "nbformat_minor": 0,
  "metadata": {
    "colab": {
      "provenance": [],
      "collapsed_sections": [
        "gLSf64ttbjzD",
        "Cu9UFBy91iL6"
      ]
    },
    "kernelspec": {
      "name": "python3",
      "display_name": "Python 3"
    },
    "language_info": {
      "name": "python"
    }
  },
  "cells": [
    {
      "cell_type": "markdown",
      "metadata": {
        "id": "oyu6waNTbjzA"
      },
      "source": [
        "# Examen Práctico"
      ]
    },
    {
      "cell_type": "markdown",
      "metadata": {
        "id": "NFbITruJbjzB"
      },
      "source": [
        "#### 01-3900 | Ciencia de datos | 2025"
      ]
    },
    {
      "cell_type": "markdown",
      "metadata": {
        "id": "eHVZLGrGbjzB"
      },
      "source": [
        "*Alumnos* :\n",
        "*   Miro, Agustin\n",
        "*   Fragassi, Donatella\n",
        "*   Forestiero, Camila Julieta\n",
        "*   Martinez, Brenda Carolina\n",
        "*   Turello, Martina Gloria"
      ]
    },
    {
      "cell_type": "markdown",
      "metadata": {
        "id": "ndyVo1lgbjzB"
      },
      "source": [
        "## Enunciado"
      ]
    },
    {
      "cell_type": "markdown",
      "metadata": {
        "id": "uyEiWR_ObjzB"
      },
      "source": [
        "Se tienen un dataset con datos de pacientes internados en un hospital (TP_Virus_Alumnos.csv). La clase de interes (1) refiere a la presencia de un virus. El virus tiene normalmente una gravedad leve/baja y el tratamiento suele ser invasivo. Datos como nombre y apellido han sido eliminados y los valores tanto en sangre (BLD), hormonales u otros análisis sobre reactivos han sido alterados en sus valores para preservar la privacidad. Se aclara que no se ha modificado su capacidad predictiva (Si es que la tienen).\n"
      ]
    },
    {
      "cell_type": "markdown",
      "metadata": {
        "id": "KvxOznkZbjzC"
      },
      "source": [
        "Para su conocimiento: </BR>\n",
        "Datos generales de Edad, Peso, Altura y condición laboral (Activo, Pasivo etc).\n",
        "Datos medidos en hospital:</BR>\n",
        "BLD: Sangre</BR>\n",
        "LVL: Hormonales</BR>\n",
        "REC: Otros análisis</BR>\n",
        "\n",
        "Se pide obtener con los datos disponibles el mejor modelo posible que prediga la presencia o ausencia del virus.\n",
        "Dado que el tratamiento es invasivo y la grevedad es moderada se requiere \"atrapar\" tantos \"1\" como sea posible y minimizar los falsos positivos para evitar que reciban un tratamiento de estas caracteristicas personas que no presentan el virus. Intente obtener el mejor modelo que maximice la métrica que considere correspondiente.\n",
        "\n"
      ]
    },
    {
      "cell_type": "markdown",
      "metadata": {
        "id": "ToUL6cxGbjzC"
      },
      "source": [
        "## Como desarrollar el exámen"
      ]
    },
    {
      "cell_type": "markdown",
      "metadata": {
        "id": "75zCPD58bjzC"
      },
      "source": [
        "A partir del dataset realice todas las acciones para poder llegar al mejor modelo, explique brevemente en los fundamentos de sus transformaciones o acciones en general."
      ]
    },
    {
      "cell_type": "markdown",
      "metadata": {
        "id": "HKZz_S56bjzC"
      },
      "source": [
        "La nota derivará de: </BR>\n",
        "1.La calidad de la clasificación realizada</BR>\n",
        "2.La fundamentación de los pasos realizados</BR>\n",
        "3.Lo sencillo de llevar a producción el desarrollo</BR>\n",
        "\n"
      ]
    },
    {
      "cell_type": "markdown",
      "metadata": {
        "id": "C08Mxqy-bjzD"
      },
      "source": [
        "Los docentes evaluaran su clasificador utilizando un conjunto de datos del dataset \"fuera de la caja\" (out of the box, al que usted no tiene acceso). Para minimizar la posible diferencia entre su medición y la medición del docente recuerde y aplique conceptos de test, validación cruzada y evite los errores comunes de sesgo de selección y fuga de datos (Sklearn \"10. Common pitfalls and recommended practices\" disponible en \"https://scikit-learn.org/stable/common_pitfalls.html)\"   "
      ]
    },
    {
      "cell_type": "markdown",
      "metadata": {
        "id": "K6dWpkL4bjzD"
      },
      "source": [
        "Al final del notebook encontrará un bloque de código que lee la muestra adicional (a la que usted no tiene acceso) si PRODUCCION==True, en caso contrario solo lee una submuestra del conjunto original para validar que el código funciona. Desarrolle el notebook como considere para finalmente asignar el mejor clasificador o pipeline que usted haya obtenido remplazando en f_clf = None, None por su clasificador o pipeline. Si no utiliza un pipeline, implemente todas las transformaciones entre esa línea y la predicción final."
      ]
    },
    {
      "cell_type": "markdown",
      "metadata": {
        "id": "F1kqp1CAbjzD"
      },
      "source": [
        "Persista modelos si realiza procesos que demoren (Mas de 10 minutos es mucho), alternativamente si quiere realizar búsquedas exhaustivas de hiperparametros o variables explicite el procedimiento y luego utilice los valores obtenidos para ajustar un clasificador/regresor y que los tiempos sean posibles en la corrección. Todas las herramientas vistas en clase están disponibles. Verifique que los docentes pueden ejecutar su clasificador / regresor usando el código adjunto y los datos \"fuera de la caja\" para validar la calidad su modelo.  "
      ]
    },
    {
      "cell_type": "markdown",
      "metadata": {
        "id": "l1hxRUtPbjzD"
      },
      "source": [
        "En materiales del MIEL/GIT se adjuntan un notebooks con algunas ideas para automatizar el proceso (Pipelines/Transformadores customizados)."
      ]
    },
    {
      "cell_type": "markdown",
      "source": [
        "# Solucion"
      ],
      "metadata": {
        "id": "RvtyOduHw1P2"
      }
    },
    {
      "cell_type": "markdown",
      "source": [
        "### Carga de librerias\n"
      ],
      "metadata": {
        "id": "fRPjmgE5w9E1"
      }
    },
    {
      "cell_type": "code",
      "source": [
        "import pandas as pd\n",
        "import numpy as np\n",
        "import matplotlib.pyplot as plt\n",
        "import seaborn as sns\n",
        "\n",
        "from sklearn.model_selection import train_test_split, GridSearchCV, StratifiedKFold, cross_val_score\n",
        "from sklearn.pipeline import Pipeline\n",
        "from sklearn.compose import ColumnTransformer\n",
        "from sklearn.impute import SimpleImputer\n",
        "from sklearn.preprocessing import StandardScaler, OneHotEncoder\n",
        "from sklearn.feature_selection import VarianceThreshold\n",
        "from sklearn.metrics import classification_report, precision_recall_curve, roc_auc_score, make_scorer, f1_score, roc_curve, auc\n",
        "\n",
        "# Importamos distintos clasificadores para comparar\n",
        "from sklearn.linear_model import LogisticRegression\n",
        "from sklearn.ensemble import RandomForestClassifier\n",
        "from sklearn.tree import DecisionTreeClassifier\n",
        "from xgboost import XGBClassifier\n",
        "from sklearn.neighbors import KNeighborsClassifier\n",
        "from sklearn.naive_bayes import GaussianNB\n",
        "\n",
        "# Fijamos semilla para reproducibilidad\n",
        "SEED = 42\n",
        "np.random.seed(SEED)"
      ],
      "metadata": {
        "id": "70VsEbOKxriM"
      },
      "execution_count": 1,
      "outputs": []
    },
    {
      "cell_type": "markdown",
      "source": [
        "## Lectura del dataset y muestreo\n",
        "Cargamos el dataset."
      ],
      "metadata": {
        "id": "Pv5lNaAUx3iq"
      }
    },
    {
      "cell_type": "code",
      "source": [
        "df = pd.read_csv(\"https://raw.githubusercontent.com/miroagustin/CienciaDeDatos1Q2025/main/TP_Virus_Alumnos.csv\")\n",
        "\n",
        "# Inspección rápida de las primeras filas\n",
        "print(\"Dimensiones del dataset:\", df.shape)\n",
        "df.head()"
      ],
      "metadata": {
        "colab": {
          "base_uri": "https://localhost:8080/",
          "height": 224
        },
        "id": "cIwBpdALx9iC",
        "outputId": "f9807b6f-287b-4d06-da25-234d9cb101b0"
      },
      "execution_count": 61,
      "outputs": [
        {
          "output_type": "stream",
          "name": "stdout",
          "text": [
            "Dimensiones del dataset: (4200, 15)\n"
          ]
        },
        {
          "output_type": "execute_result",
          "data": {
            "text/plain": [
              "   Edad     Genero        Peso     Laboral  hijos     BLD01      REC1  \\\n",
              "0   9.0   Femenino   36.410602    Inactivo      0  3.139714  6.929112   \n",
              "1  58.0  Masculino  115.507184    Inactivo      4  2.953914  4.660136   \n",
              "2  74.0  Masculino   81.249035      Activo      3  1.365200  3.005861   \n",
              "3   NaN  Masculino   77.985589  No_declara      0  2.329285  4.344642   \n",
              "4   1.0   Femenino   13.446208    Inactivo      0 -0.062975  3.938741   \n",
              "\n",
              "        REC2       REC3       REC4       REC5     BLD02     BLD03  \\\n",
              "0  63.712640  73.880613  15.087239  90.400193  2.015331  1.633836   \n",
              "1  64.582610  73.669319  14.503106  90.817947  0.973317 -0.439358   \n",
              "2  63.613454  75.103984  14.077988  91.741638  3.243344  0.380413   \n",
              "3  64.433115  73.402436  15.583846  91.741709  3.188290 -0.226046   \n",
              "4  65.122602  75.007982  16.961593  90.668625  2.729202  0.589698   \n",
              "\n",
              "              LVL  target  \n",
              "0       51.411632       0  \n",
              "1  1000000.000000       0  \n",
              "2  1000000.000000       1  \n",
              "3             NaN       0  \n",
              "4       21.627303       1  "
            ],
            "text/html": [
              "\n",
              "  <div id=\"df-ee1a8e4d-54ed-44bb-a2df-4f2af9a1d969\" class=\"colab-df-container\">\n",
              "    <div>\n",
              "<style scoped>\n",
              "    .dataframe tbody tr th:only-of-type {\n",
              "        vertical-align: middle;\n",
              "    }\n",
              "\n",
              "    .dataframe tbody tr th {\n",
              "        vertical-align: top;\n",
              "    }\n",
              "\n",
              "    .dataframe thead th {\n",
              "        text-align: right;\n",
              "    }\n",
              "</style>\n",
              "<table border=\"1\" class=\"dataframe\">\n",
              "  <thead>\n",
              "    <tr style=\"text-align: right;\">\n",
              "      <th></th>\n",
              "      <th>Edad</th>\n",
              "      <th>Genero</th>\n",
              "      <th>Peso</th>\n",
              "      <th>Laboral</th>\n",
              "      <th>hijos</th>\n",
              "      <th>BLD01</th>\n",
              "      <th>REC1</th>\n",
              "      <th>REC2</th>\n",
              "      <th>REC3</th>\n",
              "      <th>REC4</th>\n",
              "      <th>REC5</th>\n",
              "      <th>BLD02</th>\n",
              "      <th>BLD03</th>\n",
              "      <th>LVL</th>\n",
              "      <th>target</th>\n",
              "    </tr>\n",
              "  </thead>\n",
              "  <tbody>\n",
              "    <tr>\n",
              "      <th>0</th>\n",
              "      <td>9.0</td>\n",
              "      <td>Femenino</td>\n",
              "      <td>36.410602</td>\n",
              "      <td>Inactivo</td>\n",
              "      <td>0</td>\n",
              "      <td>3.139714</td>\n",
              "      <td>6.929112</td>\n",
              "      <td>63.712640</td>\n",
              "      <td>73.880613</td>\n",
              "      <td>15.087239</td>\n",
              "      <td>90.400193</td>\n",
              "      <td>2.015331</td>\n",
              "      <td>1.633836</td>\n",
              "      <td>51.411632</td>\n",
              "      <td>0</td>\n",
              "    </tr>\n",
              "    <tr>\n",
              "      <th>1</th>\n",
              "      <td>58.0</td>\n",
              "      <td>Masculino</td>\n",
              "      <td>115.507184</td>\n",
              "      <td>Inactivo</td>\n",
              "      <td>4</td>\n",
              "      <td>2.953914</td>\n",
              "      <td>4.660136</td>\n",
              "      <td>64.582610</td>\n",
              "      <td>73.669319</td>\n",
              "      <td>14.503106</td>\n",
              "      <td>90.817947</td>\n",
              "      <td>0.973317</td>\n",
              "      <td>-0.439358</td>\n",
              "      <td>1000000.000000</td>\n",
              "      <td>0</td>\n",
              "    </tr>\n",
              "    <tr>\n",
              "      <th>2</th>\n",
              "      <td>74.0</td>\n",
              "      <td>Masculino</td>\n",
              "      <td>81.249035</td>\n",
              "      <td>Activo</td>\n",
              "      <td>3</td>\n",
              "      <td>1.365200</td>\n",
              "      <td>3.005861</td>\n",
              "      <td>63.613454</td>\n",
              "      <td>75.103984</td>\n",
              "      <td>14.077988</td>\n",
              "      <td>91.741638</td>\n",
              "      <td>3.243344</td>\n",
              "      <td>0.380413</td>\n",
              "      <td>1000000.000000</td>\n",
              "      <td>1</td>\n",
              "    </tr>\n",
              "    <tr>\n",
              "      <th>3</th>\n",
              "      <td>NaN</td>\n",
              "      <td>Masculino</td>\n",
              "      <td>77.985589</td>\n",
              "      <td>No_declara</td>\n",
              "      <td>0</td>\n",
              "      <td>2.329285</td>\n",
              "      <td>4.344642</td>\n",
              "      <td>64.433115</td>\n",
              "      <td>73.402436</td>\n",
              "      <td>15.583846</td>\n",
              "      <td>91.741709</td>\n",
              "      <td>3.188290</td>\n",
              "      <td>-0.226046</td>\n",
              "      <td>NaN</td>\n",
              "      <td>0</td>\n",
              "    </tr>\n",
              "    <tr>\n",
              "      <th>4</th>\n",
              "      <td>1.0</td>\n",
              "      <td>Femenino</td>\n",
              "      <td>13.446208</td>\n",
              "      <td>Inactivo</td>\n",
              "      <td>0</td>\n",
              "      <td>-0.062975</td>\n",
              "      <td>3.938741</td>\n",
              "      <td>65.122602</td>\n",
              "      <td>75.007982</td>\n",
              "      <td>16.961593</td>\n",
              "      <td>90.668625</td>\n",
              "      <td>2.729202</td>\n",
              "      <td>0.589698</td>\n",
              "      <td>21.627303</td>\n",
              "      <td>1</td>\n",
              "    </tr>\n",
              "  </tbody>\n",
              "</table>\n",
              "</div>\n",
              "    <div class=\"colab-df-buttons\">\n",
              "\n",
              "  <div class=\"colab-df-container\">\n",
              "    <button class=\"colab-df-convert\" onclick=\"convertToInteractive('df-ee1a8e4d-54ed-44bb-a2df-4f2af9a1d969')\"\n",
              "            title=\"Convert this dataframe to an interactive table.\"\n",
              "            style=\"display:none;\">\n",
              "\n",
              "  <svg xmlns=\"http://www.w3.org/2000/svg\" height=\"24px\" viewBox=\"0 -960 960 960\">\n",
              "    <path d=\"M120-120v-720h720v720H120Zm60-500h600v-160H180v160Zm220 220h160v-160H400v160Zm0 220h160v-160H400v160ZM180-400h160v-160H180v160Zm440 0h160v-160H620v160ZM180-180h160v-160H180v160Zm440 0h160v-160H620v160Z\"/>\n",
              "  </svg>\n",
              "    </button>\n",
              "\n",
              "  <style>\n",
              "    .colab-df-container {\n",
              "      display:flex;\n",
              "      gap: 12px;\n",
              "    }\n",
              "\n",
              "    .colab-df-convert {\n",
              "      background-color: #E8F0FE;\n",
              "      border: none;\n",
              "      border-radius: 50%;\n",
              "      cursor: pointer;\n",
              "      display: none;\n",
              "      fill: #1967D2;\n",
              "      height: 32px;\n",
              "      padding: 0 0 0 0;\n",
              "      width: 32px;\n",
              "    }\n",
              "\n",
              "    .colab-df-convert:hover {\n",
              "      background-color: #E2EBFA;\n",
              "      box-shadow: 0px 1px 2px rgba(60, 64, 67, 0.3), 0px 1px 3px 1px rgba(60, 64, 67, 0.15);\n",
              "      fill: #174EA6;\n",
              "    }\n",
              "\n",
              "    .colab-df-buttons div {\n",
              "      margin-bottom: 4px;\n",
              "    }\n",
              "\n",
              "    [theme=dark] .colab-df-convert {\n",
              "      background-color: #3B4455;\n",
              "      fill: #D2E3FC;\n",
              "    }\n",
              "\n",
              "    [theme=dark] .colab-df-convert:hover {\n",
              "      background-color: #434B5C;\n",
              "      box-shadow: 0px 1px 3px 1px rgba(0, 0, 0, 0.15);\n",
              "      filter: drop-shadow(0px 1px 2px rgba(0, 0, 0, 0.3));\n",
              "      fill: #FFFFFF;\n",
              "    }\n",
              "  </style>\n",
              "\n",
              "    <script>\n",
              "      const buttonEl =\n",
              "        document.querySelector('#df-ee1a8e4d-54ed-44bb-a2df-4f2af9a1d969 button.colab-df-convert');\n",
              "      buttonEl.style.display =\n",
              "        google.colab.kernel.accessAllowed ? 'block' : 'none';\n",
              "\n",
              "      async function convertToInteractive(key) {\n",
              "        const element = document.querySelector('#df-ee1a8e4d-54ed-44bb-a2df-4f2af9a1d969');\n",
              "        const dataTable =\n",
              "          await google.colab.kernel.invokeFunction('convertToInteractive',\n",
              "                                                    [key], {});\n",
              "        if (!dataTable) return;\n",
              "\n",
              "        const docLinkHtml = 'Like what you see? Visit the ' +\n",
              "          '<a target=\"_blank\" href=https://colab.research.google.com/notebooks/data_table.ipynb>data table notebook</a>'\n",
              "          + ' to learn more about interactive tables.';\n",
              "        element.innerHTML = '';\n",
              "        dataTable['output_type'] = 'display_data';\n",
              "        await google.colab.output.renderOutput(dataTable, element);\n",
              "        const docLink = document.createElement('div');\n",
              "        docLink.innerHTML = docLinkHtml;\n",
              "        element.appendChild(docLink);\n",
              "      }\n",
              "    </script>\n",
              "  </div>\n",
              "\n",
              "\n",
              "    <div id=\"df-8b5f5f97-5f53-45f5-ba30-79662b9c7eb9\">\n",
              "      <button class=\"colab-df-quickchart\" onclick=\"quickchart('df-8b5f5f97-5f53-45f5-ba30-79662b9c7eb9')\"\n",
              "                title=\"Suggest charts\"\n",
              "                style=\"display:none;\">\n",
              "\n",
              "<svg xmlns=\"http://www.w3.org/2000/svg\" height=\"24px\"viewBox=\"0 0 24 24\"\n",
              "     width=\"24px\">\n",
              "    <g>\n",
              "        <path d=\"M19 3H5c-1.1 0-2 .9-2 2v14c0 1.1.9 2 2 2h14c1.1 0 2-.9 2-2V5c0-1.1-.9-2-2-2zM9 17H7v-7h2v7zm4 0h-2V7h2v10zm4 0h-2v-4h2v4z\"/>\n",
              "    </g>\n",
              "</svg>\n",
              "      </button>\n",
              "\n",
              "<style>\n",
              "  .colab-df-quickchart {\n",
              "      --bg-color: #E8F0FE;\n",
              "      --fill-color: #1967D2;\n",
              "      --hover-bg-color: #E2EBFA;\n",
              "      --hover-fill-color: #174EA6;\n",
              "      --disabled-fill-color: #AAA;\n",
              "      --disabled-bg-color: #DDD;\n",
              "  }\n",
              "\n",
              "  [theme=dark] .colab-df-quickchart {\n",
              "      --bg-color: #3B4455;\n",
              "      --fill-color: #D2E3FC;\n",
              "      --hover-bg-color: #434B5C;\n",
              "      --hover-fill-color: #FFFFFF;\n",
              "      --disabled-bg-color: #3B4455;\n",
              "      --disabled-fill-color: #666;\n",
              "  }\n",
              "\n",
              "  .colab-df-quickchart {\n",
              "    background-color: var(--bg-color);\n",
              "    border: none;\n",
              "    border-radius: 50%;\n",
              "    cursor: pointer;\n",
              "    display: none;\n",
              "    fill: var(--fill-color);\n",
              "    height: 32px;\n",
              "    padding: 0;\n",
              "    width: 32px;\n",
              "  }\n",
              "\n",
              "  .colab-df-quickchart:hover {\n",
              "    background-color: var(--hover-bg-color);\n",
              "    box-shadow: 0 1px 2px rgba(60, 64, 67, 0.3), 0 1px 3px 1px rgba(60, 64, 67, 0.15);\n",
              "    fill: var(--button-hover-fill-color);\n",
              "  }\n",
              "\n",
              "  .colab-df-quickchart-complete:disabled,\n",
              "  .colab-df-quickchart-complete:disabled:hover {\n",
              "    background-color: var(--disabled-bg-color);\n",
              "    fill: var(--disabled-fill-color);\n",
              "    box-shadow: none;\n",
              "  }\n",
              "\n",
              "  .colab-df-spinner {\n",
              "    border: 2px solid var(--fill-color);\n",
              "    border-color: transparent;\n",
              "    border-bottom-color: var(--fill-color);\n",
              "    animation:\n",
              "      spin 1s steps(1) infinite;\n",
              "  }\n",
              "\n",
              "  @keyframes spin {\n",
              "    0% {\n",
              "      border-color: transparent;\n",
              "      border-bottom-color: var(--fill-color);\n",
              "      border-left-color: var(--fill-color);\n",
              "    }\n",
              "    20% {\n",
              "      border-color: transparent;\n",
              "      border-left-color: var(--fill-color);\n",
              "      border-top-color: var(--fill-color);\n",
              "    }\n",
              "    30% {\n",
              "      border-color: transparent;\n",
              "      border-left-color: var(--fill-color);\n",
              "      border-top-color: var(--fill-color);\n",
              "      border-right-color: var(--fill-color);\n",
              "    }\n",
              "    40% {\n",
              "      border-color: transparent;\n",
              "      border-right-color: var(--fill-color);\n",
              "      border-top-color: var(--fill-color);\n",
              "    }\n",
              "    60% {\n",
              "      border-color: transparent;\n",
              "      border-right-color: var(--fill-color);\n",
              "    }\n",
              "    80% {\n",
              "      border-color: transparent;\n",
              "      border-right-color: var(--fill-color);\n",
              "      border-bottom-color: var(--fill-color);\n",
              "    }\n",
              "    90% {\n",
              "      border-color: transparent;\n",
              "      border-bottom-color: var(--fill-color);\n",
              "    }\n",
              "  }\n",
              "</style>\n",
              "\n",
              "      <script>\n",
              "        async function quickchart(key) {\n",
              "          const quickchartButtonEl =\n",
              "            document.querySelector('#' + key + ' button');\n",
              "          quickchartButtonEl.disabled = true;  // To prevent multiple clicks.\n",
              "          quickchartButtonEl.classList.add('colab-df-spinner');\n",
              "          try {\n",
              "            const charts = await google.colab.kernel.invokeFunction(\n",
              "                'suggestCharts', [key], {});\n",
              "          } catch (error) {\n",
              "            console.error('Error during call to suggestCharts:', error);\n",
              "          }\n",
              "          quickchartButtonEl.classList.remove('colab-df-spinner');\n",
              "          quickchartButtonEl.classList.add('colab-df-quickchart-complete');\n",
              "        }\n",
              "        (() => {\n",
              "          let quickchartButtonEl =\n",
              "            document.querySelector('#df-8b5f5f97-5f53-45f5-ba30-79662b9c7eb9 button');\n",
              "          quickchartButtonEl.style.display =\n",
              "            google.colab.kernel.accessAllowed ? 'block' : 'none';\n",
              "        })();\n",
              "      </script>\n",
              "    </div>\n",
              "\n",
              "    </div>\n",
              "  </div>\n"
            ],
            "application/vnd.google.colaboratory.intrinsic+json": {
              "type": "dataframe",
              "variable_name": "df",
              "summary": "{\n  \"name\": \"df\",\n  \"rows\": 4200,\n  \"fields\": [\n    {\n      \"column\": \"Edad\",\n      \"properties\": {\n        \"dtype\": \"number\",\n        \"std\": 25.04881869164769,\n        \"min\": 0.0,\n        \"max\": 79.0,\n        \"num_unique_values\": 80,\n        \"samples\": [\n          40.0,\n          9.0,\n          10.0\n        ],\n        \"semantic_type\": \"\",\n        \"description\": \"\"\n      }\n    },\n    {\n      \"column\": \"Genero\",\n      \"properties\": {\n        \"dtype\": \"category\",\n        \"num_unique_values\": 3,\n        \"samples\": [\n          \"Femenino\",\n          \"Masculino\",\n          \"Otro\"\n        ],\n        \"semantic_type\": \"\",\n        \"description\": \"\"\n      }\n    },\n    {\n      \"column\": \"Peso\",\n      \"properties\": {\n        \"dtype\": \"number\",\n        \"std\": 25.792978834288792,\n        \"min\": 8.934178194834107,\n        \"max\": 128.85029745810107,\n        \"num_unique_values\": 4154,\n        \"samples\": [\n          101.03018752380062,\n          14.330729352004424,\n          81.66318061763663\n        ],\n        \"semantic_type\": \"\",\n        \"description\": \"\"\n      }\n    },\n    {\n      \"column\": \"Laboral\",\n      \"properties\": {\n        \"dtype\": \"category\",\n        \"num_unique_values\": 3,\n        \"samples\": [\n          \"Inactivo\",\n          \"Activo\",\n          \"No_declara\"\n        ],\n        \"semantic_type\": \"\",\n        \"description\": \"\"\n      }\n    },\n    {\n      \"column\": \"hijos\",\n      \"properties\": {\n        \"dtype\": \"number\",\n        \"std\": 1,\n        \"min\": 0,\n        \"max\": 5,\n        \"num_unique_values\": 6,\n        \"samples\": [\n          0,\n          4,\n          2\n        ],\n        \"semantic_type\": \"\",\n        \"description\": \"\"\n      }\n    },\n    {\n      \"column\": \"BLD01\",\n      \"properties\": {\n        \"dtype\": \"number\",\n        \"std\": 1.1619044460268733,\n        \"min\": -2.994894913962414,\n        \"max\": 5.684674545972798,\n        \"num_unique_values\": 4200,\n        \"samples\": [\n          0.3757815777873058,\n          0.6193322264311822,\n          0.6818153053101611\n        ],\n        \"semantic_type\": \"\",\n        \"description\": \"\"\n      }\n    },\n    {\n      \"column\": \"REC1\",\n      \"properties\": {\n        \"dtype\": \"number\",\n        \"std\": 0.9986909156293936,\n        \"min\": 0.2055331936333733,\n        \"max\": 7.512914900254897,\n        \"num_unique_values\": 4200,\n        \"samples\": [\n          2.961875574455345,\n          4.294339313350174,\n          0.2055331936333733\n        ],\n        \"semantic_type\": \"\",\n        \"description\": \"\"\n      }\n    },\n    {\n      \"column\": \"REC2\",\n      \"properties\": {\n        \"dtype\": \"number\",\n        \"std\": 1.0010913236371348,\n        \"min\": 60.89132976792195,\n        \"max\": 67.63506464534606,\n        \"num_unique_values\": 4200,\n        \"samples\": [\n          64.0487095389653,\n          64.40589965183645,\n          63.620073860853005\n        ],\n        \"semantic_type\": \"\",\n        \"description\": \"\"\n      }\n    },\n    {\n      \"column\": \"REC3\",\n      \"properties\": {\n        \"dtype\": \"number\",\n        \"std\": 1.0336384364023332,\n        \"min\": 69.16900990370988,\n        \"max\": 76.78385785014149,\n        \"num_unique_values\": 4200,\n        \"samples\": [\n          72.2706969107244,\n          72.52695166645383,\n          74.00321848707108\n        ],\n        \"semantic_type\": \"\",\n        \"description\": \"\"\n      }\n    },\n    {\n      \"column\": \"REC4\",\n      \"properties\": {\n        \"dtype\": \"number\",\n        \"std\": 1.0384518690724123,\n        \"min\": 10.522454665976063,\n        \"max\": 18.58191056397445,\n        \"num_unique_values\": 4200,\n        \"samples\": [\n          15.043639390531602,\n          15.105463661816346,\n          13.556008505307002\n        ],\n        \"semantic_type\": \"\",\n        \"description\": \"\"\n      }\n    },\n    {\n      \"column\": \"REC5\",\n      \"properties\": {\n        \"dtype\": \"number\",\n        \"std\": 1.0166609874711203,\n        \"min\": 86.49827298099409,\n        \"max\": 93.45909401064824,\n        \"num_unique_values\": 4200,\n        \"samples\": [\n          90.85984448152372,\n          89.98983320991618,\n          90.20353732001726\n        ],\n        \"semantic_type\": \"\",\n        \"description\": \"\"\n      }\n    },\n    {\n      \"column\": \"BLD02\",\n      \"properties\": {\n        \"dtype\": \"number\",\n        \"std\": 1.013155956663467,\n        \"min\": -3.081165755805334,\n        \"max\": 4.717948304432347,\n        \"num_unique_values\": 4200,\n        \"samples\": [\n          0.0774915030192024,\n          1.4997398472023025,\n          1.7064355701966964\n        ],\n        \"semantic_type\": \"\",\n        \"description\": \"\"\n      }\n    },\n    {\n      \"column\": \"BLD03\",\n      \"properties\": {\n        \"dtype\": \"number\",\n        \"std\": 0.9958714196688425,\n        \"min\": -3.627277483050016,\n        \"max\": 4.105408576271446,\n        \"num_unique_values\": 4200,\n        \"samples\": [\n          -0.2288075346864267,\n          1.0181830686865896,\n          -0.221466177914558\n        ],\n        \"semantic_type\": \"\",\n        \"description\": \"\"\n      }\n    },\n    {\n      \"column\": \"LVL\",\n      \"properties\": {\n        \"dtype\": \"number\",\n        \"std\": 418951.2184775677,\n        \"min\": -15.793610073901403,\n        \"max\": 1000000.0,\n        \"num_unique_values\": 2840,\n        \"samples\": [\n          52.97736273012022,\n          131.39984647094866,\n          88.2711283922093\n        ],\n        \"semantic_type\": \"\",\n        \"description\": \"\"\n      }\n    },\n    {\n      \"column\": \"target\",\n      \"properties\": {\n        \"dtype\": \"number\",\n        \"std\": 0,\n        \"min\": 0,\n        \"max\": 1,\n        \"num_unique_values\": 2,\n        \"samples\": [\n          1,\n          0\n        ],\n        \"semantic_type\": \"\",\n        \"description\": \"\"\n      }\n    }\n  ]\n}"
            }
          },
          "metadata": {},
          "execution_count": 61
        }
      ]
    },
    {
      "cell_type": "markdown",
      "source": [
        "##  Análisis exploratorio\n",
        "* Confirmamos cuántas filas y columnas manejamos.\n",
        "* Revisamos los tipos de datos (numéricos vs. categóricos).\n",
        "\n",
        "Esto nos ayudará a diseñar las transformaciones (por ejemplo, imputación y escalado para numéricos; OneHotEncoder para categóricos, etc.)."
      ],
      "metadata": {
        "id": "iGdctqZiyY6D"
      }
    },
    {
      "cell_type": "code",
      "source": [
        "print(\"Total filas:\", df.shape[0])\n",
        "print(\"Total columnas (predictoras):\", df.shape[1])\n",
        "\n",
        "print(\"\\nTipos de datos de cada columna:\")\n",
        "display(df.dtypes.value_counts())\n",
        "\n",
        "print(\"\\nCantidad de variables numéricas vs categóricas:\")\n",
        "display(df.select_dtypes(include=[\"int64\",\"float64\"]).shape[1], \"numéricas\")\n",
        "display(df.select_dtypes(include=[\"object\",\"category\"]).shape[1], \"categóricas\")"
      ],
      "metadata": {
        "colab": {
          "base_uri": "https://localhost:8080/",
          "height": 354
        },
        "id": "E0AeMPP8yk9y",
        "outputId": "a8140c8d-8e7e-42f3-fa2f-21bc8b4078d8"
      },
      "execution_count": 29,
      "outputs": [
        {
          "output_type": "stream",
          "name": "stdout",
          "text": [
            "Total filas: 4200\n",
            "Total columnas (predictoras): 15\n",
            "\n",
            "Tipos de datos de cada columna:\n"
          ]
        },
        {
          "output_type": "display_data",
          "data": {
            "text/plain": [
              "float64    11\n",
              "object      2\n",
              "int64       2\n",
              "Name: count, dtype: int64"
            ],
            "text/html": [
              "<div>\n",
              "<style scoped>\n",
              "    .dataframe tbody tr th:only-of-type {\n",
              "        vertical-align: middle;\n",
              "    }\n",
              "\n",
              "    .dataframe tbody tr th {\n",
              "        vertical-align: top;\n",
              "    }\n",
              "\n",
              "    .dataframe thead th {\n",
              "        text-align: right;\n",
              "    }\n",
              "</style>\n",
              "<table border=\"1\" class=\"dataframe\">\n",
              "  <thead>\n",
              "    <tr style=\"text-align: right;\">\n",
              "      <th></th>\n",
              "      <th>count</th>\n",
              "    </tr>\n",
              "  </thead>\n",
              "  <tbody>\n",
              "    <tr>\n",
              "      <th>float64</th>\n",
              "      <td>11</td>\n",
              "    </tr>\n",
              "    <tr>\n",
              "      <th>object</th>\n",
              "      <td>2</td>\n",
              "    </tr>\n",
              "    <tr>\n",
              "      <th>int64</th>\n",
              "      <td>2</td>\n",
              "    </tr>\n",
              "  </tbody>\n",
              "</table>\n",
              "</div><br><label><b>dtype:</b> int64</label>"
            ]
          },
          "metadata": {}
        },
        {
          "output_type": "stream",
          "name": "stdout",
          "text": [
            "\n",
            "Cantidad de variables numéricas vs categóricas:\n"
          ]
        },
        {
          "output_type": "display_data",
          "data": {
            "text/plain": [
              "13"
            ]
          },
          "metadata": {}
        },
        {
          "output_type": "display_data",
          "data": {
            "text/plain": [
              "'numéricas'"
            ],
            "application/vnd.google.colaboratory.intrinsic+json": {
              "type": "string"
            }
          },
          "metadata": {}
        },
        {
          "output_type": "display_data",
          "data": {
            "text/plain": [
              "2"
            ]
          },
          "metadata": {}
        },
        {
          "output_type": "display_data",
          "data": {
            "text/plain": [
              "'categóricas'"
            ],
            "application/vnd.google.colaboratory.intrinsic+json": {
              "type": "string"
            }
          },
          "metadata": {}
        }
      ]
    },
    {
      "cell_type": "markdown",
      "source": [
        "### Revisión de valores faltantes y nulos\n",
        "\n",
        "*  Obtenemos el número de nulos por columna y el porcentaje relativo.\n",
        "\n",
        "* Si alguna columna presenta nulos debemos considerar eliminar los registros, la columna o buscar imputaciones específicas, ya que al probar todos los modelos, muchos de ellos podrían fallar o dar malos resultados porque no soportan nulos.\n",
        "\n"
      ],
      "metadata": {
        "id": "7qsoFkdBy9jp"
      }
    },
    {
      "cell_type": "code",
      "source": [
        "missing_counts = df.isnull().sum().sort_values(ascending=False)\n",
        "missing_perc = (missing_counts / df.shape[0]) * 100\n",
        "\n",
        "df_missing = pd.DataFrame({\n",
        "    \"nulos\": missing_counts,\n",
        "    \"pct_nulos\": missing_perc.round(2)\n",
        "}).loc[missing_perc > 0]  # solo se muestran las columnas con > 0% nulos\n",
        "\n",
        "print(\"Columnas con valores faltantes:\")\n",
        "display(df_missing)"
      ],
      "metadata": {
        "colab": {
          "base_uri": "https://localhost:8080/",
          "height": 161
        },
        "id": "fjHwF779zCGk",
        "outputId": "c73c1f88-775c-4c61-88b1-fff85456c5f1"
      },
      "execution_count": 39,
      "outputs": [
        {
          "output_type": "stream",
          "name": "stdout",
          "text": [
            "Columnas con valores faltantes:\n"
          ]
        },
        {
          "output_type": "display_data",
          "data": {
            "text/plain": [
              "        nulos  pct_nulos\n",
              "Genero   1682      40.05\n",
              "Edad      822      19.57\n",
              "LVL       527      12.55"
            ],
            "text/html": [
              "\n",
              "  <div id=\"df-51adfcbc-f027-4cef-933c-89337e125e59\" class=\"colab-df-container\">\n",
              "    <div>\n",
              "<style scoped>\n",
              "    .dataframe tbody tr th:only-of-type {\n",
              "        vertical-align: middle;\n",
              "    }\n",
              "\n",
              "    .dataframe tbody tr th {\n",
              "        vertical-align: top;\n",
              "    }\n",
              "\n",
              "    .dataframe thead th {\n",
              "        text-align: right;\n",
              "    }\n",
              "</style>\n",
              "<table border=\"1\" class=\"dataframe\">\n",
              "  <thead>\n",
              "    <tr style=\"text-align: right;\">\n",
              "      <th></th>\n",
              "      <th>nulos</th>\n",
              "      <th>pct_nulos</th>\n",
              "    </tr>\n",
              "  </thead>\n",
              "  <tbody>\n",
              "    <tr>\n",
              "      <th>Genero</th>\n",
              "      <td>1682</td>\n",
              "      <td>40.05</td>\n",
              "    </tr>\n",
              "    <tr>\n",
              "      <th>Edad</th>\n",
              "      <td>822</td>\n",
              "      <td>19.57</td>\n",
              "    </tr>\n",
              "    <tr>\n",
              "      <th>LVL</th>\n",
              "      <td>527</td>\n",
              "      <td>12.55</td>\n",
              "    </tr>\n",
              "  </tbody>\n",
              "</table>\n",
              "</div>\n",
              "    <div class=\"colab-df-buttons\">\n",
              "\n",
              "  <div class=\"colab-df-container\">\n",
              "    <button class=\"colab-df-convert\" onclick=\"convertToInteractive('df-51adfcbc-f027-4cef-933c-89337e125e59')\"\n",
              "            title=\"Convert this dataframe to an interactive table.\"\n",
              "            style=\"display:none;\">\n",
              "\n",
              "  <svg xmlns=\"http://www.w3.org/2000/svg\" height=\"24px\" viewBox=\"0 -960 960 960\">\n",
              "    <path d=\"M120-120v-720h720v720H120Zm60-500h600v-160H180v160Zm220 220h160v-160H400v160Zm0 220h160v-160H400v160ZM180-400h160v-160H180v160Zm440 0h160v-160H620v160ZM180-180h160v-160H180v160Zm440 0h160v-160H620v160Z\"/>\n",
              "  </svg>\n",
              "    </button>\n",
              "\n",
              "  <style>\n",
              "    .colab-df-container {\n",
              "      display:flex;\n",
              "      gap: 12px;\n",
              "    }\n",
              "\n",
              "    .colab-df-convert {\n",
              "      background-color: #E8F0FE;\n",
              "      border: none;\n",
              "      border-radius: 50%;\n",
              "      cursor: pointer;\n",
              "      display: none;\n",
              "      fill: #1967D2;\n",
              "      height: 32px;\n",
              "      padding: 0 0 0 0;\n",
              "      width: 32px;\n",
              "    }\n",
              "\n",
              "    .colab-df-convert:hover {\n",
              "      background-color: #E2EBFA;\n",
              "      box-shadow: 0px 1px 2px rgba(60, 64, 67, 0.3), 0px 1px 3px 1px rgba(60, 64, 67, 0.15);\n",
              "      fill: #174EA6;\n",
              "    }\n",
              "\n",
              "    .colab-df-buttons div {\n",
              "      margin-bottom: 4px;\n",
              "    }\n",
              "\n",
              "    [theme=dark] .colab-df-convert {\n",
              "      background-color: #3B4455;\n",
              "      fill: #D2E3FC;\n",
              "    }\n",
              "\n",
              "    [theme=dark] .colab-df-convert:hover {\n",
              "      background-color: #434B5C;\n",
              "      box-shadow: 0px 1px 3px 1px rgba(0, 0, 0, 0.15);\n",
              "      filter: drop-shadow(0px 1px 2px rgba(0, 0, 0, 0.3));\n",
              "      fill: #FFFFFF;\n",
              "    }\n",
              "  </style>\n",
              "\n",
              "    <script>\n",
              "      const buttonEl =\n",
              "        document.querySelector('#df-51adfcbc-f027-4cef-933c-89337e125e59 button.colab-df-convert');\n",
              "      buttonEl.style.display =\n",
              "        google.colab.kernel.accessAllowed ? 'block' : 'none';\n",
              "\n",
              "      async function convertToInteractive(key) {\n",
              "        const element = document.querySelector('#df-51adfcbc-f027-4cef-933c-89337e125e59');\n",
              "        const dataTable =\n",
              "          await google.colab.kernel.invokeFunction('convertToInteractive',\n",
              "                                                    [key], {});\n",
              "        if (!dataTable) return;\n",
              "\n",
              "        const docLinkHtml = 'Like what you see? Visit the ' +\n",
              "          '<a target=\"_blank\" href=https://colab.research.google.com/notebooks/data_table.ipynb>data table notebook</a>'\n",
              "          + ' to learn more about interactive tables.';\n",
              "        element.innerHTML = '';\n",
              "        dataTable['output_type'] = 'display_data';\n",
              "        await google.colab.output.renderOutput(dataTable, element);\n",
              "        const docLink = document.createElement('div');\n",
              "        docLink.innerHTML = docLinkHtml;\n",
              "        element.appendChild(docLink);\n",
              "      }\n",
              "    </script>\n",
              "  </div>\n",
              "\n",
              "\n",
              "    <div id=\"df-e4e5a7c2-18aa-4663-a298-9ece6be99c6b\">\n",
              "      <button class=\"colab-df-quickchart\" onclick=\"quickchart('df-e4e5a7c2-18aa-4663-a298-9ece6be99c6b')\"\n",
              "                title=\"Suggest charts\"\n",
              "                style=\"display:none;\">\n",
              "\n",
              "<svg xmlns=\"http://www.w3.org/2000/svg\" height=\"24px\"viewBox=\"0 0 24 24\"\n",
              "     width=\"24px\">\n",
              "    <g>\n",
              "        <path d=\"M19 3H5c-1.1 0-2 .9-2 2v14c0 1.1.9 2 2 2h14c1.1 0 2-.9 2-2V5c0-1.1-.9-2-2-2zM9 17H7v-7h2v7zm4 0h-2V7h2v10zm4 0h-2v-4h2v4z\"/>\n",
              "    </g>\n",
              "</svg>\n",
              "      </button>\n",
              "\n",
              "<style>\n",
              "  .colab-df-quickchart {\n",
              "      --bg-color: #E8F0FE;\n",
              "      --fill-color: #1967D2;\n",
              "      --hover-bg-color: #E2EBFA;\n",
              "      --hover-fill-color: #174EA6;\n",
              "      --disabled-fill-color: #AAA;\n",
              "      --disabled-bg-color: #DDD;\n",
              "  }\n",
              "\n",
              "  [theme=dark] .colab-df-quickchart {\n",
              "      --bg-color: #3B4455;\n",
              "      --fill-color: #D2E3FC;\n",
              "      --hover-bg-color: #434B5C;\n",
              "      --hover-fill-color: #FFFFFF;\n",
              "      --disabled-bg-color: #3B4455;\n",
              "      --disabled-fill-color: #666;\n",
              "  }\n",
              "\n",
              "  .colab-df-quickchart {\n",
              "    background-color: var(--bg-color);\n",
              "    border: none;\n",
              "    border-radius: 50%;\n",
              "    cursor: pointer;\n",
              "    display: none;\n",
              "    fill: var(--fill-color);\n",
              "    height: 32px;\n",
              "    padding: 0;\n",
              "    width: 32px;\n",
              "  }\n",
              "\n",
              "  .colab-df-quickchart:hover {\n",
              "    background-color: var(--hover-bg-color);\n",
              "    box-shadow: 0 1px 2px rgba(60, 64, 67, 0.3), 0 1px 3px 1px rgba(60, 64, 67, 0.15);\n",
              "    fill: var(--button-hover-fill-color);\n",
              "  }\n",
              "\n",
              "  .colab-df-quickchart-complete:disabled,\n",
              "  .colab-df-quickchart-complete:disabled:hover {\n",
              "    background-color: var(--disabled-bg-color);\n",
              "    fill: var(--disabled-fill-color);\n",
              "    box-shadow: none;\n",
              "  }\n",
              "\n",
              "  .colab-df-spinner {\n",
              "    border: 2px solid var(--fill-color);\n",
              "    border-color: transparent;\n",
              "    border-bottom-color: var(--fill-color);\n",
              "    animation:\n",
              "      spin 1s steps(1) infinite;\n",
              "  }\n",
              "\n",
              "  @keyframes spin {\n",
              "    0% {\n",
              "      border-color: transparent;\n",
              "      border-bottom-color: var(--fill-color);\n",
              "      border-left-color: var(--fill-color);\n",
              "    }\n",
              "    20% {\n",
              "      border-color: transparent;\n",
              "      border-left-color: var(--fill-color);\n",
              "      border-top-color: var(--fill-color);\n",
              "    }\n",
              "    30% {\n",
              "      border-color: transparent;\n",
              "      border-left-color: var(--fill-color);\n",
              "      border-top-color: var(--fill-color);\n",
              "      border-right-color: var(--fill-color);\n",
              "    }\n",
              "    40% {\n",
              "      border-color: transparent;\n",
              "      border-right-color: var(--fill-color);\n",
              "      border-top-color: var(--fill-color);\n",
              "    }\n",
              "    60% {\n",
              "      border-color: transparent;\n",
              "      border-right-color: var(--fill-color);\n",
              "    }\n",
              "    80% {\n",
              "      border-color: transparent;\n",
              "      border-right-color: var(--fill-color);\n",
              "      border-bottom-color: var(--fill-color);\n",
              "    }\n",
              "    90% {\n",
              "      border-color: transparent;\n",
              "      border-bottom-color: var(--fill-color);\n",
              "    }\n",
              "  }\n",
              "</style>\n",
              "\n",
              "      <script>\n",
              "        async function quickchart(key) {\n",
              "          const quickchartButtonEl =\n",
              "            document.querySelector('#' + key + ' button');\n",
              "          quickchartButtonEl.disabled = true;  // To prevent multiple clicks.\n",
              "          quickchartButtonEl.classList.add('colab-df-spinner');\n",
              "          try {\n",
              "            const charts = await google.colab.kernel.invokeFunction(\n",
              "                'suggestCharts', [key], {});\n",
              "          } catch (error) {\n",
              "            console.error('Error during call to suggestCharts:', error);\n",
              "          }\n",
              "          quickchartButtonEl.classList.remove('colab-df-spinner');\n",
              "          quickchartButtonEl.classList.add('colab-df-quickchart-complete');\n",
              "        }\n",
              "        (() => {\n",
              "          let quickchartButtonEl =\n",
              "            document.querySelector('#df-e4e5a7c2-18aa-4663-a298-9ece6be99c6b button');\n",
              "          quickchartButtonEl.style.display =\n",
              "            google.colab.kernel.accessAllowed ? 'block' : 'none';\n",
              "        })();\n",
              "      </script>\n",
              "    </div>\n",
              "\n",
              "  <div id=\"id_c29ee853-0de1-44ce-9282-a89f98f972d1\">\n",
              "    <style>\n",
              "      .colab-df-generate {\n",
              "        background-color: #E8F0FE;\n",
              "        border: none;\n",
              "        border-radius: 50%;\n",
              "        cursor: pointer;\n",
              "        display: none;\n",
              "        fill: #1967D2;\n",
              "        height: 32px;\n",
              "        padding: 0 0 0 0;\n",
              "        width: 32px;\n",
              "      }\n",
              "\n",
              "      .colab-df-generate:hover {\n",
              "        background-color: #E2EBFA;\n",
              "        box-shadow: 0px 1px 2px rgba(60, 64, 67, 0.3), 0px 1px 3px 1px rgba(60, 64, 67, 0.15);\n",
              "        fill: #174EA6;\n",
              "      }\n",
              "\n",
              "      [theme=dark] .colab-df-generate {\n",
              "        background-color: #3B4455;\n",
              "        fill: #D2E3FC;\n",
              "      }\n",
              "\n",
              "      [theme=dark] .colab-df-generate:hover {\n",
              "        background-color: #434B5C;\n",
              "        box-shadow: 0px 1px 3px 1px rgba(0, 0, 0, 0.15);\n",
              "        filter: drop-shadow(0px 1px 2px rgba(0, 0, 0, 0.3));\n",
              "        fill: #FFFFFF;\n",
              "      }\n",
              "    </style>\n",
              "    <button class=\"colab-df-generate\" onclick=\"generateWithVariable('df_missing')\"\n",
              "            title=\"Generate code using this dataframe.\"\n",
              "            style=\"display:none;\">\n",
              "\n",
              "  <svg xmlns=\"http://www.w3.org/2000/svg\" height=\"24px\"viewBox=\"0 0 24 24\"\n",
              "       width=\"24px\">\n",
              "    <path d=\"M7,19H8.4L18.45,9,17,7.55,7,17.6ZM5,21V16.75L18.45,3.32a2,2,0,0,1,2.83,0l1.4,1.43a1.91,1.91,0,0,1,.58,1.4,1.91,1.91,0,0,1-.58,1.4L9.25,21ZM18.45,9,17,7.55Zm-12,3A5.31,5.31,0,0,0,4.9,8.1,5.31,5.31,0,0,0,1,6.5,5.31,5.31,0,0,0,4.9,4.9,5.31,5.31,0,0,0,6.5,1,5.31,5.31,0,0,0,8.1,4.9,5.31,5.31,0,0,0,12,6.5,5.46,5.46,0,0,0,6.5,12Z\"/>\n",
              "  </svg>\n",
              "    </button>\n",
              "    <script>\n",
              "      (() => {\n",
              "      const buttonEl =\n",
              "        document.querySelector('#id_c29ee853-0de1-44ce-9282-a89f98f972d1 button.colab-df-generate');\n",
              "      buttonEl.style.display =\n",
              "        google.colab.kernel.accessAllowed ? 'block' : 'none';\n",
              "\n",
              "      buttonEl.onclick = () => {\n",
              "        google.colab.notebook.generateWithVariable('df_missing');\n",
              "      }\n",
              "      })();\n",
              "    </script>\n",
              "  </div>\n",
              "\n",
              "    </div>\n",
              "  </div>\n"
            ],
            "application/vnd.google.colaboratory.intrinsic+json": {
              "type": "dataframe",
              "variable_name": "df_missing",
              "summary": "{\n  \"name\": \"df_missing\",\n  \"rows\": 3,\n  \"fields\": [\n    {\n      \"column\": \"nulos\",\n      \"properties\": {\n        \"dtype\": \"number\",\n        \"std\": 600,\n        \"min\": 527,\n        \"max\": 1682,\n        \"num_unique_values\": 3,\n        \"samples\": [\n          1682,\n          822,\n          527\n        ],\n        \"semantic_type\": \"\",\n        \"description\": \"\"\n      }\n    },\n    {\n      \"column\": \"pct_nulos\",\n      \"properties\": {\n        \"dtype\": \"number\",\n        \"std\": 14.288461545363562,\n        \"min\": 12.55,\n        \"max\": 40.05,\n        \"num_unique_values\": 3,\n        \"samples\": [\n          40.05,\n          19.57,\n          12.55\n        ],\n        \"semantic_type\": \"\",\n        \"description\": \"\"\n      }\n    }\n  ]\n}"
            }
          },
          "metadata": {}
        }
      ]
    },
    {
      "cell_type": "code",
      "source": [
        "print(\"Cantidad total de filas:\", df.shape[0])\n",
        "print(\"Cantidad de filas sin ningún nulo:\", df.dropna().shape[0])\n",
        "print(\"Porcentaje de filas que conservarías:\", round(100 * df.dropna().shape[0] / df.shape[0], 2), \"%\")"
      ],
      "metadata": {
        "id": "L6gwfNkXcQqO",
        "outputId": "381c499a-4936-4f04-bc59-f2b591ebac09",
        "colab": {
          "base_uri": "https://localhost:8080/"
        }
      },
      "execution_count": 40,
      "outputs": [
        {
          "output_type": "stream",
          "name": "stdout",
          "text": [
            "Cantidad total de filas: 4200\n",
            "Cantidad de filas sin ningún nulo: 1829\n",
            "Porcentaje de filas que conservarías: 43.55 %\n"
          ]
        }
      ]
    },
    {
      "cell_type": "markdown",
      "source": [
        "Evaluamos la posibilidad de imputar los nulos y vemos que no es viable. Por lo tanto decidimos imputar de la sigueinte manera:\n",
        "*   Edad y LVL: imputación con mediana.\n",
        "*   Genero: imputación con el valor más frecuente."
      ],
      "metadata": {
        "id": "tbIRaMXQcYwW"
      }
    },
    {
      "cell_type": "markdown",
      "source": [
        "### Balance de clases\n",
        "Vemos si la clase “1” (virus) es minoritaria. Dado que se pide “atrapar” el mayor número posible de 1, es probable que enfrentemos un desequilibrio de clases (por ejemplo, muchos ceros y pocos unos).\n",
        "\n",
        "Esto implica usar estrategias para corregir el sesgo: ajustar class_weight en algunos clasificadores, usar muestreo estratificado, o técnicas de oversampling (SMOTE, etc.)—aunque en un entorno de producción hay que tener cuidado con overfitting."
      ],
      "metadata": {
        "id": "Mj10vTyTzoNI"
      }
    },
    {
      "cell_type": "code",
      "source": [
        "class_counts = df.target.value_counts()\n",
        "print(\"Recuento absoluto por clase: \", class_counts)\n",
        "print(\"\\nPorcentaje por clase: \", (class_counts / len(df.target) * 100).round(2))\n",
        "\n",
        "sns.countplot(x='target', data=df, hue='target', legend=False)"
      ],
      "metadata": {
        "colab": {
          "base_uri": "https://localhost:8080/",
          "height": 623
        },
        "id": "LFk7NRfWzrsc",
        "outputId": "a859bc2f-9a7c-4bb1-f211-cefb3af6ce67"
      },
      "execution_count": 42,
      "outputs": [
        {
          "output_type": "stream",
          "name": "stdout",
          "text": [
            "Recuento absoluto por clase:  target\n",
            "0    2493\n",
            "1    1707\n",
            "Name: count, dtype: int64\n",
            "\n",
            "Porcentaje por clase:  target\n",
            "0    59.36\n",
            "1    40.64\n",
            "Name: count, dtype: float64\n"
          ]
        },
        {
          "output_type": "execute_result",
          "data": {
            "text/plain": [
              "<Axes: xlabel='target', ylabel='count'>"
            ]
          },
          "metadata": {},
          "execution_count": 42
        },
        {
          "output_type": "display_data",
          "data": {
            "text/plain": [
              "<Figure size 640x480 with 1 Axes>"
            ],
            "image/png": "[encoded data removed]"
          },
          "metadata": {}
        }
      ]
    },
    {
      "cell_type": "markdown",
      "source": [
        "### Estadísticas descriptivas de variables numéricas\n",
        "Con describe() obtenemos media, desviación, cuartiles, mínimos y máximos.\n",
        "\n",
        "El boxplot nos ayuda a identificar valores atípicos que podrían requerir imputación especial o truncamiento (capping)."
      ],
      "metadata": {
        "id": "tuYMUgMW0GIL"
      }
    },
    {
      "cell_type": "code",
      "source": [
        "# Variables numéricas\n",
        "num_vars = df.select_dtypes(include=[\"int64\", \"float64\"]).columns\n",
        "\n",
        "# Boxplots individuales\n",
        "for col in num_vars:\n",
        "    plt.figure(figsize=(8, 1.5))\n",
        "    sns.boxplot(x=df[col], color=\"skyblue\", orient=\"h\")\n",
        "    plt.title(f\"Boxplot de '{col}'\")\n",
        "    plt.xlabel(col)\n",
        "    plt.tight_layout()\n",
        "    plt.show()"
      ],
      "metadata": {
        "colab": {
          "base_uri": "https://localhost:8080/",
          "height": 1000
        },
        "id": "FMD19AC70NYN",
        "outputId": "93b320f3-0fd4-4cfc-db8a-3b734d980b26"
      },
      "execution_count": 43,
      "outputs": [
        {
          "output_type": "display_data",
          "data": {
            "text/plain": [
              "<Figure size 800x150 with 1 Axes>"
            ],
            "image/png": "[encoded data removed]"
          },
          "metadata": {}
        },
        {
          "output_type": "display_data",
          "data": {
            "text/plain": [
              "<Figure size 800x150 with 1 Axes>"
            ],
            "image/png": "[encoded data removed]"
          },
          "metadata": {}
        },
        {
          "output_type": "display_data",
          "data": {
            "text/plain": [
              "<Figure size 800x150 with 1 Axes>"
            ],
            "image/png": "[encoded data removed]"
          },
          "metadata": {}
        },
        {
          "output_type": "display_data",
          "data": {
            "text/plain": [
              "<Figure size 800x150 with 1 Axes>"
            ],
            "image/png": "[encoded data removed]"
          },
          "metadata": {}
        },
        {
          "output_type": "display_data",
          "data": {
            "text/plain": [
              "<Figure size 800x150 with 1 Axes>"
            ],
            "image/png": "[encoded data removed]"
          },
          "metadata": {}
        },
        {
          "output_type": "display_data",
          "data": {
            "text/plain": [
              "<Figure size 800x150 with 1 Axes>"
            ],
            "image/png": "[encoded data removed]"
          },
          "metadata": {}
        },
        {
          "output_type": "display_data",
          "data": {
            "text/plain": [
              "<Figure size 800x150 with 1 Axes>"
            ],
            "image/png": "[encoded data removed]"
          },
          "metadata": {}
        },
        {
          "output_type": "display_data",
          "data": {
            "text/plain": [
              "<Figure size 800x150 with 1 Axes>"
            ],
            "image/png": "[encoded data removed]"
          },
          "metadata": {}
        },
        {
          "output_type": "display_data",
          "data": {
            "text/plain": [
              "<Figure size 800x150 with 1 Axes>"
            ],
            "image/png": "[encoded data removed]"
          },
          "metadata": {}
        },
        {
          "output_type": "display_data",
          "data": {
            "text/plain": [
              "<Figure size 800x150 with 1 Axes>"
            ],
            "image/png": "[encoded data removed]"
          },
          "metadata": {}
        },
        {
          "output_type": "display_data",
          "data": {
            "text/plain": [
              "<Figure size 800x150 with 1 Axes>"
            ],
            "image/png": "[encoded data removed]"
          },
          "metadata": {}
        },
        {
          "output_type": "display_data",
          "data": {
            "text/plain": [
              "<Figure size 800x150 with 1 Axes>"
            ],
            "image/png": "[encoded data removed]"
          },
          "metadata": {}
        },
        {
          "output_type": "display_data",
          "data": {
            "text/plain": [
              "<Figure size 800x150 with 1 Axes>"
            ],
            "image/png": "[encoded data removed]"
          },
          "metadata": {}
        }
      ]
    },
    {
      "cell_type": "markdown",
      "source": [
        "### Correlaciones entre variables numéricas y con el target\n",
        "Vemos qué variables numéricas tienen mayor relación lineal con la clase “1”.\n",
        "\n",
        "Si detectamos variables muy correlacionadas entre sí (por ejemplo, > 0.9), podríamos descartar una para evitar redundancia."
      ],
      "metadata": {
        "id": "MsnGFh4r0W_a"
      }
    },
    {
      "cell_type": "code",
      "source": [
        "mat = df.select_dtypes(include=['int', 'float']).corr()\n",
        "\n",
        "# Correlación de todas las variables numéricas con target\n",
        "corr_target = mat.corr()[\"target\"].abs().sort_values(ascending=False).drop(\"target\")\n",
        "\n",
        "print(\"Correlación ABSOLUTA de variables numéricas con target (de mayor a menor):\")\n",
        "display(corr_target)\n",
        "\n",
        "# Heatmap de correlaciones entre variables numéricas\n",
        "fig, ax = plt.subplots(figsize=(10,7))\n",
        "sns.heatmap(mat, annot=True, cmap='coolwarm', fmt=\".2f\",  ax=ax)\n",
        "plt.title('Matriz de Correlación')\n",
        "plt.show()"
      ],
      "metadata": {
        "colab": {
          "base_uri": "https://localhost:8080/",
          "height": 1000
        },
        "id": "VF7UUrHgQDWp",
        "outputId": "b6796da8-6223-49f2-bf1b-90c11ef68817"
      },
      "execution_count": 60,
      "outputs": [
        {
          "output_type": "stream",
          "name": "stdout",
          "text": [
            "Correlación ABSOLUTA de variables numéricas con target (de mayor a menor):\n"
          ]
        },
        {
          "output_type": "display_data",
          "data": {
            "text/plain": [
              "Peso     0.561041\n",
              "Edad     0.308114\n",
              "hijos    0.287858\n",
              "LVL      0.103897\n",
              "REC4     0.103096\n",
              "REC1     0.068830\n",
              "REC2     0.049570\n",
              "REC3     0.046991\n",
              "BLD02    0.010093\n",
              "REC5     0.005413\n",
              "BLD03    0.003261\n",
              "BLD01    0.000250\n",
              "Name: target, dtype: float64"
            ],
            "text/html": [
              "<div>\n",
              "<style scoped>\n",
              "    .dataframe tbody tr th:only-of-type {\n",
              "        vertical-align: middle;\n",
              "    }\n",
              "\n",
              "    .dataframe tbody tr th {\n",
              "        vertical-align: top;\n",
              "    }\n",
              "\n",
              "    .dataframe thead th {\n",
              "        text-align: right;\n",
              "    }\n",
              "</style>\n",
              "<table border=\"1\" class=\"dataframe\">\n",
              "  <thead>\n",
              "    <tr style=\"text-align: right;\">\n",
              "      <th></th>\n",
              "      <th>target</th>\n",
              "    </tr>\n",
              "  </thead>\n",
              "  <tbody>\n",
              "    <tr>\n",
              "      <th>Peso</th>\n",
              "      <td>0.561041</td>\n",
              "    </tr>\n",
              "    <tr>\n",
              "      <th>Edad</th>\n",
              "      <td>0.308114</td>\n",
              "    </tr>\n",
              "    <tr>\n",
              "      <th>hijos</th>\n",
              "      <td>0.287858</td>\n",
              "    </tr>\n",
              "    <tr>\n",
              "      <th>LVL</th>\n",
              "      <td>0.103897</td>\n",
              "    </tr>\n",
              "    <tr>\n",
              "      <th>REC4</th>\n",
              "      <td>0.103096</td>\n",
              "    </tr>\n",
              "    <tr>\n",
              "      <th>REC1</th>\n",
              "      <td>0.068830</td>\n",
              "    </tr>\n",
              "    <tr>\n",
              "      <th>REC2</th>\n",
              "      <td>0.049570</td>\n",
              "    </tr>\n",
              "    <tr>\n",
              "      <th>REC3</th>\n",
              "      <td>0.046991</td>\n",
              "    </tr>\n",
              "    <tr>\n",
              "      <th>BLD02</th>\n",
              "      <td>0.010093</td>\n",
              "    </tr>\n",
              "    <tr>\n",
              "      <th>REC5</th>\n",
              "      <td>0.005413</td>\n",
              "    </tr>\n",
              "    <tr>\n",
              "      <th>BLD03</th>\n",
              "      <td>0.003261</td>\n",
              "    </tr>\n",
              "    <tr>\n",
              "      <th>BLD01</th>\n",
              "      <td>0.000250</td>\n",
              "    </tr>\n",
              "  </tbody>\n",
              "</table>\n",
              "</div><br><label><b>dtype:</b> float64</label>"
            ]
          },
          "metadata": {}
        },
        {
          "output_type": "display_data",
          "data": {
            "text/plain": [
              "<Figure size 1000x700 with 2 Axes>"
            ],
            "image/png": "[encoded data removed]"
          },
          "metadata": {}
        }
      ]
    },
    {
      "cell_type": "markdown",
      "source": [
        "## Preprocesamiento y pipeline básico\n",
        "En esta sección preparamos las transformaciones que harán falta sobre los datos. La idea es usar un `ColumnTransformer` para separar transformaciones de variables numéricas y categóricas, y luego un pipeline final que contenga:\n",
        "\n",
        "    1. Imputación (por ejemplo, media/mediana para numéricas; valor más frecuente para categóricas).\n",
        "\n",
        "    2. Escalado (solo para variables numéricas).\n",
        "\n",
        "    3. Codificación (One-Hot) para variables categóricas.\n",
        "\n",
        "    4. Classifier (LogisticRegression, RandomForest, XGBoost, etc.)."
      ],
      "metadata": {
        "id": "b8tfqMh60pce"
      }
    },
    {
      "cell_type": "markdown",
      "source": [
        "### Identificar variables numéricas vs categóricas\n",
        "Guardamos en listas los nombres de columnas numéricas (num_features) y categóricas (cat_features).\n",
        "\n",
        "Más adelante las usamos en el ColumnTransformer."
      ],
      "metadata": {
        "id": "uH4sG7_N0_it"
      }
    },
    {
      "cell_type": "code",
      "source": [
        "# Partición para simular producción: 70% para entrenamiento, 30% para evaluación “desarrollador”\n",
        "df_train, df_eval = train_test_split(df, test_size=0.30, stratify=df[\"target\"], random_state=SEED)\n",
        "\n",
        "X = df.drop(columns=\"target\")\n",
        "y = df[\"target\"]\n",
        "X_train, X_test, y_train, y_test = train_test_split(X, y, test_size=0.3, stratify = y, random_state=42)"
      ],
      "metadata": {
        "id": "Qxy4mv77aTaa"
      },
      "execution_count": 79,
      "outputs": []
    },
    {
      "cell_type": "code",
      "source": [
        "num_features = X.select_dtypes(include=[\"int64\",\"float64\"]).columns.tolist()\n",
        "cat_features = X.select_dtypes(include=[\"object\",\"category\"]).columns.tolist()\n",
        "\n",
        "print(\"Variables numéricas:\", num_features)\n",
        "print(\"Variables categóricas:\", cat_features)"
      ],
      "metadata": {
        "colab": {
          "base_uri": "https://localhost:8080/"
        },
        "id": "ugrxqKt61Fve",
        "outputId": "a60f190c-fabe-438c-a7be-4d0a10deed1c"
      },
      "execution_count": 89,
      "outputs": [
        {
          "output_type": "stream",
          "name": "stdout",
          "text": [
            "Variables numéricas: ['Edad', 'Peso', 'hijos', 'BLD01', 'REC1', 'REC2', 'REC3', 'REC4', 'REC5', 'BLD02', 'BLD03', 'LVL']\n",
            "Variables categóricas: ['Genero', 'Laboral']\n"
          ]
        }
      ]
    },
    {
      "cell_type": "markdown",
      "source": [
        "### Definir transformaciones para numéricas y categóricas\n",
        "**Imputación:**\n",
        "\n",
        "    Numéricas → mediana (más robusta frente a outliers).\n",
        "\n",
        "    Categóricas → la categoría más frecuente.\n",
        "\n",
        "Se realiza también la imputación de nulos en Edad, LVL y Genero.\n",
        "\n",
        "**Escalado:** StandardScaler para centrar en 0 y desviación 1.\n",
        "\n",
        "**OneHotEncoder:** codifica variables categóricas, ignorando categorías nuevas durante la inferencia (handle_unknown=\"ignore\"). Si una variable categórica fuera binaria (solo dos categorías), drop='if_binary' elimina una de ellas para no generar variables linealmente dependientes.\n",
        "\n",
        "Luego el ColumnTransformer aplicará cada pipeline solo a sus variables correspondientes."
      ],
      "metadata": {
        "id": "TnwOpCz21R1m"
      }
    },
    {
      "cell_type": "code",
      "source": [
        "# Para variables numéricas: imputar (mediana si hay outliers), luego escalar (StandardScaler)\n",
        "numeric_transformer = Pipeline(steps=[\n",
        "    (\"imputer\", SimpleImputer(strategy=\"median\")),   # si hay outliers, mediana es más robusta // Nulls en Edad y LVL → se imputan con mediana\n",
        "    (\"scaler\", StandardScaler())\n",
        "])\n",
        "\n",
        "# Para variables categóricas: imputar la categoría más frecuente, luego OneHotEncoder (drop='if_binary' para evitar multicolinealidad)\n",
        "categorical_transformer = Pipeline(steps=[\n",
        "    (\"imputer\", SimpleImputer(strategy=\"most_frequent\")), # Nulls en Genero → se imputan con valor más frecuente\n",
        "    (\"onehot\", OneHotEncoder(handle_unknown=\"ignore\", drop=\"if_binary\"))\n",
        "])\n",
        "\n",
        "# ColumnTransformer para aplicar cada pipeline a las columnas correspondientes\n",
        "preprocessor = ColumnTransformer(transformers=[\n",
        "    (\"num\", numeric_transformer, num_features),\n",
        "    (\"cat\", categorical_transformer, cat_features)\n",
        "])"
      ],
      "metadata": {
        "id": "90lPs0a-1Xwz"
      },
      "execution_count": 83,
      "outputs": []
    },
    {
      "cell_type": "markdown",
      "source": [
        "## Selección de métrica y estrategia de validación\n",
        "Dado que queremos “atrapar” la mayor cantidad posible de positivos (clase 1) y al mismo tiempo minimizar falsos positivos, conviene centrarse en:\n",
        "\n",
        "    Recall de la clase 1 (para no dejar pasar casos con virus).\n",
        "\n",
        "    Precision de la clase 1 (para no marear con tratamientos invasivos a gente sana).\n",
        "\n",
        "    O bien una métrica que combine ambos (por ejemplo, F1-score de la clase 1).\n",
        "\n",
        "Elegimos el F1-Score para la clase positiva ya que balancea precisión y recall, ayudando a detectar la mayor cantidad de casos reales sin generar muchos falsos positivos, lo cual es clave dado que el tratamiento es invasivo pero la gravedad del virus es moderada."
      ],
      "metadata": {
        "id": "LyzCTbDL11es"
      }
    },
    {
      "cell_type": "markdown",
      "source": [
        "### Definición de scorer personalizado (F1 solo para la clase 1)\n",
        "make_scorer(f1_score, pos_label=1) nos devuelve un objeto que calcula el F1-score exclusivamente para la clase “1”.\n",
        "\n",
        "Durante el GridSearchCV, podremos usar este scorer para optimizar hiperparámetros que maximicen F1 en la detección de virus."
      ],
      "metadata": {
        "id": "MbllYGQW19np"
      }
    },
    {
      "cell_type": "code",
      "source": [
        "f1_class1 = make_scorer(f1_score, pos_label=1)"
      ],
      "metadata": {
        "id": "T9lybeoY2Bsn"
      },
      "execution_count": 84,
      "outputs": []
    },
    {
      "cell_type": "markdown",
      "source": [
        "### Definición de validación cruzada estratificada\n",
        "Usamos validación cruzada estratificada con 5 pliegues, para mantener la proporción de cada clase en cada fold.\n",
        "\n",
        "shuffle=True asegura que las muestras se mezclen antes del split; random_state=SEED hace reproducible la división."
      ],
      "metadata": {
        "id": "161e43Od2LPP"
      }
    },
    {
      "cell_type": "code",
      "source": [
        "cv = StratifiedKFold(n_splits=5, shuffle=True, random_state=SEED) #42"
      ],
      "metadata": {
        "id": "knc-mHRn2O42"
      },
      "execution_count": 85,
      "outputs": []
    },
    {
      "cell_type": "markdown",
      "source": [
        "## Búsqueda de hiperparámetros (GridSearchCV)\n",
        "Establecemos un pipeline “genérico” donde probamos diferentes clasificadores de los distintos modelos."
      ],
      "metadata": {
        "id": "x1tXxPuv2W94"
      }
    },
    {
      "cell_type": "code",
      "source": [
        "# Configuración de pipelines y parámetros para cada modelo\n",
        "models_and_params = {\n",
        "    \"KNN\": {\n",
        "        \"model\": KNeighborsClassifier(),\n",
        "        \"params\": {\n",
        "            \"clf__n_neighbors\": [3, 5, 7],\n",
        "            \"clf__weights\": [\"uniform\", \"distance\"]\n",
        "        }\n",
        "    },\n",
        "    \"RandomForest\": {\n",
        "        \"model\": RandomForestClassifier(random_state=42),\n",
        "        \"params\": {\n",
        "            \"clf__n_estimators\": [100, 200],\n",
        "            \"clf__max_depth\": [None, 10],\n",
        "            \"clf__class_weight\": [\"balanced\", \"balanced_subsample\"]\n",
        "        }\n",
        "    },\n",
        "    \"NaiveBayes\": {\n",
        "        \"model\": GaussianNB(),\n",
        "        \"params\": {\n",
        "            # GaussianNB apenas requiere ajustar var_smoothing\n",
        "            \"clf__var_smoothing\": [1e-9, 1e-8, 1e-7]\n",
        "        }\n",
        "    },\n",
        "    \"DecisionTree\": {\n",
        "        \"model\": DecisionTreeClassifier(random_state=42),\n",
        "        \"params\": {\n",
        "            \"clf__max_depth\": [None, 10, 20],\n",
        "            \"clf__min_samples_split\": [2, 5],\n",
        "            \"clf__class_weight\": [\"balanced\", None]\n",
        "        }\n",
        "    },\n",
        "    \"LogisticRegression\": {\n",
        "        \"model\": LogisticRegression(random_state=42, solver=\"liblinear\", max_iter=1000),\n",
        "        \"params\": {\n",
        "            \"clf__penalty\": [\"l1\", \"l2\"],\n",
        "            \"clf__C\": [0.1, 1, 10],\n",
        "            \"clf__class_weight\": [\"balanced\", None]\n",
        "        }\n",
        "    }\n",
        "}"
      ],
      "metadata": {
        "id": "WYPO319bi6Hy"
      },
      "execution_count": 86,
      "outputs": []
    },
    {
      "cell_type": "code",
      "source": [
        "# Para cada clasificador: se arma un Pipeline, se hace GridSearchCV y guardan los resultados\n",
        "best_grids = {}\n",
        "results = []\n",
        "\n",
        "for name, mp in models_and_params.items():\n",
        "    pipe = Pipeline(steps=[\n",
        "        (\"preprocessor\", preprocessor),\n",
        "        (\"clf\", mp[\"model\"])\n",
        "    ])\n",
        "\n",
        "    grid = GridSearchCV(\n",
        "        estimator=pipe,\n",
        "        param_grid=mp[\"params\"],\n",
        "        scoring=f1_class1,\n",
        "        cv=cv,\n",
        "        n_jobs=-1,\n",
        "        verbose=1\n",
        "    )\n",
        "\n",
        "    print(f\"\\n--- Ajustando {name} ---\")\n",
        "    grid.fit(X_train, y_train)\n",
        "\n",
        "    print(f\"Mejores parámetros para {name}: {grid.best_params_}\")\n",
        "    print(f\"Mejor F1 (clase 1) para {name}: {grid.best_score_:.4f}\\n\")\n",
        "\n",
        "    results.append({\n",
        "        \"Modelo\": name,\n",
        "        \"Best_F1_1\": grid.best_score_,\n",
        "        \"Best_Params\": grid.best_params_\n",
        "    })\n",
        "\n",
        "    # Guardamos el GridSearch para ese modelo\n",
        "    best_grids[name] = grid"
      ],
      "metadata": {
        "id": "hSfHaN7vjAva",
        "outputId": "4e03cc99-9607-49ba-b29f-3280a38d6738",
        "colab": {
          "base_uri": "https://localhost:8080/"
        }
      },
      "execution_count": 94,
      "outputs": [
        {
          "output_type": "stream",
          "name": "stdout",
          "text": [
            "\n",
            "--- Ajustando KNN ---\n",
            "Fitting 5 folds for each of 6 candidates, totalling 30 fits\n",
            "Mejores parámetros para KNN: {'clf__n_neighbors': 7, 'clf__weights': 'distance'}\n",
            "Mejor F1 (clase 1) para KNN: 0.6263\n",
            "\n",
            "\n",
            "--- Ajustando RandomForest ---\n",
            "Fitting 5 folds for each of 8 candidates, totalling 40 fits\n",
            "Mejores parámetros para RandomForest: {'clf__class_weight': 'balanced_subsample', 'clf__max_depth': 10, 'clf__n_estimators': 200}\n",
            "Mejor F1 (clase 1) para RandomForest: 0.7275\n",
            "\n",
            "\n",
            "--- Ajustando NaiveBayes ---\n",
            "Fitting 5 folds for each of 3 candidates, totalling 15 fits\n",
            "Mejores parámetros para NaiveBayes: {'clf__var_smoothing': 1e-09}\n",
            "Mejor F1 (clase 1) para NaiveBayes: 0.5717\n",
            "\n",
            "\n",
            "--- Ajustando DecisionTree ---\n",
            "Fitting 5 folds for each of 12 candidates, totalling 60 fits\n",
            "Mejores parámetros para DecisionTree: {'clf__class_weight': None, 'clf__max_depth': 10, 'clf__min_samples_split': 2}\n",
            "Mejor F1 (clase 1) para DecisionTree: 0.6857\n",
            "\n",
            "\n",
            "--- Ajustando LogisticRegression ---\n",
            "Fitting 5 folds for each of 12 candidates, totalling 60 fits\n",
            "Mejores parámetros para LogisticRegression: {'clf__C': 0.1, 'clf__class_weight': None, 'clf__penalty': 'l1'}\n",
            "Mejor F1 (clase 1) para LogisticRegression: 0.6810\n",
            "\n"
          ]
        }
      ]
    },
    {
      "cell_type": "markdown",
      "source": [
        "## Comparación de resultados y elección del mejor modelo\n",
        "Tras ejecutar GridSearchCV, comparamos las mejores puntuaciones (best_score_) de cada uno.\n",
        "\n",
        "Decidimos quedarnos con el modelo que maximice F1 en la clase 1 (que captura mejor el compromiso entre precision y recall para detectar virus).\n",
        "\n",
        "Si hubiera dos modelos con valores muy cercanos, podríamos comparar sus curvas de precision-recall o incluso medir roc_auc_score."
      ],
      "metadata": {
        "id": "vYWyAAUp3A68"
      }
    },
    {
      "cell_type": "code",
      "source": [
        "results_df = pd.DataFrame(results).sort_values(by=\"Best_F1_1\", ascending=False)\n",
        "print(\"=== Resumen comparativo de F1 (clase 1) ===\")\n",
        "display(results_df)"
      ],
      "metadata": {
        "colab": {
          "base_uri": "https://localhost:8080/",
          "height": 224
        },
        "id": "TCE41Mhi3STp",
        "outputId": "ef11439c-f231-41ff-bbce-2303b9c95a86"
      },
      "execution_count": 95,
      "outputs": [
        {
          "output_type": "stream",
          "name": "stdout",
          "text": [
            "=== Resumen comparativo de F1 (clase 1) ===\n"
          ]
        },
        {
          "output_type": "display_data",
          "data": {
            "text/plain": [
              "               Modelo  Best_F1_1  \\\n",
              "1        RandomForest   0.727539   \n",
              "3        DecisionTree   0.685716   \n",
              "4  LogisticRegression   0.681004   \n",
              "0                 KNN   0.626258   \n",
              "2          NaiveBayes   0.571747   \n",
              "\n",
              "                                         Best_Params  \n",
              "1  {'clf__class_weight': 'balanced_subsample', 'c...  \n",
              "3  {'clf__class_weight': None, 'clf__max_depth': ...  \n",
              "4  {'clf__C': 0.1, 'clf__class_weight': None, 'cl...  \n",
              "0  {'clf__n_neighbors': 7, 'clf__weights': 'dista...  \n",
              "2                      {'clf__var_smoothing': 1e-09}  "
            ],
            "text/html": [
              "\n",
              "  <div id=\"df-02c5472d-175f-43cb-860f-e7bd41155bfd\" class=\"colab-df-container\">\n",
              "    <div>\n",
              "<style scoped>\n",
              "    .dataframe tbody tr th:only-of-type {\n",
              "        vertical-align: middle;\n",
              "    }\n",
              "\n",
              "    .dataframe tbody tr th {\n",
              "        vertical-align: top;\n",
              "    }\n",
              "\n",
              "    .dataframe thead th {\n",
              "        text-align: right;\n",
              "    }\n",
              "</style>\n",
              "<table border=\"1\" class=\"dataframe\">\n",
              "  <thead>\n",
              "    <tr style=\"text-align: right;\">\n",
              "      <th></th>\n",
              "      <th>Modelo</th>\n",
              "      <th>Best_F1_1</th>\n",
              "      <th>Best_Params</th>\n",
              "    </tr>\n",
              "  </thead>\n",
              "  <tbody>\n",
              "    <tr>\n",
              "      <th>1</th>\n",
              "      <td>RandomForest</td>\n",
              "      <td>0.727539</td>\n",
              "      <td>{'clf__class_weight': 'balanced_subsample', 'c...</td>\n",
              "    </tr>\n",
              "    <tr>\n",
              "      <th>3</th>\n",
              "      <td>DecisionTree</td>\n",
              "      <td>0.685716</td>\n",
              "      <td>{'clf__class_weight': None, 'clf__max_depth': ...</td>\n",
              "    </tr>\n",
              "    <tr>\n",
              "      <th>4</th>\n",
              "      <td>LogisticRegression</td>\n",
              "      <td>0.681004</td>\n",
              "      <td>{'clf__C': 0.1, 'clf__class_weight': None, 'cl...</td>\n",
              "    </tr>\n",
              "    <tr>\n",
              "      <th>0</th>\n",
              "      <td>KNN</td>\n",
              "      <td>0.626258</td>\n",
              "      <td>{'clf__n_neighbors': 7, 'clf__weights': 'dista...</td>\n",
              "    </tr>\n",
              "    <tr>\n",
              "      <th>2</th>\n",
              "      <td>NaiveBayes</td>\n",
              "      <td>0.571747</td>\n",
              "      <td>{'clf__var_smoothing': 1e-09}</td>\n",
              "    </tr>\n",
              "  </tbody>\n",
              "</table>\n",
              "</div>\n",
              "    <div class=\"colab-df-buttons\">\n",
              "\n",
              "  <div class=\"colab-df-container\">\n",
              "    <button class=\"colab-df-convert\" onclick=\"convertToInteractive('df-02c5472d-175f-43cb-860f-e7bd41155bfd')\"\n",
              "            title=\"Convert this dataframe to an interactive table.\"\n",
              "            style=\"display:none;\">\n",
              "\n",
              "  <svg xmlns=\"http://www.w3.org/2000/svg\" height=\"24px\" viewBox=\"0 -960 960 960\">\n",
              "    <path d=\"M120-120v-720h720v720H120Zm60-500h600v-160H180v160Zm220 220h160v-160H400v160Zm0 220h160v-160H400v160ZM180-400h160v-160H180v160Zm440 0h160v-160H620v160ZM180-180h160v-160H180v160Zm440 0h160v-160H620v160Z\"/>\n",
              "  </svg>\n",
              "    </button>\n",
              "\n",
              "  <style>\n",
              "    .colab-df-container {\n",
              "      display:flex;\n",
              "      gap: 12px;\n",
              "    }\n",
              "\n",
              "    .colab-df-convert {\n",
              "      background-color: #E8F0FE;\n",
              "      border: none;\n",
              "      border-radius: 50%;\n",
              "      cursor: pointer;\n",
              "      display: none;\n",
              "      fill: #1967D2;\n",
              "      height: 32px;\n",
              "      padding: 0 0 0 0;\n",
              "      width: 32px;\n",
              "    }\n",
              "\n",
              "    .colab-df-convert:hover {\n",
              "      background-color: #E2EBFA;\n",
              "      box-shadow: 0px 1px 2px rgba(60, 64, 67, 0.3), 0px 1px 3px 1px rgba(60, 64, 67, 0.15);\n",
              "      fill: #174EA6;\n",
              "    }\n",
              "\n",
              "    .colab-df-buttons div {\n",
              "      margin-bottom: 4px;\n",
              "    }\n",
              "\n",
              "    [theme=dark] .colab-df-convert {\n",
              "      background-color: #3B4455;\n",
              "      fill: #D2E3FC;\n",
              "    }\n",
              "\n",
              "    [theme=dark] .colab-df-convert:hover {\n",
              "      background-color: #434B5C;\n",
              "      box-shadow: 0px 1px 3px 1px rgba(0, 0, 0, 0.15);\n",
              "      filter: drop-shadow(0px 1px 2px rgba(0, 0, 0, 0.3));\n",
              "      fill: #FFFFFF;\n",
              "    }\n",
              "  </style>\n",
              "\n",
              "    <script>\n",
              "      const buttonEl =\n",
              "        document.querySelector('#df-02c5472d-175f-43cb-860f-e7bd41155bfd button.colab-df-convert');\n",
              "      buttonEl.style.display =\n",
              "        google.colab.kernel.accessAllowed ? 'block' : 'none';\n",
              "\n",
              "      async function convertToInteractive(key) {\n",
              "        const element = document.querySelector('#df-02c5472d-175f-43cb-860f-e7bd41155bfd');\n",
              "        const dataTable =\n",
              "          await google.colab.kernel.invokeFunction('convertToInteractive',\n",
              "                                                    [key], {});\n",
              "        if (!dataTable) return;\n",
              "\n",
              "        const docLinkHtml = 'Like what you see? Visit the ' +\n",
              "          '<a target=\"_blank\" href=https://colab.research.google.com/notebooks/data_table.ipynb>data table notebook</a>'\n",
              "          + ' to learn more about interactive tables.';\n",
              "        element.innerHTML = '';\n",
              "        dataTable['output_type'] = 'display_data';\n",
              "        await google.colab.output.renderOutput(dataTable, element);\n",
              "        const docLink = document.createElement('div');\n",
              "        docLink.innerHTML = docLinkHtml;\n",
              "        element.appendChild(docLink);\n",
              "      }\n",
              "    </script>\n",
              "  </div>\n",
              "\n",
              "\n",
              "    <div id=\"df-13dd1497-b770-467a-b02d-91bb81a3bd17\">\n",
              "      <button class=\"colab-df-quickchart\" onclick=\"quickchart('df-13dd1497-b770-467a-b02d-91bb81a3bd17')\"\n",
              "                title=\"Suggest charts\"\n",
              "                style=\"display:none;\">\n",
              "\n",
              "<svg xmlns=\"http://www.w3.org/2000/svg\" height=\"24px\"viewBox=\"0 0 24 24\"\n",
              "     width=\"24px\">\n",
              "    <g>\n",
              "        <path d=\"M19 3H5c-1.1 0-2 .9-2 2v14c0 1.1.9 2 2 2h14c1.1 0 2-.9 2-2V5c0-1.1-.9-2-2-2zM9 17H7v-7h2v7zm4 0h-2V7h2v10zm4 0h-2v-4h2v4z\"/>\n",
              "    </g>\n",
              "</svg>\n",
              "      </button>\n",
              "\n",
              "<style>\n",
              "  .colab-df-quickchart {\n",
              "      --bg-color: #E8F0FE;\n",
              "      --fill-color: #1967D2;\n",
              "      --hover-bg-color: #E2EBFA;\n",
              "      --hover-fill-color: #174EA6;\n",
              "      --disabled-fill-color: #AAA;\n",
              "      --disabled-bg-color: #DDD;\n",
              "  }\n",
              "\n",
              "  [theme=dark] .colab-df-quickchart {\n",
              "      --bg-color: #3B4455;\n",
              "      --fill-color: #D2E3FC;\n",
              "      --hover-bg-color: #434B5C;\n",
              "      --hover-fill-color: #FFFFFF;\n",
              "      --disabled-bg-color: #3B4455;\n",
              "      --disabled-fill-color: #666;\n",
              "  }\n",
              "\n",
              "  .colab-df-quickchart {\n",
              "    background-color: var(--bg-color);\n",
              "    border: none;\n",
              "    border-radius: 50%;\n",
              "    cursor: pointer;\n",
              "    display: none;\n",
              "    fill: var(--fill-color);\n",
              "    height: 32px;\n",
              "    padding: 0;\n",
              "    width: 32px;\n",
              "  }\n",
              "\n",
              "  .colab-df-quickchart:hover {\n",
              "    background-color: var(--hover-bg-color);\n",
              "    box-shadow: 0 1px 2px rgba(60, 64, 67, 0.3), 0 1px 3px 1px rgba(60, 64, 67, 0.15);\n",
              "    fill: var(--button-hover-fill-color);\n",
              "  }\n",
              "\n",
              "  .colab-df-quickchart-complete:disabled,\n",
              "  .colab-df-quickchart-complete:disabled:hover {\n",
              "    background-color: var(--disabled-bg-color);\n",
              "    fill: var(--disabled-fill-color);\n",
              "    box-shadow: none;\n",
              "  }\n",
              "\n",
              "  .colab-df-spinner {\n",
              "    border: 2px solid var(--fill-color);\n",
              "    border-color: transparent;\n",
              "    border-bottom-color: var(--fill-color);\n",
              "    animation:\n",
              "      spin 1s steps(1) infinite;\n",
              "  }\n",
              "\n",
              "  @keyframes spin {\n",
              "    0% {\n",
              "      border-color: transparent;\n",
              "      border-bottom-color: var(--fill-color);\n",
              "      border-left-color: var(--fill-color);\n",
              "    }\n",
              "    20% {\n",
              "      border-color: transparent;\n",
              "      border-left-color: var(--fill-color);\n",
              "      border-top-color: var(--fill-color);\n",
              "    }\n",
              "    30% {\n",
              "      border-color: transparent;\n",
              "      border-left-color: var(--fill-color);\n",
              "      border-top-color: var(--fill-color);\n",
              "      border-right-color: var(--fill-color);\n",
              "    }\n",
              "    40% {\n",
              "      border-color: transparent;\n",
              "      border-right-color: var(--fill-color);\n",
              "      border-top-color: var(--fill-color);\n",
              "    }\n",
              "    60% {\n",
              "      border-color: transparent;\n",
              "      border-right-color: var(--fill-color);\n",
              "    }\n",
              "    80% {\n",
              "      border-color: transparent;\n",
              "      border-right-color: var(--fill-color);\n",
              "      border-bottom-color: var(--fill-color);\n",
              "    }\n",
              "    90% {\n",
              "      border-color: transparent;\n",
              "      border-bottom-color: var(--fill-color);\n",
              "    }\n",
              "  }\n",
              "</style>\n",
              "\n",
              "      <script>\n",
              "        async function quickchart(key) {\n",
              "          const quickchartButtonEl =\n",
              "            document.querySelector('#' + key + ' button');\n",
              "          quickchartButtonEl.disabled = true;  // To prevent multiple clicks.\n",
              "          quickchartButtonEl.classList.add('colab-df-spinner');\n",
              "          try {\n",
              "            const charts = await google.colab.kernel.invokeFunction(\n",
              "                'suggestCharts', [key], {});\n",
              "          } catch (error) {\n",
              "            console.error('Error during call to suggestCharts:', error);\n",
              "          }\n",
              "          quickchartButtonEl.classList.remove('colab-df-spinner');\n",
              "          quickchartButtonEl.classList.add('colab-df-quickchart-complete');\n",
              "        }\n",
              "        (() => {\n",
              "          let quickchartButtonEl =\n",
              "            document.querySelector('#df-13dd1497-b770-467a-b02d-91bb81a3bd17 button');\n",
              "          quickchartButtonEl.style.display =\n",
              "            google.colab.kernel.accessAllowed ? 'block' : 'none';\n",
              "        })();\n",
              "      </script>\n",
              "    </div>\n",
              "\n",
              "  <div id=\"id_c3cc4399-9810-45c1-8339-bb0448270a33\">\n",
              "    <style>\n",
              "      .colab-df-generate {\n",
              "        background-color: #E8F0FE;\n",
              "        border: none;\n",
              "        border-radius: 50%;\n",
              "        cursor: pointer;\n",
              "        display: none;\n",
              "        fill: #1967D2;\n",
              "        height: 32px;\n",
              "        padding: 0 0 0 0;\n",
              "        width: 32px;\n",
              "      }\n",
              "\n",
              "      .colab-df-generate:hover {\n",
              "        background-color: #E2EBFA;\n",
              "        box-shadow: 0px 1px 2px rgba(60, 64, 67, 0.3), 0px 1px 3px 1px rgba(60, 64, 67, 0.15);\n",
              "        fill: #174EA6;\n",
              "      }\n",
              "\n",
              "      [theme=dark] .colab-df-generate {\n",
              "        background-color: #3B4455;\n",
              "        fill: #D2E3FC;\n",
              "      }\n",
              "\n",
              "      [theme=dark] .colab-df-generate:hover {\n",
              "        background-color: #434B5C;\n",
              "        box-shadow: 0px 1px 3px 1px rgba(0, 0, 0, 0.15);\n",
              "        filter: drop-shadow(0px 1px 2px rgba(0, 0, 0, 0.3));\n",
              "        fill: #FFFFFF;\n",
              "      }\n",
              "    </style>\n",
              "    <button class=\"colab-df-generate\" onclick=\"generateWithVariable('results_df')\"\n",
              "            title=\"Generate code using this dataframe.\"\n",
              "            style=\"display:none;\">\n",
              "\n",
              "  <svg xmlns=\"http://www.w3.org/2000/svg\" height=\"24px\"viewBox=\"0 0 24 24\"\n",
              "       width=\"24px\">\n",
              "    <path d=\"M7,19H8.4L18.45,9,17,7.55,7,17.6ZM5,21V16.75L18.45,3.32a2,2,0,0,1,2.83,0l1.4,1.43a1.91,1.91,0,0,1,.58,1.4,1.91,1.91,0,0,1-.58,1.4L9.25,21ZM18.45,9,17,7.55Zm-12,3A5.31,5.31,0,0,0,4.9,8.1,5.31,5.31,0,0,0,1,6.5,5.31,5.31,0,0,0,4.9,4.9,5.31,5.31,0,0,0,6.5,1,5.31,5.31,0,0,0,8.1,4.9,5.31,5.31,0,0,0,12,6.5,5.46,5.46,0,0,0,6.5,12Z\"/>\n",
              "  </svg>\n",
              "    </button>\n",
              "    <script>\n",
              "      (() => {\n",
              "      const buttonEl =\n",
              "        document.querySelector('#id_c3cc4399-9810-45c1-8339-bb0448270a33 button.colab-df-generate');\n",
              "      buttonEl.style.display =\n",
              "        google.colab.kernel.accessAllowed ? 'block' : 'none';\n",
              "\n",
              "      buttonEl.onclick = () => {\n",
              "        google.colab.notebook.generateWithVariable('results_df');\n",
              "      }\n",
              "      })();\n",
              "    </script>\n",
              "  </div>\n",
              "\n",
              "    </div>\n",
              "  </div>\n"
            ],
            "application/vnd.google.colaboratory.intrinsic+json": {
              "type": "dataframe",
              "variable_name": "results_df",
              "summary": "{\n  \"name\": \"results_df\",\n  \"rows\": 5,\n  \"fields\": [\n    {\n      \"column\": \"Modelo\",\n      \"properties\": {\n        \"dtype\": \"string\",\n        \"num_unique_values\": 5,\n        \"samples\": [\n          \"DecisionTree\",\n          \"NaiveBayes\",\n          \"LogisticRegression\"\n        ],\n        \"semantic_type\": \"\",\n        \"description\": \"\"\n      }\n    },\n    {\n      \"column\": \"Best_F1_1\",\n      \"properties\": {\n        \"dtype\": \"number\",\n        \"std\": 0.06037183535280877,\n        \"min\": 0.5717472272107935,\n        \"max\": 0.7275388412710869,\n        \"num_unique_values\": 5,\n        \"samples\": [\n          0.68571581263989,\n          0.5717472272107935,\n          0.6810035761734945\n        ],\n        \"semantic_type\": \"\",\n        \"description\": \"\"\n      }\n    },\n    {\n      \"column\": \"Best_Params\",\n      \"properties\": {\n        \"dtype\": \"object\",\n        \"semantic_type\": \"\",\n        \"description\": \"\"\n      }\n    }\n  ]\n}"
            }
          },
          "metadata": {}
        }
      ]
    },
    {
      "cell_type": "markdown",
      "source": [
        "## Evaluación del modelo sobre el conjunto test"
      ],
      "metadata": {
        "id": "02vwvHZlWzva"
      }
    },
    {
      "cell_type": "code",
      "source": [
        "grid_rf = best_grids[\"RandomForest\"]"
      ],
      "metadata": {
        "id": "O8pN_x5iXDub"
      },
      "execution_count": 96,
      "outputs": []
    },
    {
      "cell_type": "code",
      "source": [
        "y_pred = grid_rf.predict(X_test)\n",
        "print(\"Reporte de clasificación final (muestra evaluación):\")\n",
        "print(classification_report(y_test, y_pred, digits=4))"
      ],
      "metadata": {
        "id": "GW2pwrkHW6ap",
        "outputId": "25d178f5-0181-48cf-8362-9724892fdb87",
        "colab": {
          "base_uri": "https://localhost:8080/"
        }
      },
      "execution_count": 97,
      "outputs": [
        {
          "output_type": "stream",
          "name": "stdout",
          "text": [
            "Reporte de clasificación final (muestra evaluación):\n",
            "              precision    recall  f1-score   support\n",
            "\n",
            "           0     0.7916    0.8583    0.8236       748\n",
            "           1     0.7639    0.6699    0.7138       512\n",
            "\n",
            "    accuracy                         0.7817      1260\n",
            "   macro avg     0.7778    0.7641    0.7687      1260\n",
            "weighted avg     0.7804    0.7817    0.7790      1260\n",
            "\n"
          ]
        }
      ]
    },
    {
      "cell_type": "markdown",
      "source": [
        "## Evaluación final sobre el conjunto de evaluación “out-of-the-box”\n",
        "Ahora que tenemos el mejor modelo (best_clf):\n",
        "\n",
        "    Lo reentrenamos con todo el dataset (si PRODUCCION=False, idealmente lo hubiéramos entrenado en df_train completo).\n",
        "\n",
        "    Si PRODUCCION=True, directamente hacemos predict sobre df (porque ya es el dataset de evaluación “real”).\n",
        "\n",
        "    Calculamos el reporte de clasificación (classification_report) para ver precision, recall y F1 en cada clase, además de accuracy global."
      ],
      "metadata": {
        "id": "I95CNtfI3i-L"
      }
    },
    {
      "cell_type": "markdown",
      "source": [
        "### Reentrenamiento con todo el set (modo NO producción)\n",
        "Reentrenamos el modelo con todo el dataset original (TP_Virus_Alumnos.csv), usando los mejores hiperparámetros encontrados. Así tenemos el modelo “definitivo” antes de evaluarlo “fuera de caja”.\n",
        "\n",
        "Modo PRODUCCIÓN: X y y ya vienen de “TP_Virus_Evaluacion.csv”, por lo que grid_xgb.best_estimator_ está entrenado en esos datos y solo hace falta asignarlo a best_clf.\n"
      ],
      "metadata": {
        "id": "xdorkilk34ir"
      }
    },
    {
      "cell_type": "code",
      "source": [
        "grid_rf = best_grids[\"RandomForest\"]"
      ],
      "metadata": {
        "id": "XzSRz3tQtecC"
      },
      "execution_count": 91,
      "outputs": []
    },
    {
      "cell_type": "code",
      "source": [
        "# Entrenamos best_clf sobre todo df_train (cuando PRODUCCION=False)\n",
        "# Carga completa del dataset original\n",
        "\n",
        "df_full = pd.read_csv(\"https://raw.githubusercontent.com/miroagustin/CienciaDeDatos1Q2025/main/TP_Virus_Alumnos.csv\")\n",
        "X_full = df_full.drop(\"target\", axis=1)\n",
        "y_full = df_full[\"target\"]\n",
        "\n",
        "# grid_rf.best_estimator_ es el pipeline entrenado con los mejores hiperparámetros ya aplicados\n",
        "grid_rf.best_estimator_.fit(X_full, y_full) # se reentrena con todo el df_train\n",
        "best_clf = grid_rf.best_estimator_          # se guarda en best_clf"
      ],
      "metadata": {
        "id": "4ZuKgQtG3iyb"
      },
      "execution_count": 98,
      "outputs": []
    },
    {
      "cell_type": "markdown",
      "source": [
        "## Analizar curvas Precision–Recall y ROC\n",
        "PR AUC: el área bajo la curva precision–recall. Para desequilibrio de clases, es más informativo que ROC AUC, porque se centra en la clase positiva.\n",
        "\n",
        "ROC AUC: área bajo la curva TPR vs FPR."
      ],
      "metadata": {
        "id": "posygz8T5nHD"
      }
    },
    {
      "cell_type": "code",
      "source": [
        "# Obtener probabilidades (score) para la clase 1\n",
        "y_scores = best_clf.predict_proba(X)[:, 1]\n",
        "\n",
        "# Curva Precision–Recall\n",
        "precision, recall, thresholds_pr = precision_recall_curve(y, y_scores, pos_label=1)\n",
        "pr_auc = auc(recall, precision)\n",
        "\n",
        "plt.figure(figsize=(6,5))\n",
        "plt.plot(recall, precision, label=f\"PR AUC = {pr_auc:.4f}\")\n",
        "plt.xlabel(\"Recall\")\n",
        "plt.ylabel(\"Precision\")\n",
        "plt.title(\"Curva Precision–Recall (clase 1)\")\n",
        "plt.legend()\n",
        "plt.show()\n",
        "\n",
        "# Curva ROC\n",
        "fpr, tpr, thresholds_roc = roc_curve(y, y_scores, pos_label=1)\n",
        "roc_auc = auc(fpr, tpr)\n",
        "\n",
        "plt.figure(figsize=(6,5))\n",
        "plt.plot(fpr, tpr, label=f\"ROC AUC = {roc_auc:.4f}\")\n",
        "plt.plot([0,1],[0,1],\"--\", color=\"gray\")\n",
        "plt.xlabel(\"False Positive Rate\")\n",
        "plt.ylabel(\"True Positive Rate\")\n",
        "plt.title(\"Curva ROC\")\n",
        "plt.legend()\n",
        "plt.show()\n"
      ],
      "metadata": {
        "colab": {
          "base_uri": "https://localhost:8080/",
          "height": 957
        },
        "id": "Xajf-k0J5p08",
        "outputId": "93a45b9a-4367-4c98-8cf0-5196c84b9c2e"
      },
      "execution_count": 100,
      "outputs": [
        {
          "output_type": "display_data",
          "data": {
            "text/plain": [
              "<Figure size 600x500 with 1 Axes>"
            ],
            "image/png": "[encoded data removed]"
          },
          "metadata": {}
        },
        {
          "output_type": "display_data",
          "data": {
            "text/plain": [
              "<Figure size 600x500 with 1 Axes>"
            ],
            "image/png": "[encoded data removed]"
          },
          "metadata": {}
        }
      ]
    },
    {
      "cell_type": "markdown",
      "source": [
        "##Como Guardar modelo\n",
        "\n",
        "Si el modelo tarda más de 10 minutos en entrenar, conviene guardarlo con joblib o pickle. Esto permite recargarlo sin volver a ajustarlo. Se realiza de la siguiente manera:\n",
        "```\n",
        "import joblib\n",
        "\n",
        "# Nombre de archivo donde persistiremos el pipeline\n",
        "joblib.dump(best_clf, \"best_clf_virus.pkl\")\n",
        "print(\"Modelo guardado en best_clf_virus.pkl\")\n",
        "```\n",
        "Con joblib.dump, se guarda el Pipeline completo (incluye preprocesamiento y clasificador).\n",
        "\n",
        "Si más adelante se lo queiere usar, se puede de la siguiente manera:\n",
        "\n",
        "    loaded_clf = joblib.load(\"best_clf_virus.pkl\")\n",
        "    y_pred_new = loaded_clf.predict(X_new)\n",
        "\n",
        "En este caso, el modelo no tarda en entrenar, por lo que, no hace falta guardarlo, pero se podría realizar"
      ],
      "metadata": {
        "id": "LBuvEpvX4bfN"
      }
    },
    {
      "cell_type": "markdown",
      "source": [
        "---"
      ],
      "metadata": {
        "id": "YIvNsTxr4aHy"
      }
    },
    {
      "cell_type": "markdown",
      "metadata": {
        "id": "gLSf64ttbjzD"
      },
      "source": [
        "# Evaluacion final - Docente + Alumno"
      ]
    },
    {
      "cell_type": "markdown",
      "source": [
        "Enunciado:"
      ],
      "metadata": {
        "id": "epCC__lxwpt8"
      }
    },
    {
      "cell_type": "code",
      "execution_count": 27,
      "metadata": {
        "id": "nCS4XxdnbjzD",
        "outputId": "19a99f59-dc19-4638-9285-96a93d1e4e53",
        "colab": {
          "base_uri": "https://localhost:8080/"
        }
      },
      "outputs": [
        {
          "output_type": "stream",
          "name": "stdout",
          "text": [
            "              precision    recall  f1-score   support\n",
            "\n",
            "           0       0.88      0.95      0.91       739\n",
            "           1       0.92      0.81      0.86       521\n",
            "\n",
            "    accuracy                           0.89      1260\n",
            "   macro avg       0.90      0.88      0.89      1260\n",
            "weighted avg       0.90      0.89      0.89      1260\n",
            "\n"
          ]
        }
      ],
      "source": [
        "import pandas as pd\n",
        "from sklearn.metrics import classification_report\n",
        "from sklearn.model_selection import train_test_split\n",
        "\n",
        "PRODUCCION = False\n",
        "best_clf = best_clf #Asignar aqui el mejor clasificador/pipeline posible (previamente entrenado si es necesario)\n",
        "\n",
        "#Leemos el dataset de evaluación, simulando producción\n",
        "if PRODUCCION==False:\n",
        "    df = pd.read_csv(\"https://raw.githubusercontent.com/miroagustin/CienciaDeDatos1Q2025/main/TP_Virus_Alumnos.csv\")\n",
        "    _, df = train_test_split(df, test_size=0.3, random_state=42)\n",
        "else:\n",
        "    df = pd.read_csv(\"TP_Virus_Evaluacion.csv\")\n",
        "#Dividimos en target y predictoras\n",
        "\n",
        "X_prod = df.drop(\"target\", axis=1)\n",
        "y_prod = df[\"target\"]\n",
        "\n",
        "#Transformaciones en caso de no ser un pipeline completo. Preferiblemente, el mejor pipeline debe incluir todas las transformaciones necesarias.\n",
        "#Si es pipeline ejecutar el fit (tener en cuenta el tiempo). Si mediante exploración / busqueda exhaustiva se encontró el mejor clasificador\n",
        "#harcodear sus hiperparametros (Adjuntar código y explicación de como se encontró el mejor clasificador).\n",
        "\n",
        "#Evaluación final\n",
        "y_pred = best_clf.predict(X_prod)\n",
        "print(classification_report(y_prod, y_pred))"
      ]
    },
    {
      "cell_type": "markdown",
      "source": [
        "Fin del enunciado"
      ],
      "metadata": {
        "id": "1ANgLbfiwwT6"
      }
    },
    {
      "cell_type": "markdown",
      "source": [
        "---"
      ],
      "metadata": {
        "id": "hpafC1Z1wzJO"
      }
    }
  ]
}