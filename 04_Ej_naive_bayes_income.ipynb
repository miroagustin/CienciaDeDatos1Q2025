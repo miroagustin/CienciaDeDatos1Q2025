{
  "cells": [
    {
      "cell_type": "code",
      "execution_count": 1,
      "metadata": {
        "id": "P0xLtRswK9AV"
      },
      "outputs": [],
      "source": [
        "import pandas as pd\n",
        "import seaborn as sns\n",
        "import matplotlib.pyplot as plt\n",
        "\n",
        "from sklearn.preprocessing import StandardScaler\n",
        "from sklearn.model_selection import train_test_split\n",
        "from sklearn.naive_bayes import MultinomialNB # naive bayes multinomial para clasificación\n",
        "from sklearn.naive_bayes import GaussianNB # naive bayes gausiano para clasificación\n",
        "from sklearn.metrics import accuracy_score # métrica de evaluación\n",
        "from sklearn.metrics import classification_report\n"
      ]
    },
    {
      "cell_type": "markdown",
      "metadata": {
        "id": "MIrmam4QK985"
      },
      "source": [
        "# Análisis Exploratorio"
      ]
    },
    {
      "cell_type": "code",
      "execution_count": null,
      "metadata": {
        "colab": {
          "base_uri": "https://localhost:8080/",
          "height": 206
        },
        "id": "5trwC-5EKCbk",
        "outputId": "d9a1948b-d036-4dc8-8e30-d9a76f58009a"
      },
      "outputs": [],
      "source": [
        "df_50 = pd.read_csv('https://raw.githubusercontent.com/pokengineer/DataScience/main/datasets/adult_income.csv', header=None)\n",
        "col_names = ['age', 'workclass', 'fnlwgt', 'education', 'education_num', 'marital_status', 'occupation', 'relationship',\n",
        "             'race', 'sex', 'capital_gain', 'capital_loss', 'hours_per_week', 'native_country', 'target']\n",
        "df_50.columns = col_names\n",
        "df_50.head(5)"
      ]
    },
    {
      "cell_type": "code",
      "execution_count": null,
      "metadata": {
        "colab": {
          "base_uri": "https://localhost:8080/"
        },
        "id": "F2MaDIuQK5-k",
        "outputId": "ebfe7e35-4aac-4930-ada4-0ea1d82056c0"
      },
      "outputs": [],
      "source": [
        "# verificamos los tipos de datos\n",
        "df_50.dtypes"
      ]
    },
    {
      "cell_type": "code",
      "execution_count": null,
      "metadata": {
        "colab": {
          "base_uri": "https://localhost:8080/"
        },
        "id": "5Z_MYIBPLJxL",
        "outputId": "078b0531-3206-4ec9-c0a0-f28fee304c04"
      },
      "outputs": [],
      "source": [
        "print(\"Tamaño del dataframe : {}\".format(df_50.shape))"
      ]
    },
    {
      "cell_type": "code",
      "execution_count": null,
      "metadata": {
        "colab": {
          "base_uri": "https://localhost:8080/"
        },
        "id": "fOt2OYnyMu8z",
        "outputId": "5d1ce924-d2cf-4163-88cd-56b1cceaf8ea"
      },
      "outputs": [],
      "source": [
        "# Verificamos si hay valores nulos para imputar\n",
        "df_50.isnull().sum()"
      ]
    },
    {
      "cell_type": "code",
      "execution_count": null,
      "metadata": {
        "colab": {
          "base_uri": "https://localhost:8080/",
          "height": 541
        },
        "id": "lOki9Ak_LgG7",
        "outputId": "a2b5735a-6fab-4e4c-ee5f-a5f44a85b2a0"
      },
      "outputs": [],
      "source": [
        "# Analisis de la distribución de la variable target\n",
        "print( df_50.target.value_counts() )\n",
        "sns.countplot(x='target', data=df_50, hue='target', legend=False)"
      ]
    },
    {
      "cell_type": "code",
      "execution_count": null,
      "metadata": {
        "colab": {
          "base_uri": "https://localhost:8080/"
        },
        "id": "dCqO7jUkME58",
        "outputId": "76e543cb-ea72-43f5-a451-2399c8b22d1a"
      },
      "outputs": [],
      "source": [
        "# identificamos las variables categóricas\n",
        "categorical = [var for var in df_50.columns if df_50[var].dtype=='O']\n",
        "print('las variables categoricas son:\\n', categorical)\n",
        "print(\"\\nchequeamos la dimensionalidad de las variables\")\n",
        "for var in categorical:\n",
        "    print(len(df_50[var].unique()), ' valores unicos en ', var )"
      ]
    },
    {
      "cell_type": "code",
      "execution_count": 14,
      "metadata": {
        "id": "JYQGaTzmZTZh"
      },
      "outputs": [],
      "source": [
        "# paso target a una variable numerica\n",
        "df_50['target'] = df_50['target'].apply(lambda x: 1 if x == ' >50K' else 0 )"
      ]
    },
    {
      "cell_type": "code",
      "execution_count": null,
      "metadata": {
        "colab": {
          "base_uri": "https://localhost:8080/"
        },
        "id": "md9eOSvaZNQO",
        "outputId": "ffde6f46-6014-4095-b35a-bae48f71f5d5"
      },
      "outputs": [],
      "source": [
        "# identificamos las variables numéricas\n",
        "numerical = [var for var in df_50.columns if df_50[var].dtype!='O']\n",
        "print('las variables numéricas son:\\n', numerical)"
      ]
    },
    {
      "cell_type": "markdown",
      "metadata": {
        "id": "qcRRQADzNi6h"
      },
      "source": [
        "# Correlación de Variables"
      ]
    },
    {
      "cell_type": "code",
      "execution_count": null,
      "metadata": {
        "colab": {
          "base_uri": "https://localhost:8080/",
          "height": 623
        },
        "id": "tqPyTOWONRNN",
        "outputId": "e1023e8c-63aa-44d4-a84e-be297f0888d6"
      },
      "outputs": [],
      "source": [
        "plt.figure(figsize=(14,7))\n",
        "sns.heatmap(df_50[numerical].corr(), vmax=.7, cmap ='Blues', fmt=\".2f\")"
      ]
    },
    {
      "cell_type": "code",
      "execution_count": null,
      "metadata": {
        "colab": {
          "base_uri": "https://localhost:8080/",
          "height": 237
        },
        "id": "8gH15EmiORMU",
        "outputId": "adeb09ee-bf29-41b9-92f5-5b6f2c3223fb"
      },
      "outputs": [],
      "source": [
        "df_corr = df_50[numerical].corr()[[\"target\"]]*100 # lo pasamos a porcentajes\n",
        "df_corr = df_corr.drop(\"target\", axis=0) # eliminamos la variable target\n",
        "df_corr = df_corr.sort_values([\"target\"], ascending=False) # ordenamos en forma descendente\n",
        "df_corr = abs(df_corr) # nos interesa el valor absouluto\n",
        "df_corr"
      ]
    },
    {
      "cell_type": "markdown",
      "metadata": {
        "id": "RmZa5mOdPpku"
      },
      "source": [
        "# Seleccionamos las variables que vamos a utilizar y hacemos el Split"
      ]
    },
    {
      "cell_type": "code",
      "execution_count": null,
      "metadata": {
        "colab": {
          "base_uri": "https://localhost:8080/"
        },
        "id": "zrPlvdl7bWWG",
        "outputId": "ae7a8abc-8167-4642-cb6d-8f7e1649bd81"
      },
      "outputs": [],
      "source": [
        "df_50.columns"
      ]
    },
    {
      "cell_type": "code",
      "execution_count": null,
      "metadata": {
        "colab": {
          "base_uri": "https://localhost:8080/",
          "height": 206
        },
        "id": "23lNtoIIPo_D",
        "outputId": "5ce9ebd2-1dec-4ae7-9407-5065fbefd225"
      },
      "outputs": [],
      "source": [
        "# usamos todas las columnas numércias\n",
        "df = df_50[numerical]\n",
        "X = df.drop(\"target\",axis=1)\n",
        "y = df[\"target\"]\n",
        "X.head()"
      ]
    },
    {
      "cell_type": "code",
      "execution_count": 53,
      "metadata": {
        "id": "drNcxQmpQhsE"
      },
      "outputs": [],
      "source": [
        "# Hacemos el Split 70-30 para train-test\n",
        "X_train, X_test, y_train, y_test = train_test_split(X, y, test_size=0.3, stratify = y, random_state=42)"
      ]
    },
    {
      "cell_type": "code",
      "execution_count": null,
      "metadata": {
        "colab": {
          "base_uri": "https://localhost:8080/",
          "height": 75
        },
        "id": "1vL8iYzvsgaB",
        "outputId": "d797e500-b082-451c-afda-b269421b3c4f"
      },
      "outputs": [],
      "source": [
        "# Creamos y entrenamos el clasificador bayesiano\n",
        "bayes_multi = MultinomialNB()\n",
        "bayes_multi.fit(X_train, y_train) # entrenamos el clasificador"
      ]
    },
    {
      "cell_type": "code",
      "execution_count": null,
      "metadata": {
        "colab": {
          "base_uri": "https://localhost:8080/"
        },
        "id": "gkciBNHhsycS",
        "outputId": "1f400632-1a2b-45fb-fa65-a030108d6a8c"
      },
      "outputs": [],
      "source": [
        "y_pred_nb = bayes_multi.predict(X_test)\n",
        "\n",
        "#Exactitud del modelo\n",
        "print('Exactitud (accuracy) del modelo: {:.2f} %'.format(accuracy_score(y_test, y_pred_nb)*100))\n",
        "print(\"-\"*100)\n",
        "\n",
        "# Reporte del clasificador\n",
        "from sklearn.metrics import classification_report\n",
        "print(classification_report(y_test,y_pred_nb))"
      ]
    },
    {
      "cell_type": "markdown",
      "metadata": {
        "id": "fVOQIHqXmAj8"
      },
      "source": [
        "# Ejercicio\n",
        "- ¿hay variables redundantes en este dataframe? ¿que variables feature engineering incluirias en este modelo?\n",
        "- Reemplazar MultinomialNB por GaussianNB y comparar el desempeño\n",
        "- Usando OneHotEncoder o pd.get_dummies() en las variables categóricas de baja dimensionalidad, obtener columnas numericas para representarlas. incluirlas al modelo y comparar el resultado"
      ]
    },
    {
      "cell_type": "markdown",
      "metadata": {},
      "source": []
    }
  ],
  "metadata": {
    "colab": {
      "provenance": []
    },
    "kernelspec": {
      "display_name": "Python 3",
      "name": "python3"
    },
    "language_info": {
      "codemirror_mode": {
        "name": "ipython",
        "version": 3
      },
      "file_extension": ".py",
      "mimetype": "text/x-python",
      "name": "python",
      "nbconvert_exporter": "python",
      "pygments_lexer": "ipython3",
      "version": "3.9.1"
    }
  },
  "nbformat": 4,
  "nbformat_minor": 0
}
