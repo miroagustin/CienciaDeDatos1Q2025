{
  "cells": [
    {
      "cell_type": "markdown",
      "source": [
        "# Imports"
      ],
      "metadata": {}
    },
    {
      "cell_type": "code",
      "source": [
        "import pandas as pd\n",
        "import seaborn as sns\n",
        "import matplotlib.pyplot as plt\n",
        "import numpy as np\n",
        "\n",
        "from sklearn.linear_model import LinearRegression\n",
        "\n",
        "from sklearn.preprocessing import StandardScaler\n",
        "from sklearn.pipeline import Pipeline\n",
        "from sklearn.compose import ColumnTransformer\n",
        "from sklearn.impute import SimpleImputer\n",
        "from sklearn.model_selection import train_test_split\n",
        "from sklearn.metrics import accuracy_score\n",
        "from sklearn.metrics import classification_report\n",
        "from sklearn import metrics"
      ],
      "outputs": [],
      "execution_count": null,
      "metadata": {
        "id": "P0xLtRswK9AV"
      }
    },
    {
      "cell_type": "code",
      "source": [
        "df_car = pd.read_csv('https://raw.githubusercontent.com/pokengineer/DataScience/main/datasets/car_price.csv')\n",
        "df_car.head(5)"
      ],
      "outputs": [],
      "execution_count": null,
      "metadata": {
        "colab": {
          "base_uri": "https://localhost:8080/",
          "height": 253
        },
        "id": "5trwC-5EKCbk",
        "outputId": "ec25f560-bda1-4124-d51e-8510cfb47180"
      }
    },
    {
      "cell_type": "markdown",
      "source": [
        "# ETL"
      ],
      "metadata": {}
    },
    {
      "cell_type": "code",
      "source": [
        "def etl_dataset( df ): \n",
        "    # Torque\n",
        "    df['RPM'] = df['torque'].str.extract(r'(\\d+)rpm', expand=False)\n",
        "    df['RPM'].fillna(df['torque'].str.extract(r'(\\d{1,3}(?:,\\d{3})*)\\(kgm@ rpm\\)', expand=False), inplace=True)\n",
        "    df['RPM'].fillna(df['torque'].str.extract(r'(\\d+) RPM', expand=False), inplace=True)\n",
        "    df['RPM'].fillna(df['torque'].str.extract(r'(\\d+)  rpm ', expand=False), inplace=True)\n",
        "    df['RPM'].fillna(df['torque'].str.extract(r'(\\d+) rpm', expand=False), inplace=True)\n",
        "    df['TORQUE'] = df['torque'].str.extract(r'(\\d+)Nm@', expand=False)\n",
        "    df['TORQUE'].fillna(df['torque'].str.extract(r'(\\d+)nm@', expand=False), inplace=True)\n",
        "    df['TORQUE'].fillna(df['torque'].str.extract(r'(\\d+) Nm', expand=False), inplace=True)\n",
        "    df['TORQUE'].fillna(df['torque'].str.extract(r'(\\d+)@', expand=False), inplace=True)\n",
        "    df['TORQUE'].fillna(df['torque'].str.extract(r'(\\d+)Nm', expand=False), inplace=True)\n",
        "    df['TORQUE'].fillna(df['torque'].str.extract(r'(\\d+)  Nm', expand=False), inplace=True)\n",
        "    df['TORQUE'].fillna(df['torque'].str.extract(r'(\\d+)NM@', expand=False), inplace=True)\n",
        "    df['TORQUE'].fillna((df['torque'].str.extract(r'(\\d{1,2}(?:[,.]\\d{1,2})?)@\\s*\\d{1,3}(?:,\\d{3})*\\(kgm@ rpm\\)', expand=False)).astype(float) * 9.8, inplace=True)\n",
        "    df['TORQUE'].fillna((df['torque'].str.extract(r'(\\d{1,2}(?:[,.]\\d{1,2})?)\\s*kgm', expand=False)).astype(float) * 9.8,inplace=True)\n",
        "    df['RPM'] = df['RPM'].str.replace(',', '').astype(float)\n",
        "    df['TORQUE'] = df['TORQUE'].astype(float)\n",
        "    # Brand\n",
        "    df['BRAND'] = df['name'].astype('str').apply(lambda x: x.split()[0])\n",
        "    # Milage\n",
        "    df['MILEAGE'] = (df['mileage'].apply(lambda x: str(x).replace(' kmpl', '').replace(' km/kg', ''))).astype(float)\n",
        "    # Engine\n",
        "    df['ENGINE'] = (df['engine'].apply(lambda x: str(x).replace(' CC', ''))).astype(float)\n",
        "    # Max Power\n",
        "    df['MAX_POWER'] = df['max_power'].astype(str).apply(lambda x: x.split()[0])\n",
        "    df.drop(df[df['MAX_POWER'] == 'bhp'].index, inplace=True, axis=0)\n",
        "    df['MAX_POWER'] = df['MAX_POWER'].astype(float)\n",
        "    # Drop columns \n",
        "    return df.drop(['torque', 'name', 'mileage', 'engine', 'max_power'], axis=1)"
      ],
      "outputs": [],
      "execution_count": null,
      "metadata": {}
    },
    {
      "cell_type": "code",
      "source": [
        "df_car = etl_dataset( df_car )"
      ],
      "outputs": [],
      "execution_count": null,
      "metadata": {}
    },
    {
      "cell_type": "markdown",
      "source": [
        "# Analisis del Dataset"
      ],
      "metadata": {}
    },
    {
      "cell_type": "code",
      "source": [
        "# Identificamos las variables categóricas para crear dummies o incluirla de otra forma\n",
        "categorical = [var for var in df_car.columns if df_car[var].dtype=='O']\n",
        "print('las variables categoricas son:\\n', categorical)\n",
        "print(\"\\nchequeamos la dimensionalidad de las variables\")\n",
        "for var in categorical:\n",
        "    print(len(df_car[var].unique()), ' valores unicos en ', var )"
      ],
      "outputs": [],
      "execution_count": null,
      "metadata": {}
    },
    {
      "cell_type": "code",
      "source": [
        "cat_cols_count = len(categorical)\n",
        "cat_rows = cat_cols_count // 3\n",
        "cat_rows += 1 if cat_cols_count % 3 != 0 else 0  \n",
        "\n",
        "fig, axes = plt.subplots(cat_rows, 3, figsize=(10, 10), squeeze=True)\n",
        "axes = axes.flatten()\n",
        "\n",
        "for i, col in enumerate(categorical):\n",
        "    sns.countplot(data=df_car, x=col, ax=axes[i], order=df_car[col].value_counts().index)\n",
        "    axes[i].set_xlabel(col)\n",
        "\n",
        "plt.tight_layout()\n",
        "plt.show()"
      ],
      "outputs": [],
      "execution_count": null,
      "metadata": {}
    },
    {
      "cell_type": "code",
      "source": [
        "# identificamos las variables numéricas\n",
        "numerical = [var for var in df_car.columns if df_car[var].dtype!='O']\n",
        "print('las variables numéricas son:\\n', numerical)"
      ],
      "outputs": [],
      "execution_count": null,
      "metadata": {}
    },
    {
      "cell_type": "code",
      "source": [
        "for columna in numerical:\n",
        "    df_car.plot(x=columna, y='selling_price',kind='scatter')\n",
        "plt.show()"
      ],
      "outputs": [],
      "execution_count": null,
      "metadata": {}
    },
    {
      "cell_type": "code",
      "source": [
        "sns.heatmap(df_car[numerical].corr(), annot=True, fmt='.2f', linewidths=.5, cbar_kws={\"shrink\": .8})\n",
        "plt.show()"
      ],
      "outputs": [],
      "execution_count": null,
      "metadata": {}
    },
    {
      "cell_type": "code",
      "source": [
        "# Verificamos si hay valores nulos para imputar\n",
        "df_car.isnull().sum()"
      ],
      "outputs": [],
      "execution_count": null,
      "metadata": {}
    },
    {
      "cell_type": "markdown",
      "source": [
        "# Pipeline"
      ],
      "metadata": {
        "id": "RmZa5mOdPpku"
      }
    },
    {
      "cell_type": "code",
      "source": [
        "df_car.columns"
      ],
      "outputs": [],
      "execution_count": null,
      "metadata": {}
    },
    {
      "cell_type": "code",
      "source": [
        "X_car = df_car.drop(columns=\"selling_price\")\n",
        "y_car = df_car[\"selling_price\"]\n",
        "X_train, X_test, y_train, y_test = train_test_split(X_car, y_car,test_size=0.3, random_state=0)\n",
        "\n",
        "X = ['TORQUE']\n",
        "pl = Pipeline([\n",
        "    (\"selector\", ColumnTransformer([(\"selector\", \"passthrough\", X )], remainder=\"drop\")),\n",
        "    (\"imputer\",SimpleImputer(strategy=\"most_frequent\")),\n",
        "    ('scaler', StandardScaler(with_mean=True, with_std=True)),\n",
        "    ('regressor', LinearRegression())\n",
        "])\n",
        "\n",
        "pl.fit( X_train, y_train )"
      ],
      "outputs": [],
      "execution_count": null,
      "metadata": {}
    },
    {
      "cell_type": "markdown",
      "source": [
        "# Regresion Lineal Simple"
      ],
      "metadata": {
        "id": "im1OPXM9dvth"
      }
    },
    {
      "cell_type": "code",
      "source": [
        "predicted = pl.predict(X_test)"
      ],
      "outputs": [],
      "execution_count": null,
      "metadata": {}
    },
    {
      "cell_type": "code",
      "source": [
        "pl['regressor'].n_features_in_"
      ],
      "outputs": [],
      "execution_count": null,
      "metadata": {}
    },
    {
      "cell_type": "code",
      "source": [
        "# score devuelve coeficiente de determinación, denominado R²\n",
        "print( \"R²: \" + str( pl.score(X_test,y_test) ))"
      ],
      "outputs": [],
      "execution_count": null,
      "metadata": {}
    },
    {
      "cell_type": "code",
      "source": [
        "# Import matplotlib.pyplot\n",
        "import matplotlib.pyplot as plt\n",
        "\n",
        "# Create scatter plot\n",
        "plt.scatter( X_test['TORQUE'],y_test, color=\"blue\")\n",
        "\n",
        "# Create line plot\n",
        "plt.plot( X_test['TORQUE'],predicted,color=\"red\")\n",
        "plt.xlabel(\"TORQUE\")\n",
        "plt.ylabel(\"selling price\")\n",
        "\n",
        "# Display the plot\n",
        "plt.show()"
      ],
      "outputs": [],
      "execution_count": null,
      "metadata": {}
    },
    {
      "cell_type": "markdown",
      "source": [
        "# Ejercicio\n",
        "- probar el modelo con la variable de mayor correlacion, MAX_POWER\n",
        "- imputar a la media los valores nulos de MAX POWER dentro de la funcion de preparacion de datos\n",
        "- realizar un modelo de regresion lineal que use más de una columna"
      ],
      "metadata": {
        "id": "6rGxzQrwf9Qd"
      }
    }
  ],
  "metadata": {
    "colab": {
      "provenance": []
    },
    "kernelspec": {
      "display_name": "Python 3",
      "name": "python3"
    },
    "language_info": {
      "codemirror_mode": {
        "name": "ipython",
        "version": 3
      },
      "file_extension": ".py",
      "mimetype": "text/x-python",
      "name": "python",
      "nbconvert_exporter": "python",
      "pygments_lexer": "ipython3",
      "version": "3.9.1"
    },
    "nteract": {
      "version": "nteract-front-end@1.0.0"
    }
  },
  "nbformat": 4,
  "nbformat_minor": 0
}