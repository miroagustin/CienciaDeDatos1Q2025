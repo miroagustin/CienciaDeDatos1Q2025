{
  "cells": [
    {
      "cell_type": "code",
      "execution_count": 1,
      "metadata": {
        "id": "P0xLtRswK9AV"
      },
      "outputs": [],
      "source": [
        "import pandas as pd\n",
        "import seaborn as sns\n",
        "import matplotlib.pyplot as plt\n",
        "\n",
        "from sklearn.preprocessing import StandardScaler\n",
        "from sklearn.model_selection import train_test_split\n",
        "from sklearn.naive_bayes import MultinomialNB # naive bayes multinomial para clasificación\n",
        "from sklearn.metrics import accuracy_score # métrica de evaluación\n",
        "from sklearn.metrics import classification_report"
      ]
    },
    {
      "cell_type": "markdown",
      "metadata": {
        "id": "MIrmam4QK985"
      },
      "source": [
        "# Análisis Exploratorio"
      ]
    },
    {
      "cell_type": "code",
      "execution_count": null,
      "metadata": {
        "colab": {
          "base_uri": "https://localhost:8080/",
          "height": 270
        },
        "id": "5trwC-5EKCbk",
        "outputId": "5bd3f3db-0557-4503-b05d-f79309add602"
      },
      "outputs": [],
      "source": [
        "df_nasa = pd.read_csv('https://raw.githubusercontent.com/pokengineer/DataScience/main/datasets/asteroids_nasa.csv')\n",
        "df_nasa.head(5)"
      ]
    },
    {
      "cell_type": "code",
      "execution_count": null,
      "metadata": {
        "colab": {
          "base_uri": "https://localhost:8080/"
        },
        "id": "F2MaDIuQK5-k",
        "outputId": "c3e2b6f5-db16-4eda-d024-82d4a7d70fe7"
      },
      "outputs": [],
      "source": [
        "# verificamos los tipos de datos\n",
        "df_nasa.dtypes"
      ]
    },
    {
      "cell_type": "code",
      "execution_count": null,
      "metadata": {
        "colab": {
          "base_uri": "https://localhost:8080/"
        },
        "id": "5Z_MYIBPLJxL",
        "outputId": "9ac9fe04-697d-4bc1-b725-dc78b948b206"
      },
      "outputs": [],
      "source": [
        "print(\"Tamaño del dataframe : {}\".format(df_nasa.shape))"
      ]
    },
    {
      "cell_type": "code",
      "execution_count": null,
      "metadata": {
        "colab": {
          "base_uri": "https://localhost:8080/"
        },
        "id": "fOt2OYnyMu8z",
        "outputId": "f214d071-5373-4a5a-b396-e0acd61d962c"
      },
      "outputs": [],
      "source": [
        "# Verificamos si hay valores nulos para imputar\n",
        "df_nasa.isnull().sum()"
      ]
    },
    {
      "cell_type": "code",
      "execution_count": null,
      "metadata": {
        "colab": {
          "base_uri": "https://localhost:8080/",
          "height": 541
        },
        "id": "lOki9Ak_LgG7",
        "outputId": "bcb77f80-f95a-4011-eeaa-a0b43d47ab9c"
      },
      "outputs": [],
      "source": [
        "# Analisis de la distribución de la variable target \"Hazardous\"\n",
        "print( df_nasa.Hazardous.value_counts() )\n",
        "sns.countplot(x='Hazardous', data=df_nasa, hue='Hazardous', legend=False)"
      ]
    },
    {
      "cell_type": "markdown",
      "metadata": {
        "id": "qcRRQADzNi6h"
      },
      "source": [
        "# Correlación de Variables"
      ]
    },
    {
      "cell_type": "code",
      "execution_count": null,
      "metadata": {
        "colab": {
          "base_uri": "https://localhost:8080/",
          "height": 799
        },
        "id": "tqPyTOWONRNN",
        "outputId": "305c3e85-583a-4b87-c911-a256a51c1bc7"
      },
      "outputs": [],
      "source": [
        "plt.figure(figsize=(14,7))\n",
        "sns.heatmap(df_nasa.drop(['Close Approach Date','Orbiting Body','Orbit Determination Date','Equinox'],axis=1).corr(), vmax=.7, cmap ='Blues', fmt=\".2f\")"
      ]
    },
    {
      "cell_type": "code",
      "execution_count": null,
      "metadata": {
        "colab": {
          "base_uri": "https://localhost:8080/",
          "height": 1000
        },
        "id": "8gH15EmiORMU",
        "outputId": "7d614a5d-7687-4ff5-8be7-b630598be2fb"
      },
      "outputs": [],
      "source": [
        "df_nasa_corr = df_nasa.drop(['Close Approach Date','Orbiting Body','Orbit Determination Date','Equinox'],axis=1).corr()[[\"Hazardous\"]]*100 # lo pasamos a porcentajes\n",
        "df_nasa_corr = df_nasa_corr.drop(\"Hazardous\", axis=0) # eliminamos la variable target\n",
        "df_nasa_corr = abs(df_nasa_corr) # nos interesa el valor absouluto\n",
        "df_nasa_corr = df_nasa_corr.sort_values([\"Hazardous\"], ascending=False) # ordenamos en forma descendente\n",
        "df_nasa_corr"
      ]
    },
    {
      "cell_type": "markdown",
      "metadata": {
        "id": "RmZa5mOdPpku"
      },
      "source": [
        "# Seleccionamos las variables que vamos a utilizar y hacemos el Split"
      ]
    },
    {
      "cell_type": "code",
      "execution_count": 9,
      "metadata": {
        "id": "_eirKez0KsCG"
      },
      "outputs": [],
      "source": [
        "# dropeo ['Orbiting Body','Equinox'] porque en todos los casos es earth y J2000\n",
        "df_nasa.drop(['Orbiting Body','Equinox'],axis=1, inplace=True)"
      ]
    },
    {
      "cell_type": "code",
      "execution_count": null,
      "metadata": {
        "colab": {
          "base_uri": "https://localhost:8080/"
        },
        "id": "wAZQlfUVJjwG",
        "outputId": "0c0e538a-b5b1-4b64-bb39-5324c21399e5"
      },
      "outputs": [],
      "source": [
        "df_nasa.columns"
      ]
    },
    {
      "cell_type": "code",
      "execution_count": null,
      "metadata": {
        "colab": {
          "base_uri": "https://localhost:8080/",
          "height": 270
        },
        "id": "23lNtoIIPo_D",
        "outputId": "ec0d3490-4354-48ca-b7e5-19ee05451bd5"
      },
      "outputs": [],
      "source": [
        "df = df_nasa.drop(['Close Approach Date','Orbit Determination Date'],axis=1)\n",
        "X_nasa = df.drop(\"Hazardous\",axis=1)\n",
        "y_nasa = df[\"Hazardous\"]\n",
        "X_nasa.head()"
      ]
    },
    {
      "cell_type": "code",
      "execution_count": 12,
      "metadata": {
        "id": "drNcxQmpQhsE"
      },
      "outputs": [],
      "source": [
        "# Hacemos el Split 70-30 para train-test\n",
        "X_train, X_test, y_train, y_test = train_test_split(X_nasa, y_nasa, test_size=0.3, stratify = y_nasa, random_state=0)"
      ]
    },
    {
      "cell_type": "code",
      "execution_count": null,
      "metadata": {
        "colab": {
          "base_uri": "https://localhost:8080/",
          "height": 75
        },
        "id": "1vL8iYzvsgaB",
        "outputId": "4bb150ce-d6f4-4e91-e332-eef0754b9c38"
      },
      "outputs": [],
      "source": [
        "# Creamos y entrenamos el clasificador bayesiano\n",
        "bayes_multi = MultinomialNB()\n",
        "bayes_multi.fit(X_train, y_train) # entrenamos el clasificador"
      ]
    },
    {
      "cell_type": "code",
      "execution_count": null,
      "metadata": {
        "colab": {
          "base_uri": "https://localhost:8080/"
        },
        "id": "gkciBNHhsycS",
        "outputId": "4627cb0e-8d74-4697-89eb-f8e16e9de05c"
      },
      "outputs": [],
      "source": [
        "y_pred_nb = bayes_multi.predict(X_test)\n",
        "\n",
        "#Exactitud del modelo\n",
        "print('Exactitud (accuracy) del modelo: {:.2f} %'.format(accuracy_score(y_test, y_pred_nb)*100))\n",
        "print(\"-\"*100)\n",
        "\n",
        "# Reporte del clasificador\n",
        "from sklearn.metrics import classification_report\n",
        "print(classification_report(y_test,y_pred_nb))"
      ]
    },
    {
      "cell_type": "code",
      "execution_count": null,
      "metadata": {
        "colab": {
          "base_uri": "https://localhost:8080/",
          "height": 75
        },
        "id": "iVlR-skluk1n",
        "outputId": "b7214f27-5875-4595-8fbe-5dab597fbd2b"
      },
      "outputs": [],
      "source": [
        "# Importamos otra librería para modelos naive bayes gausianos\n",
        "from sklearn.naive_bayes import GaussianNB # naive bayes multinomial para clasificación\n",
        "\n",
        "bayes_gauss = GaussianNB()\n",
        "bayes_gauss.fit(X_train, y_train) # entrenamos el clasificador"
      ]
    },
    {
      "cell_type": "code",
      "execution_count": null,
      "metadata": {
        "colab": {
          "base_uri": "https://localhost:8080/"
        },
        "id": "AmXgIevpupGY",
        "outputId": "2c727c95-fd58-4ac3-f49a-86ea53f9023c"
      },
      "outputs": [],
      "source": [
        "# Calculamos y mostramos la matriz de confusión del modelo\n",
        "y_pred_gauss = bayes_gauss.predict(X_test)\n",
        "#Exactitud del modelo\n",
        "print('Exactitud (accuracy) del modelo: {:.2f} %'.format(accuracy_score(y_test, y_pred_gauss)*100))\n",
        "print(\"-\"*100)\n",
        "\n",
        "print(classification_report(y_test,y_pred_gauss))"
      ]
    },
    {
      "cell_type": "markdown",
      "metadata": {
        "id": "fVOQIHqXmAj8"
      },
      "source": [
        "# Ejercicio\n",
        "\n",
        "- identificar el parametro que estratifica el split del experimento\n",
        "- ¿cómo se compara el performance del modelo de bayes multinomial con el de bayes gaussiano? Basado en las métricas, ¿cúal de los modelos es más útil?\n",
        "- remover las variables redundantes/altamente codependientes como 'Est Dia in M(min)' y 'Est Dia in Miles(min)'\n",
        "- ¿Que pasa con el accuracy en este ejercicio? ¿es el mejor indicador posible?"
      ]
    },
    {
      "cell_type": "markdown",
      "metadata": {},
      "source": []
    }
  ],
  "metadata": {
    "colab": {
      "provenance": []
    },
    "kernelspec": {
      "display_name": "Python 3",
      "name": "python3"
    },
    "language_info": {
      "codemirror_mode": {
        "name": "ipython",
        "version": 3
      },
      "file_extension": ".py",
      "mimetype": "text/x-python",
      "name": "python",
      "nbconvert_exporter": "python",
      "pygments_lexer": "ipython3",
      "version": "3.9.1"
    }
  },
  "nbformat": 4,
  "nbformat_minor": 0
}
