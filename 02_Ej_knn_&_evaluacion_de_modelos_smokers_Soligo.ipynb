{
  "cells": [
    {
      "cell_type": "code",
      "execution_count": null,
      "metadata": {
        "id": "P0xLtRswK9AV"
      },
      "outputs": [
        {
          "ename": "",
          "evalue": "",
          "output_type": "error",
          "traceback": [
            "\u001b[1;31mRunning cells with '.venv (Python 3.7.3)' requires the ipykernel package.\n",
            "\u001b[1;31mInstall 'ipykernel' into the Python environment. \n",
            "\u001b[1;31mCommand: 'c:/Users/Agustin/Documents/REPOS/CienciaDeDatos1Q2025/.venv/Scripts/python.exe -m pip install ipykernel -U --force-reinstall'"
          ]
        }
      ],
      "source": [
        "import pandas as pd\n",
        "import seaborn as sns\n",
        "import matplotlib.pyplot as plt\n",
        "\n",
        "from sklearn.preprocessing import StandardScaler\n",
        "from sklearn.model_selection import train_test_split\n",
        "from sklearn.neighbors import KNeighborsClassifier # vecinos más cercanos para clasificación\n",
        "from sklearn.metrics import accuracy_score # métrica de evaluación\n",
        "from sklearn.metrics import classification_report"
      ]
    },
    {
      "cell_type": "markdown",
      "metadata": {
        "id": "MIrmam4QK985"
      },
      "source": [
        "# Análisis Exploratorio"
      ]
    },
    {
      "cell_type": "code",
      "execution_count": null,
      "metadata": {
        "id": "5trwC-5EKCbk"
      },
      "outputs": [],
      "source": [
        "df_smokers = pd.read_csv('https://raw.githubusercontent.com/pokengineer/DataScience/main/datasets/smokers.csv')\n",
        "df_smokers.head(5)"
      ]
    },
    {
      "cell_type": "code",
      "execution_count": null,
      "metadata": {
        "id": "F2MaDIuQK5-k"
      },
      "outputs": [],
      "source": [
        "# verificamos los tipos de datos\n",
        "df_smokers.dtypes"
      ]
    },
    {
      "cell_type": "code",
      "execution_count": null,
      "metadata": {
        "id": "5Z_MYIBPLJxL"
      },
      "outputs": [],
      "source": [
        "print(\"Tamaño del dataframe : {}\".format(df_smokers.shape))"
      ]
    },
    {
      "cell_type": "code",
      "execution_count": null,
      "metadata": {
        "id": "fOt2OYnyMu8z"
      },
      "outputs": [],
      "source": [
        "# Verificamos si hay valores nulos para imputar\n",
        "df_smokers.isnull().sum()"
      ]
    },
    {
      "cell_type": "code",
      "execution_count": null,
      "metadata": {
        "id": "lOki9Ak_LgG7"
      },
      "outputs": [],
      "source": [
        "# Analisis de la distribución de la variable target \"smoking\"\n",
        "print( df_smokers.smoking.value_counts() )\n",
        "sns.countplot(x='smoking', data=df_smokers, hue='smoking', legend=False)"
      ]
    },
    {
      "cell_type": "code",
      "execution_count": null,
      "metadata": {
        "id": "dCqO7jUkME58"
      },
      "outputs": [],
      "source": [
        "plt.figure(figsize=(4, 8))\n",
        "s=sns.boxplot(x=\"smoking\", y=\"weight(kg)\", data=df_smokers, hue=\"smoking\", legend=False)\n",
        "s.plot()"
      ]
    },
    {
      "cell_type": "markdown",
      "metadata": {
        "id": "qcRRQADzNi6h"
      },
      "source": [
        "# Correlación de Variables"
      ]
    },
    {
      "cell_type": "code",
      "execution_count": null,
      "metadata": {
        "id": "tqPyTOWONRNN"
      },
      "outputs": [],
      "source": [
        "plt.figure(figsize=(14,7))\n",
        "sns.heatmap(df_smokers.corr(), annot=True, vmax=.7, cmap ='Blues', fmt=\".2f\")"
      ]
    },
    {
      "cell_type": "code",
      "execution_count": null,
      "metadata": {
        "id": "8gH15EmiORMU"
      },
      "outputs": [],
      "source": [
        "df_smokers_corr = df_smokers.corr()[[\"smoking\"]]*100 # lo pasamos a porcentajes\n",
        "df_smokers_corr = df_smokers_corr.drop(\"smoking\", axis=0) # eliminamos la variable target\n",
        "df_smokers_corr = df_smokers_corr.sort_values([\"smoking\"], ascending=False) # ordenamos en forma descendente\n",
        "df_smokers_corr = abs(df_smokers_corr) # nos interesa el valor absouluto\n",
        "df_smokers_corr"
      ]
    },
    {
      "cell_type": "markdown",
      "metadata": {
        "id": "RmZa5mOdPpku"
      },
      "source": [
        "# Seleccionamos y Escalamos las variables que vamos a utilizar"
      ]
    },
    {
      "cell_type": "markdown",
      "metadata": {},
      "source": [
        "Soligo: Acá Facundo con algun criterio de selección de variables que desconozco se quedó con 10 variables, ese código lo quité, usen su intuición o alguna herramienta de las vistas dentro del tiempo disponible."
      ]
    },
    {
      "cell_type": "code",
      "execution_count": null,
      "metadata": {
        "id": "23lNtoIIPo_D"
      },
      "outputs": [],
      "source": [
        "df = df_smokers"
      ]
    },
    {
      "cell_type": "code",
      "execution_count": null,
      "metadata": {
        "id": "drNcxQmpQhsE"
      },
      "outputs": [],
      "source": [
        "# Hacemos el Split 70-30 para train-test\n",
        "y_smokers = df[\"smoking\"]\n",
        "X_train, X_test, y_train, y_test = train_test_split(df.drop([\"smoking\"],axis = 1), y_smokers, test_size=0.3, stratify = y_smokers, random_state=42)"
      ]
    },
    {
      "cell_type": "code",
      "execution_count": null,
      "metadata": {},
      "outputs": [],
      "source": [
        "# usamos StandardScaler para escalar las variables\n",
        "scaler_X = StandardScaler(with_mean=True, with_std=True)\n",
        "scaler_X.fit(X_train) # entrenamos los valores quitandole la variable clase"
      ]
    },
    {
      "cell_type": "markdown",
      "metadata": {},
      "source": [
        "Soligo: Atención a este código ¿Porque mejor no escalar todo antes de dividir en entrenamiento y test?"
      ]
    },
    {
      "cell_type": "code",
      "execution_count": null,
      "metadata": {},
      "outputs": [],
      "source": [
        "X_train = scaler_X.transform(X_train)\n",
        "X_test = scaler_X.transform(X_test)"
      ]
    },
    {
      "cell_type": "code",
      "execution_count": null,
      "metadata": {
        "id": "I9NWyS9SQtty"
      },
      "outputs": [],
      "source": [
        "test_scores = []\n",
        "\n",
        "# Creamos y entrenamos el algoritmo con 20 valores de K\n",
        "for k in range(3,40,2):\n",
        "  knn = KNeighborsClassifier(k)\n",
        "  knn.fit(X_train,y_train) # Creamos y entrenamos el clasificador knn\n",
        "\n",
        "  # Para cada valor de K, evaluamos la capacidad de clasificación con datos de prueba\n",
        "  y_pred = knn.predict(X_test)\n",
        "  test_scores.append(accuracy_score(y_test, y_pred)) # Agregamos los K resultados de evaluación"
      ]
    },
    {
      "cell_type": "code",
      "execution_count": null,
      "metadata": {
        "id": "JcJaAYMJRW5s"
      },
      "outputs": [],
      "source": [
        "df_scores = pd.DataFrame([{\"k\":valor_k, \"score\":test_scores_k} for valor_k, test_scores_k in zip(range(3,40,2),test_scores)])\n",
        "plt.plot(df_scores[\"k\"], df_scores[\"score\"])"
      ]
    },
    {
      "cell_type": "code",
      "execution_count": null,
      "metadata": {},
      "outputs": [],
      "source": [
        "df_scores"
      ]
    },
    {
      "cell_type": "code",
      "execution_count": null,
      "metadata": {
        "id": "rabLQmQrm-x_"
      },
      "outputs": [],
      "source": [
        "# Entrenamos el algoritmo con el mejor K\n",
        "knn = KNeighborsClassifier( 11 )\n",
        "knn.fit(X_train,y_train) # Entrenamos el clasificador"
      ]
    },
    {
      "cell_type": "code",
      "execution_count": null,
      "metadata": {
        "id": "bblZ7wXonSJ7"
      },
      "outputs": [],
      "source": [
        "y_pred_knn = knn.predict(X_test)\n",
        "\n",
        "#Exactitud del modelo\n",
        "print('Exactitud (accuracy) del modelo: {:.2f} %'.format(accuracy_score(y_test, y_pred_knn)*100))\n",
        "print(\"-\"*100)\n",
        "\n",
        "# Reporte del clasificador\n",
        "from sklearn.metrics import classification_report\n",
        "print(classification_report(y_test,y_pred_knn))"
      ]
    },
    {
      "cell_type": "markdown",
      "metadata": {
        "id": "fVOQIHqXmAj8"
      },
      "source": [
        "# Ejercicio\n",
        "Dado el análisis exploratorio concluimos que no hace falta imputar variables y que la variable target esta balanceada.\n",
        "- Usando el mapa de calor de correlaciones, ¿que pares de columnas comparten más de un 0.7 de correlación?\n",
        "- Entrenar un modelo con K menor a 11, comparar los resultados\n",
        "- Entrenar un modelo con K mayor a 11, comparar los resultados\n",
        "- Entrenar un modelo con 3 variables, seleccionar un K apropiado y comparar los resultados\n",
        "- Seleccionar variables segun su intuición o usando herramientas vistas hasta ahora (Esta claro, no son muchas).\n",
        "- \"Feature Engineering\", Crear una columna nueva no redundante, entrenar un modelo y comparar los resultados"
      ]
    },
    {
      "cell_type": "code",
      "execution_count": null,
      "metadata": {
        "id": "eOyI-c2Cl9u0"
      },
      "outputs": [],
      "source": []
    },
    {
      "cell_type": "markdown",
      "metadata": {},
      "source": [
        "Anexo</BR>\n",
        "Sparsity-aware metrics</BR>\n",
        "Score=Accuracy×(1−Proporción de variables usadas)</BR>\n",
        "Mejor accuracy = 0.74</BR>\n",
        "Variables usadas = 4</BR>\n",
        "Total de variables = 21</BR>\n",
        "Proporcion = 4/21=0.19 1-.19 = 0.81</BR>\n",
        "ScoreFinal = 0.74*0.81 = 0.59\n",
        "\n"
      ]
    }
  ],
  "metadata": {
    "colab": {
      "provenance": []
    },
    "kernelspec": {
      "display_name": ".venv",
      "language": "python",
      "name": "python3"
    },
    "language_info": {
      "codemirror_mode": {
        "name": "ipython",
        "version": 3
      },
      "file_extension": ".py",
      "mimetype": "text/x-python",
      "name": "python",
      "nbconvert_exporter": "python",
      "pygments_lexer": "ipython3",
      "version": "3.7.3"
    }
  },
  "nbformat": 4,
  "nbformat_minor": 0
}
